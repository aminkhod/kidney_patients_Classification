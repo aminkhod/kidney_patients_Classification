{
 "cells": [
  {
   "cell_type": "code",
   "execution_count": 36,
   "metadata": {},
   "outputs": [],
   "source": [
    "from collections import Counter\n",
    "\n",
    "import matplotlib.pyplot as plt\n",
    "import seaborn as sns\n",
    "import pandas as pd\n",
    "import numpy as np \n",
    "\n",
    "from sklearn import preprocessing\n",
    "from sklearn.model_selection import train_test_split\n",
    "from sklearn.utils import shuffle\n",
    "# from sklearn.model_selection import train_test_split\n",
    "# from sklearn.model_selection import LeaveOneOut\n",
    "\n",
    "from sklearn.linear_model import LogisticRegression\n",
    "from sklearn.neighbors import KNeighborsClassifier\n",
    "from sklearn.ensemble import RandomForestClassifier\n",
    "from sklearn.naive_bayes import GaussianNB\n",
    "from sklearn.discriminant_analysis import LinearDiscriminantAnalysis\n",
    "from sklearn.tree import DecisionTreeClassifier\n",
    "from sklearn.svm import SVC\n",
    "from sklearn.ensemble import GradientBoostingClassifier\n",
    "from sklearn.ensemble import VotingClassifier\n",
    "\n",
    "from sklearn import metrics\n",
    "\n",
    "from scipy.stats import sem, t\n",
    "from scipy import mean\n",
    "\n",
    "#Oversampling\n",
    "# from imblearn.over_sampling import RandomOverSampler\n",
    "from kmeans_smote import KMeansSMOTE\n",
    "\n",
    "\n",
    "### multiprocessing\n",
    "#from multiprocessing.pool import Poolfrom collections import Counter\n",
    "\n",
    "import matplotlib.pyplot as plt\n",
    "import seaborn as sns\n",
    "\n",
    "from sklearn import preprocessing\n",
    "\n",
    "from sklearn.utils import shuffle\n",
    "# from sklearn.model_selection import train_test_split\n",
    "# from sklearn.model_selection import LeaveOneOut\n",
    "\n",
    "from sklearn.linear_model import LogisticRegression\n",
    "from sklearn.neighbors import KNeighborsClassifier\n",
    "from sklearn.ensemble import RandomForestClassifier\n",
    "from sklearn.naive_bayes import GaussianNB\n",
    "from sklearn.discriminant_analysis import LinearDiscriminantAnalysis\n",
    "from sklearn.tree import DecisionTreeClassifier\n",
    "from sklearn.svm import SVC\n",
    "from sklearn.ensemble import GradientBoostingClassifier\n",
    "from sklearn.ensemble import VotingClassifier\n",
    "\n",
    "from sklearn import metrics\n",
    "\n",
    "from scipy.stats import sem, t\n",
    "from scipy import mean\n",
    "\n",
    "#Oversampling\n",
    "# from imblearn.over_sampling import RandomOverSampler\n",
    "from kmeans_smote import KMeansSMOTE\n",
    "\n",
    "\n",
    "### multiprocessing\n",
    "from multiprocessing.pool import Pool"
   ]
  },
  {
   "cell_type": "code",
   "execution_count": 51,
   "metadata": {},
   "outputs": [
    {
     "name": "stdout",
     "output_type": "stream",
     "text": [
      "(922, 29)\n",
      "Index(['gender', 'age', 'SBP', 'BMI', 'Hb', 'Alb', 'Cr', 'CKD_stage',\n",
      "       'urinary occult blood', 'UPCR', 'hypertension', 'prevalence of CVD',\n",
      "       'diabetes', 'use of RAASi', 'use of CCB', 'use of diuretics',\n",
      "       'eGFR(0M)', 'eGFR(6M)', 'eGFR(12M)', 'eGFR(18M)', 'eGFR(24M)',\n",
      "       'eGFR(30M)', 'eGFR(36M)', 'eGFR(last visit)', 'fclass',\n",
      "       'etiology of CKD_1', 'etiology of CKD_2', 'etiology of CKD_3',\n",
      "       'etiology of CKD_4', 'CKD category_1', 'CKD category_2',\n",
      "       'CKD category_3', 'CKD category_4', 'CKD category_5', 'CKD category_6',\n",
      "       'CKD category_7', 'CKD category_8', 'CKD category_9', 'CKD category_10',\n",
      "       'CKD category_11', 'CKD category_12', 'proteinuria_0', 'proteinuria_1',\n",
      "       'UPCR category_1', 'UPCR category_2', 'UPCR category_3'],\n",
      "      dtype='object')\n"
     ]
    },
    {
     "data": {
      "text/plain": [
       "(922, 46)"
      ]
     },
     "execution_count": 51,
     "metadata": {},
     "output_type": "execute_result"
    }
   ],
   "source": [
    "data = pd.read_csv('C:\\\\Users\\\\Torabi\\\\Desktop\\\\prepared Data1.csv')\n",
    "print(data.shape)\n",
    "data.head()\n",
    "data = pd.get_dummies(data, columns=['etiology of CKD','CKD category','proteinuria', 'UPCR category'])\n",
    "data.columns\n",
    "\n",
    "cat0 = shuffle(data[data['fclass']==0])\n",
    "cat1 = shuffle(data[data['fclass']==1])\n",
    "cat2 = shuffle(data[data['fclass']==3])\n",
    "count = Counter(data['fclass'])\n",
    "print(data.columns)\n",
    "data.shape"
   ]
  },
  {
   "cell_type": "code",
   "execution_count": 54,
   "metadata": {},
   "outputs": [
    {
     "data": {
      "text/plain": [
       "(922, 46)"
      ]
     },
     "execution_count": 54,
     "metadata": {},
     "output_type": "execute_result"
    }
   ],
   "source": [
    "cat0.shape\n",
    "cat1\n",
    "lenCat0 = len(cat0.iloc[:,0])\n",
    "lenCat1 = len(cat1.iloc[:,0])\n",
    "lenCat2 = len(cat2.iloc[:,0])\n",
    "for j in range(5):\n",
    "\n",
    "        i = j*.1\n",
    "        k = (j+1)*.1\n",
    "        X_train = cat0.iloc[int(k * lenCat0):,:-1].append(\\\n",
    "                  cat1.iloc[int(k * lenCat1):,:-1].append(\\\n",
    "                  cat2.iloc[int(k * lenCat2):,:-1].append(\\\n",
    "                  cat0.iloc[int(k * lenCat0):,:-1].append(\\\n",
    "                  cat1.iloc[:int(i * lenCat1),:-1].append(\\\n",
    "                  cat2.iloc[:int(i * lenCat2),:-1])))))\n",
    "        \n",
    "        \n",
    "        \n",
    "        \n",
    "y_train = cat0.iloc[int(k * lenCat0):,-1].append(\\\n",
    "                  cat1.iloc[int(k * lenCat1):,-1].append(\\\n",
    "                  cat2.iloc[int(k * lenCat2):,-1].append(\\\n",
    "                  cat0.iloc[:int(i * lenCat0),-1].append(\\\n",
    "                  cat1.iloc[:int(i * lenCat1),-1].append(\\\n",
    "                  cat2.iloc[:int(i * lenCat2),-1])))))                                     \n",
    "                                                          \n",
    "                                                       \n",
    "        \n",
    "X_train.columns\n",
    "\n",
    "predict=data.fclass\n",
    "data.shape\n"
   ]
  },
  {
   "cell_type": "code",
   "execution_count": 55,
   "metadata": {
    "scrolled": true
   },
   "outputs": [
    {
     "ename": "AttributeError",
     "evalue": "'Series' object has no attribute 'counter'",
     "output_type": "error",
     "traceback": [
      "\u001b[1;31m---------------------------------------------------------------------------\u001b[0m",
      "\u001b[1;31mAttributeError\u001b[0m                            Traceback (most recent call last)",
      "\u001b[1;32m<ipython-input-55-d2ca814b2505>\u001b[0m in \u001b[0;36m<module>\u001b[1;34m\u001b[0m\n\u001b[1;32m----> 1\u001b[1;33m \u001b[0mpredict\u001b[0m\u001b[1;33m.\u001b[0m\u001b[0mcounter\u001b[0m\u001b[1;33m\u001b[0m\u001b[1;33m\u001b[0m\u001b[0m\n\u001b[0m",
      "\u001b[1;32mC:\\ProgramData\\Anaconda3\\lib\\site-packages\\pandas\\core\\generic.py\u001b[0m in \u001b[0;36m__getattr__\u001b[1;34m(self, name)\u001b[0m\n\u001b[0;32m   5065\u001b[0m             \u001b[1;32mif\u001b[0m \u001b[0mself\u001b[0m\u001b[1;33m.\u001b[0m\u001b[0m_info_axis\u001b[0m\u001b[1;33m.\u001b[0m\u001b[0m_can_hold_identifiers_and_holds_name\u001b[0m\u001b[1;33m(\u001b[0m\u001b[0mname\u001b[0m\u001b[1;33m)\u001b[0m\u001b[1;33m:\u001b[0m\u001b[1;33m\u001b[0m\u001b[1;33m\u001b[0m\u001b[0m\n\u001b[0;32m   5066\u001b[0m                 \u001b[1;32mreturn\u001b[0m \u001b[0mself\u001b[0m\u001b[1;33m[\u001b[0m\u001b[0mname\u001b[0m\u001b[1;33m]\u001b[0m\u001b[1;33m\u001b[0m\u001b[1;33m\u001b[0m\u001b[0m\n\u001b[1;32m-> 5067\u001b[1;33m             \u001b[1;32mreturn\u001b[0m \u001b[0mobject\u001b[0m\u001b[1;33m.\u001b[0m\u001b[0m__getattribute__\u001b[0m\u001b[1;33m(\u001b[0m\u001b[0mself\u001b[0m\u001b[1;33m,\u001b[0m \u001b[0mname\u001b[0m\u001b[1;33m)\u001b[0m\u001b[1;33m\u001b[0m\u001b[1;33m\u001b[0m\u001b[0m\n\u001b[0m\u001b[0;32m   5068\u001b[0m \u001b[1;33m\u001b[0m\u001b[0m\n\u001b[0;32m   5069\u001b[0m     \u001b[1;32mdef\u001b[0m \u001b[0m__setattr__\u001b[0m\u001b[1;33m(\u001b[0m\u001b[0mself\u001b[0m\u001b[1;33m,\u001b[0m \u001b[0mname\u001b[0m\u001b[1;33m,\u001b[0m \u001b[0mvalue\u001b[0m\u001b[1;33m)\u001b[0m\u001b[1;33m:\u001b[0m\u001b[1;33m\u001b[0m\u001b[1;33m\u001b[0m\u001b[0m\n",
      "\u001b[1;31mAttributeError\u001b[0m: 'Series' object has no attribute 'counter'"
     ]
    }
   ],
   "source": [
    "predict.counter"
   ]
  },
  {
   "cell_type": "code",
   "execution_count": 56,
   "metadata": {},
   "outputs": [
    {
     "data": {
      "text/plain": [
       "Counter({0: 611, 1: 212, 3: 99})"
      ]
     },
     "execution_count": 56,
     "metadata": {},
     "output_type": "execute_result"
    }
   ],
   "source": [
    "#classifier1/pishraft bimari \n",
    "count = Counter(data['fclass'])\n",
    "count\n"
   ]
  },
  {
   "cell_type": "code",
   "execution_count": 72,
   "metadata": {},
   "outputs": [],
   "source": [
    "cat0_numerical = cat0[[\"SBP\",\"BMI\",'Hb','Alb','Cr','UPCR','eGFR(0M)','eGFR(6M)','eGFR(12M)','eGFR(18M)','eGFR(24M)','eGFR(30M)','eGFR(36M)']]\n",
    "cat0_binary = cat0[['gender', 'age','CKD_stage','urinary occult blood', 'UPCR', 'hypertension', 'prevalence of CVD',\n",
    "       'diabetes', 'use of RAASi', 'use of CCB', 'use of diuretics',\n",
    "       'etiology of CKD_1', 'etiology of CKD_2', 'etiology of CKD_3',\n",
    "       'etiology of CKD_4', 'CKD category_1', 'CKD category_2',\n",
    "       'CKD category_3', 'CKD category_4', 'CKD category_5', 'CKD category_6',\n",
    "       'CKD category_7', 'CKD category_8', 'CKD category_9', 'CKD category_10',\n",
    "       'CKD category_11', 'CKD category_12', 'proteinuria_0', 'proteinuria_1',\n",
    "       'UPCR category_1', 'UPCR category_2', 'UPCR category_3']]\n",
    "\n",
    "cat1_numerical = cat1[[\"SBP\",\"BMI\",'Hb','Alb','Cr','UPCR','eGFR(0M)','eGFR(6M)','eGFR(12M)','eGFR(18M)','eGFR(24M)','eGFR(30M)','eGFR(36M)']]\n",
    "cat1_binary = cat1[['gender', 'age','CKD_stage','urinary occult blood', 'UPCR', 'hypertension', 'prevalence of CVD',\n",
    "       'diabetes', 'use of RAASi', 'use of CCB', 'use of diuretics',\n",
    "       'etiology of CKD_1', 'etiology of CKD_2', 'etiology of CKD_3',\n",
    "       'etiology of CKD_4', 'CKD category_1', 'CKD category_2',\n",
    "       'CKD category_3', 'CKD category_4', 'CKD category_5', 'CKD category_6',\n",
    "       'CKD category_7', 'CKD category_8', 'CKD category_9', 'CKD category_10',\n",
    "       'CKD category_11', 'CKD category_12', 'proteinuria_0', 'proteinuria_1',\n",
    "       'UPCR category_1', 'UPCR category_2', 'UPCR category_3']]\n",
    "\n",
    "\n",
    "cat2_numerical = cat2[[\"SBP\",\"BMI\",'Hb','Alb','Cr','UPCR','eGFR(0M)','eGFR(6M)','eGFR(12M)','eGFR(18M)','eGFR(24M)','eGFR(30M)','eGFR(36M)']]\n",
    "cat2_binary = cat2[['gender', 'age','CKD_stage','urinary occult blood', 'UPCR', 'hypertension', 'prevalence of CVD',\n",
    "       'diabetes', 'use of RAASi', 'use of CCB', 'use of diuretics',\n",
    "       'etiology of CKD_1', 'etiology of CKD_2', 'etiology of CKD_3',\n",
    "       'etiology of CKD_4', 'CKD category_1', 'CKD category_2',\n",
    "       'CKD category_3', 'CKD category_4', 'CKD category_5', 'CKD category_6',\n",
    "       'CKD category_7', 'CKD category_8', 'CKD category_9', 'CKD category_10',\n",
    "       'CKD category_11', 'CKD category_12', 'proteinuria_0', 'proteinuria_1',\n",
    "       'UPCR category_1', 'UPCR category_2', 'UPCR category_3']]\n"
   ]
  },
  {
   "cell_type": "code",
   "execution_count": 73,
   "metadata": {},
   "outputs": [
    {
     "data": {
      "text/html": [
       "<div>\n",
       "<style scoped>\n",
       "    .dataframe tbody tr th:only-of-type {\n",
       "        vertical-align: middle;\n",
       "    }\n",
       "\n",
       "    .dataframe tbody tr th {\n",
       "        vertical-align: top;\n",
       "    }\n",
       "\n",
       "    .dataframe thead th {\n",
       "        text-align: right;\n",
       "    }\n",
       "</style>\n",
       "<table border=\"1\" class=\"dataframe\">\n",
       "  <thead>\n",
       "    <tr style=\"text-align: right;\">\n",
       "      <th></th>\n",
       "      <th>SBP</th>\n",
       "      <th>BMI</th>\n",
       "      <th>Hb</th>\n",
       "      <th>Alb</th>\n",
       "      <th>Cr</th>\n",
       "      <th>UPCR</th>\n",
       "      <th>eGFR(0M)</th>\n",
       "      <th>eGFR(6M)</th>\n",
       "      <th>eGFR(12M)</th>\n",
       "      <th>eGFR(18M)</th>\n",
       "      <th>eGFR(24M)</th>\n",
       "      <th>eGFR(30M)</th>\n",
       "      <th>eGFR(36M)</th>\n",
       "    </tr>\n",
       "  </thead>\n",
       "  <tbody>\n",
       "    <tr>\n",
       "      <th>546</th>\n",
       "      <td>150.0</td>\n",
       "      <td>26.231819</td>\n",
       "      <td>15.7</td>\n",
       "      <td>4.2</td>\n",
       "      <td>1.93</td>\n",
       "      <td>2.125135</td>\n",
       "      <td>29.762682</td>\n",
       "      <td>33.335801</td>\n",
       "      <td>25.917568</td>\n",
       "      <td>29.973776</td>\n",
       "      <td>30.147318</td>\n",
       "      <td>31.418091</td>\n",
       "      <td>27.447859</td>\n",
       "    </tr>\n",
       "    <tr>\n",
       "      <th>447</th>\n",
       "      <td>122.0</td>\n",
       "      <td>23.096458</td>\n",
       "      <td>11.0</td>\n",
       "      <td>4.2</td>\n",
       "      <td>1.84</td>\n",
       "      <td>0.709585</td>\n",
       "      <td>30.598587</td>\n",
       "      <td>37.808072</td>\n",
       "      <td>37.003061</td>\n",
       "      <td>36.064239</td>\n",
       "      <td>29.138798</td>\n",
       "      <td>27.548710</td>\n",
       "      <td>27.277157</td>\n",
       "    </tr>\n",
       "    <tr>\n",
       "      <th>712</th>\n",
       "      <td>152.0</td>\n",
       "      <td>23.758726</td>\n",
       "      <td>10.8</td>\n",
       "      <td>3.9</td>\n",
       "      <td>3.20</td>\n",
       "      <td>1.935722</td>\n",
       "      <td>15.801494</td>\n",
       "      <td>13.042952</td>\n",
       "      <td>13.837710</td>\n",
       "      <td>12.454635</td>\n",
       "      <td>12.351968</td>\n",
       "      <td>13.095539</td>\n",
       "      <td>13.019757</td>\n",
       "    </tr>\n",
       "  </tbody>\n",
       "</table>\n",
       "</div>"
      ],
      "text/plain": [
       "       SBP        BMI    Hb  Alb    Cr      UPCR   eGFR(0M)   eGFR(6M)  \\\n",
       "546  150.0  26.231819  15.7  4.2  1.93  2.125135  29.762682  33.335801   \n",
       "447  122.0  23.096458  11.0  4.2  1.84  0.709585  30.598587  37.808072   \n",
       "712  152.0  23.758726  10.8  3.9  3.20  1.935722  15.801494  13.042952   \n",
       "\n",
       "     eGFR(12M)  eGFR(18M)  eGFR(24M)  eGFR(30M)  eGFR(36M)  \n",
       "546  25.917568  29.973776  30.147318  31.418091  27.447859  \n",
       "447  37.003061  36.064239  29.138798  27.548710  27.277157  \n",
       "712  13.837710  12.454635  12.351968  13.095539  13.019757  "
      ]
     },
     "execution_count": 73,
     "metadata": {},
     "output_type": "execute_result"
    }
   ],
   "source": [
    "cat0_numerical.head(3)"
   ]
  },
  {
   "cell_type": "code",
   "execution_count": 74,
   "metadata": {},
   "outputs": [
    {
     "data": {
      "text/html": [
       "<div>\n",
       "<style scoped>\n",
       "    .dataframe tbody tr th:only-of-type {\n",
       "        vertical-align: middle;\n",
       "    }\n",
       "\n",
       "    .dataframe tbody tr th {\n",
       "        vertical-align: top;\n",
       "    }\n",
       "\n",
       "    .dataframe thead th {\n",
       "        text-align: right;\n",
       "    }\n",
       "</style>\n",
       "<table border=\"1\" class=\"dataframe\">\n",
       "  <thead>\n",
       "    <tr style=\"text-align: right;\">\n",
       "      <th></th>\n",
       "      <th>gender</th>\n",
       "      <th>age</th>\n",
       "      <th>CKD_stage</th>\n",
       "      <th>urinary occult blood</th>\n",
       "      <th>UPCR</th>\n",
       "      <th>hypertension</th>\n",
       "      <th>prevalence of CVD</th>\n",
       "      <th>diabetes</th>\n",
       "      <th>use of RAASi</th>\n",
       "      <th>use of CCB</th>\n",
       "      <th>...</th>\n",
       "      <th>CKD category_8</th>\n",
       "      <th>CKD category_9</th>\n",
       "      <th>CKD category_10</th>\n",
       "      <th>CKD category_11</th>\n",
       "      <th>CKD category_12</th>\n",
       "      <th>proteinuria_0</th>\n",
       "      <th>proteinuria_1</th>\n",
       "      <th>UPCR category_1</th>\n",
       "      <th>UPCR category_2</th>\n",
       "      <th>UPCR category_3</th>\n",
       "    </tr>\n",
       "  </thead>\n",
       "  <tbody>\n",
       "    <tr>\n",
       "      <th>546</th>\n",
       "      <td>1</td>\n",
       "      <td>56</td>\n",
       "      <td>4</td>\n",
       "      <td>0</td>\n",
       "      <td>2.125135</td>\n",
       "      <td>1</td>\n",
       "      <td>0</td>\n",
       "      <td>1</td>\n",
       "      <td>1</td>\n",
       "      <td>0</td>\n",
       "      <td>...</td>\n",
       "      <td>0</td>\n",
       "      <td>1</td>\n",
       "      <td>0</td>\n",
       "      <td>0</td>\n",
       "      <td>0</td>\n",
       "      <td>0</td>\n",
       "      <td>1</td>\n",
       "      <td>0</td>\n",
       "      <td>0</td>\n",
       "      <td>1</td>\n",
       "    </tr>\n",
       "    <tr>\n",
       "      <th>447</th>\n",
       "      <td>1</td>\n",
       "      <td>61</td>\n",
       "      <td>3</td>\n",
       "      <td>1</td>\n",
       "      <td>0.709585</td>\n",
       "      <td>1</td>\n",
       "      <td>0</td>\n",
       "      <td>0</td>\n",
       "      <td>1</td>\n",
       "      <td>0</td>\n",
       "      <td>...</td>\n",
       "      <td>0</td>\n",
       "      <td>0</td>\n",
       "      <td>0</td>\n",
       "      <td>0</td>\n",
       "      <td>0</td>\n",
       "      <td>0</td>\n",
       "      <td>1</td>\n",
       "      <td>0</td>\n",
       "      <td>0</td>\n",
       "      <td>1</td>\n",
       "    </tr>\n",
       "    <tr>\n",
       "      <th>712</th>\n",
       "      <td>1</td>\n",
       "      <td>74</td>\n",
       "      <td>4</td>\n",
       "      <td>0</td>\n",
       "      <td>1.935722</td>\n",
       "      <td>1</td>\n",
       "      <td>1</td>\n",
       "      <td>0</td>\n",
       "      <td>1</td>\n",
       "      <td>0</td>\n",
       "      <td>...</td>\n",
       "      <td>0</td>\n",
       "      <td>0</td>\n",
       "      <td>0</td>\n",
       "      <td>0</td>\n",
       "      <td>0</td>\n",
       "      <td>0</td>\n",
       "      <td>1</td>\n",
       "      <td>0</td>\n",
       "      <td>0</td>\n",
       "      <td>1</td>\n",
       "    </tr>\n",
       "  </tbody>\n",
       "</table>\n",
       "<p>3 rows × 32 columns</p>\n",
       "</div>"
      ],
      "text/plain": [
       "     gender  age  CKD_stage  urinary occult blood      UPCR  hypertension  \\\n",
       "546       1   56          4                     0  2.125135             1   \n",
       "447       1   61          3                     1  0.709585             1   \n",
       "712       1   74          4                     0  1.935722             1   \n",
       "\n",
       "     prevalence of CVD  diabetes  use of RAASi  use of CCB  ...  \\\n",
       "546                  0         1             1           0  ...   \n",
       "447                  0         0             1           0  ...   \n",
       "712                  1         0             1           0  ...   \n",
       "\n",
       "     CKD category_8  CKD category_9  CKD category_10  CKD category_11  \\\n",
       "546               0               1                0                0   \n",
       "447               0               0                0                0   \n",
       "712               0               0                0                0   \n",
       "\n",
       "     CKD category_12  proteinuria_0  proteinuria_1  UPCR category_1  \\\n",
       "546                0              0              1                0   \n",
       "447                0              0              1                0   \n",
       "712                0              0              1                0   \n",
       "\n",
       "     UPCR category_2  UPCR category_3  \n",
       "546                0                1  \n",
       "447                0                1  \n",
       "712                0                1  \n",
       "\n",
       "[3 rows x 32 columns]"
      ]
     },
     "execution_count": 74,
     "metadata": {},
     "output_type": "execute_result"
    }
   ],
   "source": [
    "cat0_binary.head(3)"
   ]
  },
  {
   "cell_type": "code",
   "execution_count": 75,
   "metadata": {},
   "outputs": [],
   "source": [
    "#scalar = preprocessing.StandardScaler().fit(cat0_numerical)\n",
    "#X_train_transformed = scaler.transform(cat0_numerical)\n",
    "cat0_numerical_n=(cat0_numerical-cat0_numerical.min())/(cat0_numerical.max()-cat0_numerical.min())\n",
    "cat1_numerical_n=(cat1_numerical-cat1_numerical.min())/(cat1_numerical.max()-cat1_numerical.min())\n",
    "cat2_numerical_n=(cat2_numerical-cat1_numerical.min())/(cat2_numerical.max()-cat2_numerical.min())"
   ]
  },
  {
   "cell_type": "code",
   "execution_count": 76,
   "metadata": {},
   "outputs": [],
   "source": [
    "df=np.concatenate((cat0_numerical_n,cat0_binary), axis=1)\n",
    "df2=np.concatenate((cat1_numerical_n,cat1_binary), axis=1)\n",
    "df3=np.concatenate((cat2_numerical_n,cat2_binary), axis=1)\n",
    "\n"
   ]
  },
  {
   "cell_type": "code",
   "execution_count": 77,
   "metadata": {},
   "outputs": [
    {
     "data": {
      "text/plain": [
       "(611, 13)"
      ]
     },
     "execution_count": 77,
     "metadata": {},
     "output_type": "execute_result"
    }
   ],
   "source": [
    "cat0_numerical_n.shape"
   ]
  },
  {
   "cell_type": "code",
   "execution_count": 78,
   "metadata": {},
   "outputs": [
    {
     "data": {
      "text/plain": [
       "(611, 45)"
      ]
     },
     "execution_count": 78,
     "metadata": {},
     "output_type": "execute_result"
    }
   ],
   "source": [
    "df.shape"
   ]
  },
  {
   "cell_type": "code",
   "execution_count": 79,
   "metadata": {},
   "outputs": [
    {
     "data": {
      "text/plain": [
       "(212, 45)"
      ]
     },
     "execution_count": 79,
     "metadata": {},
     "output_type": "execute_result"
    }
   ],
   "source": [
    "df2.shape"
   ]
  },
  {
   "cell_type": "code",
   "execution_count": 82,
   "metadata": {},
   "outputs": [],
   "source": [
    "datat=np.concatenate((df,df2,df3), axis=0)\n"
   ]
  },
  {
   "cell_type": "code",
   "execution_count": null,
   "metadata": {},
   "outputs": [],
   "source": []
  },
  {
   "cell_type": "code",
   "execution_count": null,
   "metadata": {},
   "outputs": [],
   "source": [
    "\n",
    "\n"
   ]
  },
  {
   "cell_type": "code",
   "execution_count": 84,
   "metadata": {},
   "outputs": [],
   "source": [
    "X_train, X_test, y_train, y_test = train_test_split(datat, predict, test_size=0.3,random_state=1)"
   ]
  },
  {
   "cell_type": "code",
   "execution_count": 90,
   "metadata": {},
   "outputs": [
    {
     "name": "stdout",
     "output_type": "stream",
     "text": [
      "Accuracy: 0.607 (0.072)\n",
      "[[85  2 92]\n",
      " [27  1 34]\n",
      " [11  0 25]]\n",
      "              precision    recall  f1-score   support\n",
      "\n",
      "           0       0.69      0.47      0.56       179\n",
      "           1       0.33      0.02      0.03        62\n",
      "           3       0.17      0.69      0.27        36\n",
      "\n",
      "   micro avg       0.40      0.40      0.40       277\n",
      "   macro avg       0.40      0.40      0.29       277\n",
      "weighted avg       0.54      0.40      0.41       277\n",
      "\n",
      "0.4007220216606498\n"
     ]
    }
   ],
   "source": [
    "#boosting_classifier\n",
    "from numpy import mean\n",
    "from numpy import std\n",
    "from sklearn.datasets import make_classification\n",
    "from sklearn.ensemble import GradientBoostingClassifier\n",
    "from sklearn.model_selection import cross_val_score\n",
    "from sklearn.model_selection import RepeatedStratifiedKFold\n",
    "from matplotlib import pyplot\n",
    "# define dataset\n",
    "model = GradientBoostingClassifier()\n",
    "cv = RepeatedStratifiedKFold(n_splits=10, n_repeats=3, random_state=1)\n",
    "n_scores = cross_val_score(model, X_test, y_test, scoring='accuracy', cv=cv, n_jobs=-1, error_score='raise')\n",
    "print('Accuracy: %.3f (%.3f)' % (mean(n_scores), std(n_scores)))\n",
    "# fit the model on the whole dataset\n",
    "model = GradientBoostingClassifier(learning_rate=10,n_estimators=50,min_samples_split=10)\n",
    "model.fit(X_train,y_train)\n",
    "y_pred = model.predict(X_test)\n",
    "cnf_matrix = metrics.confusion_matrix(y_test, y_pred)\n",
    "print(cnf_matrix)\n",
    "from sklearn.metrics import classification_report\n",
    "print(classification_report(y_test,y_pred))\n",
    "acc = metrics.accuracy_score(y_test, y_pred)\n",
    "print (acc)\n"
   ]
  },
  {
   "cell_type": "code",
   "execution_count": 69,
   "metadata": {},
   "outputs": [
    {
     "name": "stdout",
     "output_type": "stream",
     "text": [
      "Collecting xgboost\n",
      "  Downloading https://files.pythonhosted.org/packages/63/85/15ec7550b867a745f2e4fc929c72f053feb620b2d2117ab344afbfa5a53b/xgboost-1.3.0.post0-py3-none-win_amd64.whl (95.2MB)\n",
      "Note: you may need to restart the kernel to use updated packages.\n"
     ]
    },
    {
     "name": "stderr",
     "output_type": "stream",
     "text": [
      "Exception:\n",
      "Traceback (most recent call last):\n",
      "  File \"C:\\ProgramData\\Anaconda3\\lib\\site-packages\\pip\\_vendor\\urllib3\\response.py\", line 360, in _error_catcher\n",
      "    yield\n",
      "  File \"C:\\ProgramData\\Anaconda3\\lib\\site-packages\\pip\\_vendor\\urllib3\\response.py\", line 442, in read\n",
      "    data = self._fp.read(amt)\n",
      "  File \"C:\\ProgramData\\Anaconda3\\lib\\site-packages\\pip\\_vendor\\cachecontrol\\filewrapper.py\", line 62, in read\n",
      "    data = self.__fp.read(amt)\n",
      "  File \"C:\\ProgramData\\Anaconda3\\lib\\http\\client.py\", line 447, in read\n",
      "    n = self.readinto(b)\n",
      "  File \"C:\\ProgramData\\Anaconda3\\lib\\http\\client.py\", line 491, in readinto\n",
      "    n = self.fp.readinto(b)\n",
      "  File \"C:\\ProgramData\\Anaconda3\\lib\\socket.py\", line 589, in readinto\n",
      "    return self._sock.recv_into(b)\n",
      "  File \"C:\\ProgramData\\Anaconda3\\lib\\ssl.py\", line 1052, in recv_into\n",
      "    return self.read(nbytes, buffer)\n",
      "  File \"C:\\ProgramData\\Anaconda3\\lib\\ssl.py\", line 911, in read\n",
      "    return self._sslobj.read(len, buffer)\n",
      "socket.timeout: The read operation timed out\n",
      "\n",
      "During handling of the above exception, another exception occurred:\n",
      "\n",
      "Traceback (most recent call last):\n",
      "  File \"C:\\ProgramData\\Anaconda3\\lib\\site-packages\\pip\\_internal\\cli\\base_command.py\", line 179, in main\n",
      "    status = self.run(options, args)\n",
      "  File \"C:\\ProgramData\\Anaconda3\\lib\\site-packages\\pip\\_internal\\commands\\install.py\", line 315, in run\n",
      "    resolver.resolve(requirement_set)\n",
      "  File \"C:\\ProgramData\\Anaconda3\\lib\\site-packages\\pip\\_internal\\resolve.py\", line 131, in resolve\n",
      "    self._resolve_one(requirement_set, req)\n",
      "  File \"C:\\ProgramData\\Anaconda3\\lib\\site-packages\\pip\\_internal\\resolve.py\", line 294, in _resolve_one\n",
      "    abstract_dist = self._get_abstract_dist_for(req_to_install)\n",
      "  File \"C:\\ProgramData\\Anaconda3\\lib\\site-packages\\pip\\_internal\\resolve.py\", line 242, in _get_abstract_dist_for\n",
      "    self.require_hashes\n",
      "  File \"C:\\ProgramData\\Anaconda3\\lib\\site-packages\\pip\\_internal\\operations\\prepare.py\", line 334, in prepare_linked_requirement\n",
      "    progress_bar=self.progress_bar\n",
      "  File \"C:\\ProgramData\\Anaconda3\\lib\\site-packages\\pip\\_internal\\download.py\", line 878, in unpack_url\n",
      "    progress_bar=progress_bar\n",
      "  File \"C:\\ProgramData\\Anaconda3\\lib\\site-packages\\pip\\_internal\\download.py\", line 702, in unpack_http_url\n",
      "    progress_bar)\n",
      "  File \"C:\\ProgramData\\Anaconda3\\lib\\site-packages\\pip\\_internal\\download.py\", line 946, in _download_http_url\n",
      "    _download_url(resp, link, content_file, hashes, progress_bar)\n",
      "  File \"C:\\ProgramData\\Anaconda3\\lib\\site-packages\\pip\\_internal\\download.py\", line 639, in _download_url\n",
      "    hashes.check_against_chunks(downloaded_chunks)\n",
      "  File \"C:\\ProgramData\\Anaconda3\\lib\\site-packages\\pip\\_internal\\utils\\hashes.py\", line 62, in check_against_chunks\n",
      "    for chunk in chunks:\n",
      "  File \"C:\\ProgramData\\Anaconda3\\lib\\site-packages\\pip\\_internal\\download.py\", line 607, in written_chunks\n",
      "    for chunk in chunks:\n",
      "  File \"C:\\ProgramData\\Anaconda3\\lib\\site-packages\\pip\\_internal\\utils\\ui.py\", line 159, in iter\n",
      "    for x in it:\n",
      "  File \"C:\\ProgramData\\Anaconda3\\lib\\site-packages\\pip\\_internal\\download.py\", line 596, in resp_read\n",
      "    decode_content=False):\n",
      "  File \"C:\\ProgramData\\Anaconda3\\lib\\site-packages\\pip\\_vendor\\urllib3\\response.py\", line 494, in stream\n",
      "    data = self.read(amt=amt, decode_content=decode_content)\n",
      "  File \"C:\\ProgramData\\Anaconda3\\lib\\site-packages\\pip\\_vendor\\urllib3\\response.py\", line 459, in read\n",
      "    raise IncompleteRead(self._fp_bytes_read, self.length_remaining)\n",
      "  File \"C:\\ProgramData\\Anaconda3\\lib\\contextlib.py\", line 130, in __exit__\n",
      "    self.gen.throw(type, value, traceback)\n",
      "  File \"C:\\ProgramData\\Anaconda3\\lib\\site-packages\\pip\\_vendor\\urllib3\\response.py\", line 365, in _error_catcher\n",
      "    raise ReadTimeoutError(self._pool, None, 'Read timed out.')\n",
      "pip._vendor.urllib3.exceptions.ReadTimeoutError: HTTPSConnectionPool(host='files.pythonhosted.org', port=443): Read timed out.\n"
     ]
    }
   ],
   "source": [
    "pip install xgboost\n"
   ]
  },
  {
   "cell_type": "code",
   "execution_count": 1,
   "metadata": {},
   "outputs": [
    {
     "ename": "ModuleNotFoundError",
     "evalue": "No module named 'xgboost'",
     "output_type": "error",
     "traceback": [
      "\u001b[1;31m---------------------------------------------------------------------------\u001b[0m",
      "\u001b[1;31mModuleNotFoundError\u001b[0m                       Traceback (most recent call last)",
      "\u001b[1;32m<ipython-input-1-43834a3cf694>\u001b[0m in \u001b[0;36m<module>\u001b[1;34m\u001b[0m\n\u001b[0;32m      1\u001b[0m \u001b[1;33m\u001b[0m\u001b[0m\n\u001b[1;32m----> 2\u001b[1;33m \u001b[1;32mimport\u001b[0m \u001b[0mxgboost\u001b[0m\u001b[1;33m\u001b[0m\u001b[1;33m\u001b[0m\u001b[0m\n\u001b[0m\u001b[0;32m      3\u001b[0m \u001b[1;31m#xgboost for classification\u001b[0m\u001b[1;33m\u001b[0m\u001b[1;33m\u001b[0m\u001b[1;33m\u001b[0m\u001b[0m\n\u001b[0;32m      4\u001b[0m \u001b[1;32mfrom\u001b[0m \u001b[0mnumpy\u001b[0m \u001b[1;32mimport\u001b[0m \u001b[0masarray\u001b[0m\u001b[1;33m\u001b[0m\u001b[1;33m\u001b[0m\u001b[0m\n\u001b[0;32m      5\u001b[0m \u001b[1;32mfrom\u001b[0m \u001b[0mnumpy\u001b[0m \u001b[1;32mimport\u001b[0m \u001b[0mmean\u001b[0m\u001b[1;33m\u001b[0m\u001b[1;33m\u001b[0m\u001b[0m\n",
      "\u001b[1;31mModuleNotFoundError\u001b[0m: No module named 'xgboost'"
     ]
    }
   ],
   "source": [
    "\n",
    "import xgboost\n",
    "#xgboost for classification\n",
    "from numpy import asarray\n",
    "from numpy import mean\n",
    "from numpy import std\n",
    "from sklearn.datasets import make_classification\n",
    "from xgboost import XGBClassifier\n",
    "from sklearn.model_selection import cross_val_score\n",
    "from sklearn.model_selection import RepeatedStratifiedKFold\n",
    "from matplotlib import pyplot\n",
    "\n",
    "model = XGBClassifier()\n",
    "cv = RepeatedStratifiedKFold(n_splits=10, n_repeats=3, random_state=1)\n",
    "n_scores = cross_val_score(model, X_test, y_test, scoring='accuracy', cv=cv, n_jobs=-1, error_score='raise')\n",
    "print('Accuracy: %.3f (%.3f)' % (mean(n_scores), std(n_scores)))\n",
    "# fit the model on the whole dataset\n",
    "model = XGBClassifier()\n",
    "model.fit(X_train, y_train)\n",
    "# make a single prediction\n",
    "from sklearn.metrics import classification_report\n",
    "print(classification_report(y_test,y_pred))\n",
    "acc = metrics.accuracy_score(y_test, y_pred)\n",
    "print (acc)\n",
    "\n",
    "\n",
    "\n",
    "\n"
   ]
  },
  {
   "cell_type": "code",
   "execution_count": 87,
   "metadata": {},
   "outputs": [
    {
     "name": "stdout",
     "output_type": "stream",
     "text": [
      "[[101  56  22]\n",
      " [ 36  20   6]\n",
      " [ 22   9   5]]\n",
      "              precision    recall  f1-score   support\n",
      "\n",
      "           0       0.64      0.56      0.60       179\n",
      "           1       0.24      0.32      0.27        62\n",
      "           3       0.15      0.14      0.14        36\n",
      "\n",
      "   micro avg       0.45      0.45      0.45       277\n",
      "   macro avg       0.34      0.34      0.34       277\n",
      "weighted avg       0.48      0.45      0.47       277\n",
      "\n",
      "0.4548736462093863\n"
     ]
    }
   ],
   "source": [
    "#svm\n",
    "CL = SVC(kernel='rbf',gamma=0.1,class_weight='balanced', C=1)\n",
    "model = CL.fit(X_train,y_train )\n",
    "model.predict(X_test)\n",
    "y_pred = model.predict(X_test)\n",
    "cnf_matrix = metrics.confusion_matrix( y_test, y_pred)\n",
    "print(cnf_matrix)\n",
    "from sklearn.metrics import classification_report\n",
    "print(classification_report(y_test,y_pred))\n",
    "acc = metrics.accuracy_score(y_test, y_pred)\n",
    "print (acc)\n"
   ]
  },
  {
   "cell_type": "code",
   "execution_count": null,
   "metadata": {},
   "outputs": [
    {
     "name": "stdout",
     "output_type": "stream",
     "text": [
      "Fitting 3 folds for each of 48 candidates, totalling 144 fits\n",
      "[CV] C=0.1, gamma=1, kernel=poly .....................................\n"
     ]
    },
    {
     "name": "stderr",
     "output_type": "stream",
     "text": [
      "C:\\ProgramData\\Anaconda3\\lib\\site-packages\\sklearn\\model_selection\\_split.py:2053: FutureWarning: You should specify a value for 'cv' instead of relying on the default value. The default value will change from 3 to 5 in version 0.22.\n",
      "  warnings.warn(CV_WARNING, FutureWarning)\n",
      "[Parallel(n_jobs=1)]: Using backend SequentialBackend with 1 concurrent workers.\n"
     ]
    },
    {
     "name": "stdout",
     "output_type": "stream",
     "text": [
      "[CV]  C=0.1, gamma=1, kernel=poly, score=0.5953488372093023, total=30.2min\n",
      "[CV] C=0.1, gamma=1, kernel=poly .....................................\n"
     ]
    },
    {
     "name": "stderr",
     "output_type": "stream",
     "text": [
      "[Parallel(n_jobs=1)]: Done   1 out of   1 | elapsed: 30.2min remaining:    0.0s\n"
     ]
    },
    {
     "name": "stdout",
     "output_type": "stream",
     "text": [
      "[CV]  C=0.1, gamma=1, kernel=poly, score=0.5441860465116279, total=26.6min\n",
      "[CV] C=0.1, gamma=1, kernel=poly .....................................\n"
     ]
    },
    {
     "name": "stderr",
     "output_type": "stream",
     "text": [
      "[Parallel(n_jobs=1)]: Done   2 out of   2 | elapsed: 56.8min remaining:    0.0s\n"
     ]
    },
    {
     "name": "stdout",
     "output_type": "stream",
     "text": [
      "[CV]  C=0.1, gamma=1, kernel=poly, score=0.5581395348837209, total=37.7min\n",
      "[CV] C=0.1, gamma=1, kernel=rbf ......................................\n",
      "[CV]  C=0.1, gamma=1, kernel=rbf, score=0.6651162790697674, total=   0.0s\n",
      "[CV] C=0.1, gamma=1, kernel=rbf ......................................\n",
      "[CV]  C=0.1, gamma=1, kernel=rbf, score=0.6651162790697674, total=   0.0s\n",
      "[CV] C=0.1, gamma=1, kernel=rbf ......................................\n",
      "[CV]  C=0.1, gamma=1, kernel=rbf, score=0.6651162790697674, total=   0.0s\n",
      "[CV] C=0.1, gamma=1, kernel=sigmoid ..................................\n",
      "[CV]  C=0.1, gamma=1, kernel=sigmoid, score=0.6651162790697674, total=   0.0s\n",
      "[CV] C=0.1, gamma=1, kernel=sigmoid ..................................\n",
      "[CV]  C=0.1, gamma=1, kernel=sigmoid, score=0.6651162790697674, total=   0.0s\n",
      "[CV] C=0.1, gamma=1, kernel=sigmoid ..................................\n",
      "[CV]  C=0.1, gamma=1, kernel=sigmoid, score=0.6651162790697674, total=   0.0s\n",
      "[CV] C=0.1, gamma=1, kernel=linear ...................................\n",
      "[CV]  C=0.1, gamma=1, kernel=linear, score=0.6651162790697674, total=   0.4s\n",
      "[CV] C=0.1, gamma=1, kernel=linear ...................................\n",
      "[CV]  C=0.1, gamma=1, kernel=linear, score=0.6651162790697674, total=   0.2s\n",
      "[CV] C=0.1, gamma=1, kernel=linear ...................................\n",
      "[CV]  C=0.1, gamma=1, kernel=linear, score=0.6651162790697674, total=   0.3s\n",
      "[CV] C=0.1, gamma=0.1, kernel=poly ...................................\n",
      "[CV]  C=0.1, gamma=0.1, kernel=poly, score=0.5953488372093023, total=12.5min\n",
      "[CV] C=0.1, gamma=0.1, kernel=poly ...................................\n",
      "[CV]  C=0.1, gamma=0.1, kernel=poly, score=0.5813953488372093, total=28.0min\n",
      "[CV] C=0.1, gamma=0.1, kernel=poly ...................................\n",
      "[CV]  C=0.1, gamma=0.1, kernel=poly, score=0.5813953488372093, total= 4.5min\n",
      "[CV] C=0.1, gamma=0.1, kernel=rbf ....................................\n",
      "[CV]  C=0.1, gamma=0.1, kernel=rbf, score=0.6651162790697674, total=   0.0s\n",
      "[CV] C=0.1, gamma=0.1, kernel=rbf ....................................\n",
      "[CV]  C=0.1, gamma=0.1, kernel=rbf, score=0.6651162790697674, total=   0.0s\n",
      "[CV] C=0.1, gamma=0.1, kernel=rbf ....................................\n",
      "[CV]  C=0.1, gamma=0.1, kernel=rbf, score=0.6651162790697674, total=   0.0s\n",
      "[CV] C=0.1, gamma=0.1, kernel=sigmoid ................................\n",
      "[CV]  C=0.1, gamma=0.1, kernel=sigmoid, score=0.6651162790697674, total=   0.0s\n",
      "[CV] C=0.1, gamma=0.1, kernel=sigmoid ................................\n",
      "[CV]  C=0.1, gamma=0.1, kernel=sigmoid, score=0.6651162790697674, total=   0.0s\n",
      "[CV] C=0.1, gamma=0.1, kernel=sigmoid ................................\n",
      "[CV]  C=0.1, gamma=0.1, kernel=sigmoid, score=0.6651162790697674, total=   0.0s\n",
      "[CV] C=0.1, gamma=0.1, kernel=linear .................................\n",
      "[CV]  C=0.1, gamma=0.1, kernel=linear, score=0.6651162790697674, total=   0.3s\n",
      "[CV] C=0.1, gamma=0.1, kernel=linear .................................\n",
      "[CV]  C=0.1, gamma=0.1, kernel=linear, score=0.6651162790697674, total=   0.1s\n",
      "[CV] C=0.1, gamma=0.1, kernel=linear .................................\n",
      "[CV]  C=0.1, gamma=0.1, kernel=linear, score=0.6651162790697674, total=   0.2s\n",
      "[CV] C=0.1, gamma=0.01, kernel=poly ..................................\n",
      "[CV]  C=0.1, gamma=0.01, kernel=poly, score=0.6744186046511628, total=   2.3s\n",
      "[CV] C=0.1, gamma=0.01, kernel=poly ..................................\n",
      "[CV]  C=0.1, gamma=0.01, kernel=poly, score=0.6558139534883721, total=   1.3s\n",
      "[CV] C=0.1, gamma=0.01, kernel=poly ..................................\n",
      "[CV]  C=0.1, gamma=0.01, kernel=poly, score=0.6744186046511628, total=   4.2s\n",
      "[CV] C=0.1, gamma=0.01, kernel=rbf ...................................\n",
      "[CV]  C=0.1, gamma=0.01, kernel=rbf, score=0.6651162790697674, total=   0.0s\n",
      "[CV] C=0.1, gamma=0.01, kernel=rbf ...................................\n",
      "[CV]  C=0.1, gamma=0.01, kernel=rbf, score=0.6651162790697674, total=   0.0s\n",
      "[CV] C=0.1, gamma=0.01, kernel=rbf ...................................\n",
      "[CV]  C=0.1, gamma=0.01, kernel=rbf, score=0.6651162790697674, total=   0.0s\n",
      "[CV] C=0.1, gamma=0.01, kernel=sigmoid ...............................\n",
      "[CV]  C=0.1, gamma=0.01, kernel=sigmoid, score=0.6651162790697674, total=   0.0s\n",
      "[CV] C=0.1, gamma=0.01, kernel=sigmoid ...............................\n",
      "[CV]  C=0.1, gamma=0.01, kernel=sigmoid, score=0.6651162790697674, total=   0.0s\n",
      "[CV] C=0.1, gamma=0.01, kernel=sigmoid ...............................\n",
      "[CV]  C=0.1, gamma=0.01, kernel=sigmoid, score=0.6651162790697674, total=   0.0s\n",
      "[CV] C=0.1, gamma=0.01, kernel=linear ................................\n",
      "[CV]  C=0.1, gamma=0.01, kernel=linear, score=0.6651162790697674, total=   0.3s\n",
      "[CV] C=0.1, gamma=0.01, kernel=linear ................................\n",
      "[CV]  C=0.1, gamma=0.01, kernel=linear, score=0.6651162790697674, total=   0.1s\n",
      "[CV] C=0.1, gamma=0.01, kernel=linear ................................\n",
      "[CV]  C=0.1, gamma=0.01, kernel=linear, score=0.6651162790697674, total=   0.2s\n",
      "[CV] C=1, gamma=1, kernel=poly .......................................\n",
      "[CV]  C=1, gamma=1, kernel=poly, score=0.5953488372093023, total=60.4min\n",
      "[CV] C=1, gamma=1, kernel=poly .......................................\n",
      "[CV]  C=1, gamma=1, kernel=poly, score=0.5441860465116279, total=41.6min\n",
      "[CV] C=1, gamma=1, kernel=poly .......................................\n",
      "[CV]  C=1, gamma=1, kernel=poly, score=0.5767441860465117, total=32.9min\n",
      "[CV] C=1, gamma=1, kernel=rbf ........................................\n",
      "[CV]  C=1, gamma=1, kernel=rbf, score=0.6651162790697674, total=   0.0s\n",
      "[CV] C=1, gamma=1, kernel=rbf ........................................\n",
      "[CV]  C=1, gamma=1, kernel=rbf, score=0.6744186046511628, total=   0.0s\n",
      "[CV] C=1, gamma=1, kernel=rbf ........................................\n",
      "[CV]  C=1, gamma=1, kernel=rbf, score=0.6697674418604651, total=   0.0s\n",
      "[CV] C=1, gamma=1, kernel=sigmoid ....................................\n",
      "[CV]  C=1, gamma=1, kernel=sigmoid, score=0.6651162790697674, total=   0.0s\n",
      "[CV] C=1, gamma=1, kernel=sigmoid ....................................\n",
      "[CV]  C=1, gamma=1, kernel=sigmoid, score=0.6651162790697674, total=   0.0s\n",
      "[CV] C=1, gamma=1, kernel=sigmoid ....................................\n",
      "[CV]  C=1, gamma=1, kernel=sigmoid, score=0.6651162790697674, total=   0.0s\n",
      "[CV] C=1, gamma=1, kernel=linear .....................................\n",
      "[CV]  C=1, gamma=1, kernel=linear, score=0.6651162790697674, total=   4.7s\n",
      "[CV] C=1, gamma=1, kernel=linear .....................................\n",
      "[CV]  C=1, gamma=1, kernel=linear, score=0.6651162790697674, total=   1.1s\n",
      "[CV] C=1, gamma=1, kernel=linear .....................................\n",
      "[CV]  C=1, gamma=1, kernel=linear, score=0.6651162790697674, total=   5.4s\n",
      "[CV] C=1, gamma=0.1, kernel=poly .....................................\n",
      "[CV]  C=1, gamma=0.1, kernel=poly, score=0.5906976744186047, total=38.0min\n",
      "[CV] C=1, gamma=0.1, kernel=poly .....................................\n"
     ]
    }
   ],
   "source": [
    "from sklearn.model_selection import GridSearchCV \n",
    "  \n",
    "# defining parameter range \n",
    "param_grid = {'C': [0.1, 1, 10, 100],  \n",
    "              'gamma': [1, 0.1, 0.01], \n",
    "              'kernel': ['poly','rbf','sigmoid','linear']}  \n",
    "  \n",
    "grid = GridSearchCV(SVC(), param_grid, refit = True, verbose = 3) \n",
    "  \n",
    " #fitting the model for grid search \n",
    "grid.fit(X_train, y_train) "
   ]
  },
  {
   "cell_type": "code",
   "execution_count": null,
   "metadata": {},
   "outputs": [],
   "source": [
    "cl=LogisticRegression(random_state=0, solver='lbfgs', multi_class='ovr')\n",
    "model = cL.fit(X_train,y_train )\n",
    "y_pred = model.predict(X_test)\n",
    "import warnings\n",
    "warnings.filterwarnings('ignore')    \n",
    "cnf_matrix = metrics.confusion_matrix( y_test, y_pred)\n"
   ]
  },
  {
   "cell_type": "code",
   "execution_count": null,
   "metadata": {},
   "outputs": [],
   "source": [
    "methods = ['Support Vector Machine', 'Logistic Regression', 'K Neighbors Classifier', 'Random Forest', 'Gaussian Naive Bayes',\\\n",
    "          'Linear Discriminant Analysis', 'Decision Tree', 'Gradient Boosting',\\\n",
    "      'soft_VotingClassifier','hard_VotingClassifier']\n",
    "    def classifiers(method):\n",
    "    if method == 'Logistic Regression':\n",
    "        CL = LogisticRegression()\n",
    "    if method == 'K Neighbors Classifier':\n",
    "        CL = KNeighborsClassifier(n_neighbors=10)\n",
    "    if method == 'Random Forest':\n",
    "        CL = RandomForestClassifier(max_depth=35)\n",
    "    if method == 'Gaussian Naive Bayes':\n",
    "        CL = GaussianNB()\n",
    "    if method == 'Linear Discriminant Analysis':\n",
    "        CL = LinearDiscriminantAnalysis()\n",
    "    if method == 'Decision Tree':\n",
    "        CL = DecisionTreeClassifier()\n",
    "    if method == 'Support Vector Machine':\n",
    "        CL = SVC(C=0.1, gamma=0.0001, kernel='poly')\n",
    "        \n",
    "    if method == 'soft_VotingClassifier':\n",
    "        cl1 = LogisticRegression()\n",
    "        cl2 = KNeighborsClassifier(n_neighbors=10)\n",
    "        cl3 = RandomForestClassifier(max_depth=35)\n",
    "        cl4 = GaussianNB()\n",
    "        cl5 = LinearDiscriminantAnalysis()\n",
    "        cl6 = DecisionTreeClassifier()\n",
    "        cl7 = SVC(C=0.1, gamma=0.0001, kernel='poly')\n",
    "        cl8 = GradientBoostingClassifier()\n",
    "        estimator = [(method[0],cl1), (method[1],cl2), (method[2],cl3), (method[3],cl4),\\\n",
    "                     (method[4],cl5), (method[5],cl6), (method[6],cl7), (method[7],cl8)]\n",
    "        eclf = VotingClassifier(estimators=estimator,\n",
    "        voting='soft', weights=[5, 5, 10, 5, 6, 8, 4, 10])\n",
    "        \n",
    "    if method == 'hard_VotingClassifier':\n",
    "        cl1 = LogisticRegression()\n",
    "        cl2 = KNeighborsClassifier(n_neighbors=10)\n",
    "        cl3 = RandomForestClassifier(max_depth=35)\n",
    "        cl4 = GaussianNB()\n",
    "        cl5 = LinearDiscriminantAnalysis()\n",
    "        cl6 = DecisionTreeClassifier()\n",
    "        cl7 = SVC(kernel='linear',gamma='scale')\n",
    "        cl8 = GradientBoostingClassifier()\n",
    "        estimator = [(method[0],cl1), (method[1],cl2), (method[2],cl3), (method[3],cl4),\\\n",
    "                     (method[4],cl5), (method[5],cl6), (method[6],cl7), (method[7],cl8)]\n",
    "        eclf = VotingClassifier(estimators=estimator, voting='hard')        \n",
    "    print(type(CL))\n",
    "    accList = []\n"
   ]
  }
 ],
 "metadata": {
  "kernelspec": {
   "display_name": "Python 3",
   "language": "python",
   "name": "python3"
  },
  "language_info": {
   "codemirror_mode": {
    "name": "ipython",
    "version": 3
   },
   "file_extension": ".py",
   "mimetype": "text/x-python",
   "name": "python",
   "nbconvert_exporter": "python",
   "pygments_lexer": "ipython3",
   "version": "3.7.3"
  }
 },
 "nbformat": 4,
 "nbformat_minor": 2
}
