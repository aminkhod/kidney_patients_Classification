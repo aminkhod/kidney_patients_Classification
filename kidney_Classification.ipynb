{
 "cells": [
  {
   "cell_type": "code",
   "execution_count": 78,
   "metadata": {},
   "outputs": [],
   "source": [
    "import pandas as pd\n",
    "import numpy as np\n",
    "from collections import Counter\n",
    "from sklearn.utils import shuffle\n",
    "\n",
    "import matplotlib.pyplot as plt\n",
    "import seaborn as sns\n",
    "from sklearn.model_selection import train_test_split\n",
    "from sklearn import metrics\n",
    "from sklearn.linear_model import LogisticRegression\n",
    "from sklearn import preprocessing\n",
    "from sklearn.model_selection import LeaveOneOut\n",
    "from sklearn.naive_bayes import GaussianNB\n",
    "from sklearn import svm\n",
    "\n",
    "from scipy.stats import sem, t\n",
    "from scipy import mean"
   ]
  },
  {
   "cell_type": "code",
   "execution_count": 55,
   "metadata": {},
   "outputs": [
    {
     "name": "stdout",
     "output_type": "stream",
     "text": [
      "(922, 33)\n"
     ]
    },
    {
     "data": {
      "text/html": [
       "<div>\n",
       "<style scoped>\n",
       "    .dataframe tbody tr th:only-of-type {\n",
       "        vertical-align: middle;\n",
       "    }\n",
       "\n",
       "    .dataframe tbody tr th {\n",
       "        vertical-align: top;\n",
       "    }\n",
       "\n",
       "    .dataframe thead th {\n",
       "        text-align: right;\n",
       "    }\n",
       "</style>\n",
       "<table border=\"1\" class=\"dataframe\">\n",
       "  <thead>\n",
       "    <tr style=\"text-align: right;\">\n",
       "      <th></th>\n",
       "      <th>gender</th>\n",
       "      <th>age</th>\n",
       "      <th>SBP</th>\n",
       "      <th>BMI</th>\n",
       "      <th>etiology of CKD</th>\n",
       "      <th>Hb</th>\n",
       "      <th>Alb</th>\n",
       "      <th>Cr</th>\n",
       "      <th>eGFR</th>\n",
       "      <th>CKD_stage</th>\n",
       "      <th>...</th>\n",
       "      <th>eGFR(6M)</th>\n",
       "      <th>eGFR(12M)</th>\n",
       "      <th>eGFR(18M)</th>\n",
       "      <th>eGFR(24M)</th>\n",
       "      <th>eGFR(30M)</th>\n",
       "      <th>eGFR(36M)</th>\n",
       "      <th>eGFR(last visit)</th>\n",
       "      <th>average_obs</th>\n",
       "      <th>obsevasion_ duration</th>\n",
       "      <th>fclass</th>\n",
       "    </tr>\n",
       "  </thead>\n",
       "  <tbody>\n",
       "    <tr>\n",
       "      <th>0</th>\n",
       "      <td>2</td>\n",
       "      <td>74</td>\n",
       "      <td>120.0</td>\n",
       "      <td>23.137669</td>\n",
       "      <td>2</td>\n",
       "      <td>12.0</td>\n",
       "      <td>4.0</td>\n",
       "      <td>1.20</td>\n",
       "      <td>89.981926</td>\n",
       "      <td>3</td>\n",
       "      <td>...</td>\n",
       "      <td>26.454698</td>\n",
       "      <td>24.331582</td>\n",
       "      <td>24.682189</td>\n",
       "      <td>21.614854</td>\n",
       "      <td>20.420524</td>\n",
       "      <td>20.420524</td>\n",
       "      <td>18.495328</td>\n",
       "      <td>25.275139</td>\n",
       "      <td>37</td>\n",
       "      <td>0</td>\n",
       "    </tr>\n",
       "    <tr>\n",
       "      <th>1</th>\n",
       "      <td>1</td>\n",
       "      <td>57</td>\n",
       "      <td>139.0</td>\n",
       "      <td>28.515625</td>\n",
       "      <td>2</td>\n",
       "      <td>15.9</td>\n",
       "      <td>4.8</td>\n",
       "      <td>0.84</td>\n",
       "      <td>88.330020</td>\n",
       "      <td>2</td>\n",
       "      <td>...</td>\n",
       "      <td>78.287758</td>\n",
       "      <td>71.343858</td>\n",
       "      <td>72.845992</td>\n",
       "      <td>71.908942</td>\n",
       "      <td>71.562914</td>\n",
       "      <td>67.225032</td>\n",
       "      <td>67.225032</td>\n",
       "      <td>72.392152</td>\n",
       "      <td>37</td>\n",
       "      <td>0</td>\n",
       "    </tr>\n",
       "    <tr>\n",
       "      <th>2</th>\n",
       "      <td>1</td>\n",
       "      <td>32</td>\n",
       "      <td>154.0</td>\n",
       "      <td>24.582701</td>\n",
       "      <td>4</td>\n",
       "      <td>14.4</td>\n",
       "      <td>4.4</td>\n",
       "      <td>0.87</td>\n",
       "      <td>86.973875</td>\n",
       "      <td>2</td>\n",
       "      <td>...</td>\n",
       "      <td>75.027238</td>\n",
       "      <td>69.595257</td>\n",
       "      <td>68.856399</td>\n",
       "      <td>72.901926</td>\n",
       "      <td>69.749275</td>\n",
       "      <td>69.171408</td>\n",
       "      <td>69.171408</td>\n",
       "      <td>72.694258</td>\n",
       "      <td>36</td>\n",
       "      <td>0</td>\n",
       "    </tr>\n",
       "    <tr>\n",
       "      <th>3</th>\n",
       "      <td>1</td>\n",
       "      <td>60</td>\n",
       "      <td>144.0</td>\n",
       "      <td>30.737407</td>\n",
       "      <td>2</td>\n",
       "      <td>14.4</td>\n",
       "      <td>4.7</td>\n",
       "      <td>2.22</td>\n",
       "      <td>86.874201</td>\n",
       "      <td>4</td>\n",
       "      <td>...</td>\n",
       "      <td>26.885061</td>\n",
       "      <td>24.917353</td>\n",
       "      <td>28.581660</td>\n",
       "      <td>29.237135</td>\n",
       "      <td>25.556002</td>\n",
       "      <td>25.183703</td>\n",
       "      <td>25.183703</td>\n",
       "      <td>26.485251</td>\n",
       "      <td>35</td>\n",
       "      <td>0</td>\n",
       "    </tr>\n",
       "    <tr>\n",
       "      <th>4</th>\n",
       "      <td>1</td>\n",
       "      <td>49</td>\n",
       "      <td>135.0</td>\n",
       "      <td>23.758726</td>\n",
       "      <td>2</td>\n",
       "      <td>17.0</td>\n",
       "      <td>4.1</td>\n",
       "      <td>1.39</td>\n",
       "      <td>86.782629</td>\n",
       "      <td>3</td>\n",
       "      <td>...</td>\n",
       "      <td>46.978867</td>\n",
       "      <td>45.829455</td>\n",
       "      <td>41.488436</td>\n",
       "      <td>41.801561</td>\n",
       "      <td>38.106104</td>\n",
       "      <td>38.106104</td>\n",
       "      <td>38.106104</td>\n",
       "      <td>43.081581</td>\n",
       "      <td>30</td>\n",
       "      <td>0</td>\n",
       "    </tr>\n",
       "  </tbody>\n",
       "</table>\n",
       "<p>5 rows × 33 columns</p>\n",
       "</div>"
      ],
      "text/plain": [
       "   gender  age    SBP        BMI  etiology of CKD    Hb  Alb    Cr       eGFR  \\\n",
       "0       2   74  120.0  23.137669                2  12.0  4.0  1.20  89.981926   \n",
       "1       1   57  139.0  28.515625                2  15.9  4.8  0.84  88.330020   \n",
       "2       1   32  154.0  24.582701                4  14.4  4.4  0.87  86.973875   \n",
       "3       1   60  144.0  30.737407                2  14.4  4.7  2.22  86.874201   \n",
       "4       1   49  135.0  23.758726                2  17.0  4.1  1.39  86.782629   \n",
       "\n",
       "   CKD_stage  ...   eGFR(6M)  eGFR(12M)  eGFR(18M)  eGFR(24M)  eGFR(30M)  \\\n",
       "0          3  ...  26.454698  24.331582  24.682189  21.614854  20.420524   \n",
       "1          2  ...  78.287758  71.343858  72.845992  71.908942  71.562914   \n",
       "2          2  ...  75.027238  69.595257  68.856399  72.901926  69.749275   \n",
       "3          4  ...  26.885061  24.917353  28.581660  29.237135  25.556002   \n",
       "4          3  ...  46.978867  45.829455  41.488436  41.801561  38.106104   \n",
       "\n",
       "   eGFR(36M)  eGFR(last visit)  average_obs  obsevasion_ duration  fclass  \n",
       "0  20.420524         18.495328    25.275139                    37       0  \n",
       "1  67.225032         67.225032    72.392152                    37       0  \n",
       "2  69.171408         69.171408    72.694258                    36       0  \n",
       "3  25.183703         25.183703    26.485251                    35       0  \n",
       "4  38.106104         38.106104    43.081581                    30       0  \n",
       "\n",
       "[5 rows x 33 columns]"
      ]
     },
     "execution_count": 55,
     "metadata": {},
     "output_type": "execute_result"
    }
   ],
   "source": [
    "data = pd.read_csv('prepared Data.csv')\n",
    "print(data.shape)\n",
    "data.head()\n"
   ]
  },
  {
   "cell_type": "code",
   "execution_count": 56,
   "metadata": {},
   "outputs": [
    {
     "data": {
      "text/plain": [
       "Index(['gender', 'age', 'SBP', 'BMI', 'etiology of CKD', 'Hb', 'Alb', 'Cr',\n",
       "       'eGFR', 'CKD_stage', 'CKD category', 'dip-stick proteinuria',\n",
       "       'proteinuria', 'urinary occult blood', 'UPCR', 'UPCR category',\n",
       "       'hypertension', 'prevalence of CVD', 'diabetes', 'use of RAASi',\n",
       "       'use of CCB', 'use of diuretics', 'eGFR(0M)', 'eGFR(6M)', 'eGFR(12M)',\n",
       "       'eGFR(18M)', 'eGFR(24M)', 'eGFR(30M)', 'eGFR(36M)', 'eGFR(last visit)',\n",
       "       'average_obs', 'obsevasion_ duration', 'fclass'],\n",
       "      dtype='object')"
      ]
     },
     "execution_count": 56,
     "metadata": {},
     "output_type": "execute_result"
    }
   ],
   "source": [
    "data.columns"
   ]
  },
  {
   "cell_type": "code",
   "execution_count": 57,
   "metadata": {},
   "outputs": [
    {
     "data": {
      "text/plain": [
       "Counter({0: 611, 1: 170, 5: 51, 2: 42, 6: 48})"
      ]
     },
     "execution_count": 57,
     "metadata": {},
     "output_type": "execute_result"
    }
   ],
   "source": [
    "count = Counter(data['fclass'])\n",
    "count\n"
   ]
  },
  {
   "cell_type": "code",
   "execution_count": 58,
   "metadata": {},
   "outputs": [],
   "source": [
    "cat0 = shuffle(data[data['fclass']==0])\n",
    "cat1 = shuffle(data[data['fclass']==1])\n",
    "cat2 = shuffle(data[data['fclass']==2])\n",
    "cat5 = shuffle(data[data['fclass']==5])\n",
    "cat6 = shuffle(data[data['fclass']==6])\n"
   ]
  },
  {
   "cell_type": "code",
   "execution_count": 72,
   "metadata": {},
   "outputs": [],
   "source": [
    "\n",
    "lenCat0 = len(cat0.iloc[:,0])\n",
    "lenCat1 = len(cat1.iloc[:,0])\n",
    "lenCat2 = len(cat2.iloc[:,0])\n",
    "lenCat5 = len(cat5.iloc[:,0])\n",
    "lenCat6 = len(cat6.iloc[:,0])\n"
   ]
  },
  {
   "cell_type": "code",
   "execution_count": 79,
   "metadata": {},
   "outputs": [],
   "source": [
    "methodList = []\n",
    "accRes = []\n",
    "accConf = []\n",
    "# sensitivityList = []\n",
    "# specificityList = []"
   ]
  },
  {
   "cell_type": "code",
   "execution_count": 80,
   "metadata": {},
   "outputs": [
    {
     "name": "stdout",
     "output_type": "stream",
     "text": [
      "(831, 32) (831,)\n",
      "(91, 32) (91,)\n",
      "[[59  2  0  0  0]\n",
      " [ 3 14  0  0  0]\n",
      " [ 4  0  0  0  0]\n",
      " [ 4  1  0  0  0]\n",
      " [ 1  1  0  0  2]]\n",
      "Logistic Regression Accuracy by LOOCV 0.8241758241758241\n",
      "(830, 32) (830,)\n",
      "(92, 32) (92,)\n",
      "[[60  0  0  0  1]\n",
      " [ 1 14  0  0  2]\n",
      " [ 3  0  1  0  0]\n",
      " [ 5  0  0  0  0]\n",
      " [ 0  4  0  0  1]]\n",
      "Logistic Regression Accuracy by LOOCV 0.8260869565217391\n",
      "(830, 32) (830,)\n",
      "(92, 32)"
     ]
    },
    {
     "name": "stderr",
     "output_type": "stream",
     "text": [
      "/home/amin/.local/lib/python3.6/site-packages/sklearn/linear_model/_logistic.py:764: ConvergenceWarning: lbfgs failed to converge (status=1):\n",
      "STOP: TOTAL NO. of ITERATIONS REACHED LIMIT.\n",
      "\n",
      "Increase the number of iterations (max_iter) or scale the data as shown in:\n",
      "    https://scikit-learn.org/stable/modules/preprocessing.html\n",
      "Please also refer to the documentation for alternative solver options:\n",
      "    https://scikit-learn.org/stable/modules/linear_model.html#logistic-regression\n",
      "  extra_warning_msg=_LOGISTIC_SOLVER_CONVERGENCE_MSG)\n",
      "/home/amin/.local/lib/python3.6/site-packages/sklearn/linear_model/_logistic.py:764: ConvergenceWarning: lbfgs failed to converge (status=1):\n",
      "STOP: TOTAL NO. of ITERATIONS REACHED LIMIT.\n",
      "\n",
      "Increase the number of iterations (max_iter) or scale the data as shown in:\n",
      "    https://scikit-learn.org/stable/modules/preprocessing.html\n",
      "Please also refer to the documentation for alternative solver options:\n",
      "    https://scikit-learn.org/stable/modules/linear_model.html#logistic-regression\n",
      "  extra_warning_msg=_LOGISTIC_SOLVER_CONVERGENCE_MSG)\n"
     ]
    },
    {
     "name": "stdout",
     "output_type": "stream",
     "text": [
      " (92,)\n",
      "[[60  1  0  0  0]\n",
      " [ 2 14  0  0  1]\n",
      " [ 2  2  0  0  0]\n",
      " [ 5  0  0  0  0]\n",
      " [ 1  4  0  0  0]]\n",
      "Logistic Regression Accuracy by LOOCV 0.8043478260869565\n",
      "(830, 32) (830,)\n",
      "(92, 32) (92,)\n",
      "[[60  1  0  0  0]\n",
      " [ 1 16  0  0  0]\n",
      " [ 2  1  1  0  0]\n",
      " [ 5  0  0  0  0]\n",
      " [ 0  5  0  0  0]]\n",
      "Logistic Regression Accuracy by LOOCV 0.8369565217391305\n"
     ]
    },
    {
     "name": "stderr",
     "output_type": "stream",
     "text": [
      "/home/amin/.local/lib/python3.6/site-packages/sklearn/linear_model/_logistic.py:764: ConvergenceWarning: lbfgs failed to converge (status=1):\n",
      "STOP: TOTAL NO. of ITERATIONS REACHED LIMIT.\n",
      "\n",
      "Increase the number of iterations (max_iter) or scale the data as shown in:\n",
      "    https://scikit-learn.org/stable/modules/preprocessing.html\n",
      "Please also refer to the documentation for alternative solver options:\n",
      "    https://scikit-learn.org/stable/modules/linear_model.html#logistic-regression\n",
      "  extra_warning_msg=_LOGISTIC_SOLVER_CONVERGENCE_MSG)\n",
      "/home/amin/.local/lib/python3.6/site-packages/sklearn/linear_model/_logistic.py:764: ConvergenceWarning: lbfgs failed to converge (status=1):\n",
      "STOP: TOTAL NO. of ITERATIONS REACHED LIMIT.\n",
      "\n",
      "Increase the number of iterations (max_iter) or scale the data as shown in:\n",
      "    https://scikit-learn.org/stable/modules/preprocessing.html\n",
      "Please also refer to the documentation for alternative solver options:\n",
      "    https://scikit-learn.org/stable/modules/linear_model.html#logistic-regression\n",
      "  extra_warning_msg=_LOGISTIC_SOLVER_CONVERGENCE_MSG)\n"
     ]
    },
    {
     "name": "stdout",
     "output_type": "stream",
     "text": [
      "(829, 32) (829,)\n",
      "(93, 32) (93,)\n",
      "[[58  2  1  0  0]\n",
      " [ 6 10  0  0  1]\n",
      " [ 1  4  0  0  0]\n",
      " [ 5  0  0  0  0]\n",
      " [ 1  3  0  0  1]]\n",
      "Logistic Regression Accuracy by LOOCV 0.7419354838709677\n",
      "(831, 32) (831,)\n",
      "(91, 32) (91,)\n",
      "[[60  0  1  0  0]\n",
      " [ 0 15  0  0  2]\n",
      " [ 3  1  0  0  0]\n",
      " [ 5  0  0  0  0]\n",
      " [ 0  3  0  0  1]]\n",
      "Logistic Regression Accuracy by LOOCV 0.8351648351648352\n"
     ]
    },
    {
     "name": "stderr",
     "output_type": "stream",
     "text": [
      "/home/amin/.local/lib/python3.6/site-packages/sklearn/linear_model/_logistic.py:764: ConvergenceWarning: lbfgs failed to converge (status=1):\n",
      "STOP: TOTAL NO. of ITERATIONS REACHED LIMIT.\n",
      "\n",
      "Increase the number of iterations (max_iter) or scale the data as shown in:\n",
      "    https://scikit-learn.org/stable/modules/preprocessing.html\n",
      "Please also refer to the documentation for alternative solver options:\n",
      "    https://scikit-learn.org/stable/modules/linear_model.html#logistic-regression\n",
      "  extra_warning_msg=_LOGISTIC_SOLVER_CONVERGENCE_MSG)\n",
      "/home/amin/.local/lib/python3.6/site-packages/sklearn/linear_model/_logistic.py:764: ConvergenceWarning: lbfgs failed to converge (status=1):\n",
      "STOP: TOTAL NO. of ITERATIONS REACHED LIMIT.\n",
      "\n",
      "Increase the number of iterations (max_iter) or scale the data as shown in:\n",
      "    https://scikit-learn.org/stable/modules/preprocessing.html\n",
      "Please also refer to the documentation for alternative solver options:\n",
      "    https://scikit-learn.org/stable/modules/linear_model.html#logistic-regression\n",
      "  extra_warning_msg=_LOGISTIC_SOLVER_CONVERGENCE_MSG)\n"
     ]
    },
    {
     "name": "stdout",
     "output_type": "stream",
     "text": [
      "(830, 32) (830,)\n",
      "(92, 32) (92,)\n",
      "[[60  0  0  0  1]\n",
      " [ 0 15  2  0  0]\n",
      " [ 3  0  1  0  0]\n",
      " [ 5  0  0  0  0]\n",
      " [ 0  4  0  0  1]]\n",
      "Logistic Regression Accuracy by LOOCV 0.8369565217391305\n",
      "(830, 32) (830,)\n",
      "(92, 32) (92,)\n",
      "[[58  3  0  0  0]\n",
      " [ 1 14  0  0  2]\n",
      " [ 2  0  1  0  1]\n",
      " [ 5  0  0  0  0]\n",
      " [ 0  3  1  0  1]]\n",
      "Logistic Regression Accuracy by LOOCV 0.8043478260869565\n"
     ]
    },
    {
     "name": "stderr",
     "output_type": "stream",
     "text": [
      "/home/amin/.local/lib/python3.6/site-packages/sklearn/linear_model/_logistic.py:764: ConvergenceWarning: lbfgs failed to converge (status=1):\n",
      "STOP: TOTAL NO. of ITERATIONS REACHED LIMIT.\n",
      "\n",
      "Increase the number of iterations (max_iter) or scale the data as shown in:\n",
      "    https://scikit-learn.org/stable/modules/preprocessing.html\n",
      "Please also refer to the documentation for alternative solver options:\n",
      "    https://scikit-learn.org/stable/modules/linear_model.html#logistic-regression\n",
      "  extra_warning_msg=_LOGISTIC_SOLVER_CONVERGENCE_MSG)\n",
      "/home/amin/.local/lib/python3.6/site-packages/sklearn/linear_model/_logistic.py:764: ConvergenceWarning: lbfgs failed to converge (status=1):\n",
      "STOP: TOTAL NO. of ITERATIONS REACHED LIMIT.\n",
      "\n",
      "Increase the number of iterations (max_iter) or scale the data as shown in:\n",
      "    https://scikit-learn.org/stable/modules/preprocessing.html\n",
      "Please also refer to the documentation for alternative solver options:\n",
      "    https://scikit-learn.org/stable/modules/linear_model.html#logistic-regression\n",
      "  extra_warning_msg=_LOGISTIC_SOLVER_CONVERGENCE_MSG)\n"
     ]
    },
    {
     "name": "stdout",
     "output_type": "stream",
     "text": [
      "(830, 32) (830,)\n",
      "(92, 32) (92,)\n",
      "[[56  3  2  0  0]\n",
      " [ 0 14  1  0  2]\n",
      " [ 4  0  0  0  0]\n",
      " [ 5  0  0  0  0]\n",
      " [ 1  4  0  0  0]]\n",
      "Logistic Regression Accuracy by LOOCV 0.7608695652173914\n",
      "(827, 32) (827,)\n",
      "(95, 32) (95,)\n",
      "[[61  1  0  0  0]\n",
      " [ 1 16  0  0  0]\n",
      " [ 5  0  0  0  0]\n",
      " [ 6  0  0  0  0]\n",
      " [ 0  5  0  0  0]]\n",
      "Logistic Regression Accuracy by LOOCV 0.8105263157894737\n"
     ]
    },
    {
     "name": "stderr",
     "output_type": "stream",
     "text": [
      "/home/amin/.local/lib/python3.6/site-packages/sklearn/linear_model/_logistic.py:764: ConvergenceWarning: lbfgs failed to converge (status=1):\n",
      "STOP: TOTAL NO. of ITERATIONS REACHED LIMIT.\n",
      "\n",
      "Increase the number of iterations (max_iter) or scale the data as shown in:\n",
      "    https://scikit-learn.org/stable/modules/preprocessing.html\n",
      "Please also refer to the documentation for alternative solver options:\n",
      "    https://scikit-learn.org/stable/modules/linear_model.html#logistic-regression\n",
      "  extra_warning_msg=_LOGISTIC_SOLVER_CONVERGENCE_MSG)\n",
      "/home/amin/.local/lib/python3.6/site-packages/sklearn/linear_model/_logistic.py:764: ConvergenceWarning: lbfgs failed to converge (status=1):\n",
      "STOP: TOTAL NO. of ITERATIONS REACHED LIMIT.\n",
      "\n",
      "Increase the number of iterations (max_iter) or scale the data as shown in:\n",
      "    https://scikit-learn.org/stable/modules/preprocessing.html\n",
      "Please also refer to the documentation for alternative solver options:\n",
      "    https://scikit-learn.org/stable/modules/linear_model.html#logistic-regression\n",
      "  extra_warning_msg=_LOGISTIC_SOLVER_CONVERGENCE_MSG)\n"
     ]
    }
   ],
   "source": [
    "for j in range(10):\n",
    "    \n",
    "    i = j*.1\n",
    "    k = (j+1)*.1\n",
    "    #train\n",
    "    X_train = cat0.iloc[int(k * lenCat0):,:-1].append(\\\n",
    "              cat1.iloc[int(k * lenCat1):,:-1].append(\\\n",
    "              cat2.iloc[int(k * lenCat2):,:-1].append(\\\n",
    "              cat5.iloc[int(k * lenCat5):,:-1].append(\\\n",
    "              cat6.iloc[int(k * lenCat6):,:-1].append(\\\n",
    "              cat0.iloc[:int(i * lenCat0),:-1].append(\\\n",
    "              cat1.iloc[:int(i * lenCat1),:-1].append(\\\n",
    "              cat2.iloc[:int(i * lenCat2),:-1].append(\\\n",
    "              cat5.iloc[:int(i * lenCat5),:-1].append(\\\n",
    "              cat6.iloc[:int(i * lenCat6),:-1]                                       \n",
    "                                                     )))))))))\n",
    "\n",
    "    y_train = cat0.iloc[int(k * lenCat0):,-1].append(\\\n",
    "              cat1.iloc[int(k * lenCat1):,-1].append(\\\n",
    "              cat2.iloc[int(k * lenCat2):,-1].append(\\\n",
    "              cat5.iloc[int(k * lenCat5):,-1].append(\\\n",
    "              cat6.iloc[int(k * lenCat6):,-1].append(\\\n",
    "              cat0.iloc[:int(i * lenCat0),-1].append(\\\n",
    "              cat1.iloc[:int(i * lenCat1),-1].append(\\\n",
    "              cat2.iloc[:int(i * lenCat2),-1].append(\\\n",
    "              cat5.iloc[:int(i * lenCat5),-1].append(\\\n",
    "              cat6.iloc[:int(i * lenCat6),-1]                                         \n",
    "                                                    )))))))))\n",
    "    print(X_train.shape, y_train.shape)\n",
    "\n",
    "    #test\n",
    "    X_test = cat0.iloc[int(i * lenCat0):int(k * lenCat0),:-1].append(\\\n",
    "             cat1.iloc[int(i * lenCat1):int(k * lenCat1),:-1].append(\\\n",
    "             cat2.iloc[int(i * lenCat2):int(k * lenCat2),:-1].append(\\\n",
    "             cat5.iloc[int(i * lenCat5):int(k * lenCat5),:-1].append(\\\n",
    "             cat6.iloc[int(i * lenCat6):int(k * lenCat6),:-1]))))\n",
    "\n",
    "    y_test = cat0.iloc[int(i * lenCat0):int(k * lenCat0),-1].append(\\\n",
    "             cat1.iloc[int(i * lenCat1):int(k * lenCat1),-1].append(\\\n",
    "             cat2.iloc[int(i * lenCat2):int(k * lenCat2),-1].append(\\\n",
    "             cat5.iloc[int(i * lenCat5):int(k * lenCat5),-1].append(\\\n",
    "             cat6.iloc[int(i * lenCat6):int(k * lenCat6),-1]))))\n",
    "    print(X_test.shape, y_test.shape)\n",
    "    #preprocessing\n",
    "    scaler = preprocessing.StandardScaler().fit(X_train)\n",
    "    X_train_transformed = scaler.transform(X_train)\n",
    "    X_test_transformed = scaler.transform(X_test)\n",
    "    loologreg = LogisticRegression()\n",
    "    loologregModel =loologreg.fit(X_train, np.array(list(y_train)))\n",
    "    predict = np.array(loologreg.predict(X_test))\n",
    "    cnf_matrix = metrics.confusion_matrix(y_test, predict)\n",
    "\n",
    "    print(cnf_matrix)\n",
    "\n",
    "    acc = metrics.accuracy_score(y_test.values, predict)\n",
    "    print(\"Logistic Regression Accuracy by LOOCV\", acc)\n",
    "    accList.append(acc)\n",
    "    \n",
    "\n"
   ]
  },
  {
   "cell_type": "code",
   "execution_count": 81,
   "metadata": {},
   "outputs": [
    {
     "name": "stdout",
     "output_type": "stream",
     "text": [
      "Accuracy:         0.81  -+0.0234\n"
     ]
    }
   ],
   "source": [
    "\n",
    "methodList.append('Logistic Regression')\n",
    "confidence = 0.95\n",
    "# data = [1, 2, 3, 4, 5]\n",
    "\n",
    "naccList = len(accList)\n",
    "maccList = np.mean(accList)\n",
    "std_erraccList = sem(accList)\n",
    "haccList = std_erraccList * t.ppf((1 + confidence) / 2, naccList - 1)\n",
    "\n",
    "\n",
    "\n",
    "\n",
    "print(\"Accuracy:         \"+ str(round(maccList,2)) + '  -+' + str(round(haccList,4)))\n",
    "accRes.append(round(maccList,2))\n",
    "accConf.append(round(haccList,4))"
   ]
  },
  {
   "cell_type": "code",
   "execution_count": 75,
   "metadata": {},
   "outputs": [
    {
     "name": "stdout",
     "output_type": "stream",
     "text": [
      "[[61  1  0  0  0]\n",
      " [ 1 16  0  0  0]\n",
      " [ 5  0  0  0  0]\n",
      " [ 6  0  0  0  0]\n",
      " [ 0  5  0  0  0]]\n",
      "Logistic Regression Accuracy by LOOCV 0.8105263157894737\n"
     ]
    },
    {
     "name": "stderr",
     "output_type": "stream",
     "text": [
      "/home/amin/.local/lib/python3.6/site-packages/sklearn/linear_model/_logistic.py:764: ConvergenceWarning: lbfgs failed to converge (status=1):\n",
      "STOP: TOTAL NO. of ITERATIONS REACHED LIMIT.\n",
      "\n",
      "Increase the number of iterations (max_iter) or scale the data as shown in:\n",
      "    https://scikit-learn.org/stable/modules/preprocessing.html\n",
      "Please also refer to the documentation for alternative solver options:\n",
      "    https://scikit-learn.org/stable/modules/linear_model.html#logistic-regression\n",
      "  extra_warning_msg=_LOGISTIC_SOLVER_CONVERGENCE_MSG)\n"
     ]
    }
   ],
   "source": [
    "loologreg = LogisticRegression()\n",
    "loologregModel =loologreg.fit(X_train, np.array(list(y_train)))\n",
    "predict = np.array(loologreg.predict(X_test))\n",
    "cnf_matrix = metrics.confusion_matrix(y_test, predict)\n",
    "\n",
    "print(cnf_matrix)\n",
    "\n",
    "acc = metrics.accuracy_score(y_test.values, predict)\n",
    "print(\"Logistic Regression Accuracy by LOOCV\", acc)"
   ]
  },
  {
   "cell_type": "code",
   "execution_count": 76,
   "metadata": {},
   "outputs": [
    {
     "data": {
      "image/png": "[encoded data removed]",
      "text/plain": [
       "<Figure size 432x288 with 2 Axes>"
      ]
     },
     "metadata": {},
     "output_type": "display_data"
    }
   ],
   "source": [
    "#matplotlib inline\n",
    "class_names=[0,1] # name  of classes\n",
    "fig, ax = plt.subplots()\n",
    "tick_marks = np.arange(len(class_names))\n",
    "plt.xticks(tick_marks, class_names)\n",
    "plt.yticks(tick_marks, class_names)\n",
    "\n",
    "# create heatmap\n",
    "sns.heatmap(pd.DataFrame(cnf_matrix), annot=True, cmap=\"YlGnBu\" ,fmt='g')\n",
    "ax.xaxis.set_label_position(\"top\")\n",
    "plt.tight_layout()\n",
    "plt.title('Logestic Regression Confusion matrix', y=1.1)\n",
    "\n",
    "plt.ylabel('Actual label')\n",
    "plt.xlabel('Predicted label')\n",
    "\n",
    "plt.show()\n"
   ]
  },
  {
   "cell_type": "code",
   "execution_count": 77,
   "metadata": {},
   "outputs": [
    {
     "data": {
      "text/plain": [
       "[0.8105263157894737]"
      ]
     },
     "execution_count": 77,
     "metadata": {},
     "output_type": "execute_result"
    }
   ],
   "source": [
    "accList"
   ]
  },
  {
   "cell_type": "code",
   "execution_count": null,
   "metadata": {},
   "outputs": [],
   "source": [
    "result = []\n",
    "result = pd.DataFrame(result)\n",
    "result['Method'],result['Accuracy'],result['ACC CI'] = methodList,accRes,accConf\n",
    "result.to_excel('kidney_Classification_Result.xlsx',index=False)"
   ]
  }
 ],
 "metadata": {
  "kernelspec": {
   "display_name": "Python 3",
   "language": "python",
   "name": "python3"
  },
  "language_info": {
   "codemirror_mode": {
    "name": "ipython",
    "version": 3
   },
   "file_extension": ".py",
   "mimetype": "text/x-python",
   "name": "python",
   "nbconvert_exporter": "python",
   "pygments_lexer": "ipython3",
   "version": "3.6.9"
  }
 },
 "nbformat": 4,
 "nbformat_minor": 4
}
