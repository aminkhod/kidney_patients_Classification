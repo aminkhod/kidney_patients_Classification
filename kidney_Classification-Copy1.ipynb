{
 "cells": [
  {
   "cell_type": "code",
   "execution_count": 1,
   "metadata": {},
   "outputs": [],
   "source": [
    "import pandas as pd\n",
    "import numpy as np\n",
    "from collections import Counter\n",
    "\n",
    "import matplotlib.pyplot as plt\n",
    "import seaborn as sns\n",
    "\n",
    "from sklearn import preprocessing\n",
    "\n",
    "from sklearn.utils import shuffle\n",
    "# from sklearn.model_selection import train_test_split\n",
    "# from sklearn.model_selection import LeaveOneOut\n",
    "#methods\n",
    "from sklearn.linear_model import LogisticRegression\n",
    "from sklearn.neighbors import KNeighborsClassifier\n",
    "from sklearn.ensemble import RandomForestClassifier\n",
    "from sklearn.naive_bayes import GaussianNB\n",
    "from sklearn.discriminant_analysis import LinearDiscriminantAnalysis\n",
    "from sklearn.tree import DecisionTreeClassifier\n",
    "from sklearn.svm import SVC\n",
    "from sklearn.ensemble import GradientBoostingClassifier\n",
    "from sklearn.ensemble import VotingClassifier\n",
    "# parameters tuening\n",
    "from sklearn.model_selection import GridSearchCV \n",
    "#metrics\n",
    "from sklearn import metrics\n",
    "\n",
    "from scipy.stats import sem, t\n",
    "from scipy import mean\n",
    "\n",
    "#Oversampling\n",
    "# from imblearn.over_sampling import RandomOverSampler\n",
    "from kmeans_smote import KMeansSMOTE\n",
    "\n",
    "\n",
    "### multiprocessing\n",
    "from multiprocessing.pool import Pool\n"
   ]
  },
  {
   "cell_type": "code",
   "execution_count": 2,
   "metadata": {},
   "outputs": [
    {
     "name": "stdout",
     "output_type": "stream",
     "text": [
      "(922, 33)\n"
     ]
    },
    {
     "data": {
      "text/html": [
       "<div>\n",
       "<style scoped>\n",
       "    .dataframe tbody tr th:only-of-type {\n",
       "        vertical-align: middle;\n",
       "    }\n",
       "\n",
       "    .dataframe tbody tr th {\n",
       "        vertical-align: top;\n",
       "    }\n",
       "\n",
       "    .dataframe thead th {\n",
       "        text-align: right;\n",
       "    }\n",
       "</style>\n",
       "<table border=\"1\" class=\"dataframe\">\n",
       "  <thead>\n",
       "    <tr style=\"text-align: right;\">\n",
       "      <th></th>\n",
       "      <th>gender</th>\n",
       "      <th>age</th>\n",
       "      <th>SBP</th>\n",
       "      <th>BMI</th>\n",
       "      <th>etiology of CKD</th>\n",
       "      <th>Hb</th>\n",
       "      <th>Alb</th>\n",
       "      <th>Cr</th>\n",
       "      <th>eGFR</th>\n",
       "      <th>CKD_stage</th>\n",
       "      <th>...</th>\n",
       "      <th>eGFR(6M)</th>\n",
       "      <th>eGFR(12M)</th>\n",
       "      <th>eGFR(18M)</th>\n",
       "      <th>eGFR(24M)</th>\n",
       "      <th>eGFR(30M)</th>\n",
       "      <th>eGFR(36M)</th>\n",
       "      <th>eGFR(last visit)</th>\n",
       "      <th>average_obs</th>\n",
       "      <th>obsevasion_ duration</th>\n",
       "      <th>fclass</th>\n",
       "    </tr>\n",
       "  </thead>\n",
       "  <tbody>\n",
       "    <tr>\n",
       "      <th>0</th>\n",
       "      <td>2</td>\n",
       "      <td>74</td>\n",
       "      <td>120.0</td>\n",
       "      <td>23.137669</td>\n",
       "      <td>2</td>\n",
       "      <td>12.0</td>\n",
       "      <td>4.0</td>\n",
       "      <td>1.20</td>\n",
       "      <td>89.981926</td>\n",
       "      <td>3</td>\n",
       "      <td>...</td>\n",
       "      <td>26.454698</td>\n",
       "      <td>24.331582</td>\n",
       "      <td>24.682189</td>\n",
       "      <td>21.614854</td>\n",
       "      <td>20.420524</td>\n",
       "      <td>20.420524</td>\n",
       "      <td>18.495328</td>\n",
       "      <td>25.275139</td>\n",
       "      <td>37</td>\n",
       "      <td>0</td>\n",
       "    </tr>\n",
       "    <tr>\n",
       "      <th>1</th>\n",
       "      <td>1</td>\n",
       "      <td>57</td>\n",
       "      <td>139.0</td>\n",
       "      <td>28.515625</td>\n",
       "      <td>2</td>\n",
       "      <td>15.9</td>\n",
       "      <td>4.8</td>\n",
       "      <td>0.84</td>\n",
       "      <td>88.330020</td>\n",
       "      <td>2</td>\n",
       "      <td>...</td>\n",
       "      <td>78.287758</td>\n",
       "      <td>71.343858</td>\n",
       "      <td>72.845992</td>\n",
       "      <td>71.908942</td>\n",
       "      <td>71.562914</td>\n",
       "      <td>67.225032</td>\n",
       "      <td>67.225032</td>\n",
       "      <td>72.392152</td>\n",
       "      <td>37</td>\n",
       "      <td>0</td>\n",
       "    </tr>\n",
       "    <tr>\n",
       "      <th>2</th>\n",
       "      <td>1</td>\n",
       "      <td>32</td>\n",
       "      <td>154.0</td>\n",
       "      <td>24.582701</td>\n",
       "      <td>4</td>\n",
       "      <td>14.4</td>\n",
       "      <td>4.4</td>\n",
       "      <td>0.87</td>\n",
       "      <td>86.973875</td>\n",
       "      <td>2</td>\n",
       "      <td>...</td>\n",
       "      <td>75.027238</td>\n",
       "      <td>69.595257</td>\n",
       "      <td>68.856399</td>\n",
       "      <td>72.901926</td>\n",
       "      <td>69.749275</td>\n",
       "      <td>69.171408</td>\n",
       "      <td>69.171408</td>\n",
       "      <td>72.694258</td>\n",
       "      <td>36</td>\n",
       "      <td>0</td>\n",
       "    </tr>\n",
       "    <tr>\n",
       "      <th>3</th>\n",
       "      <td>1</td>\n",
       "      <td>60</td>\n",
       "      <td>144.0</td>\n",
       "      <td>30.737407</td>\n",
       "      <td>2</td>\n",
       "      <td>14.4</td>\n",
       "      <td>4.7</td>\n",
       "      <td>2.22</td>\n",
       "      <td>86.874201</td>\n",
       "      <td>4</td>\n",
       "      <td>...</td>\n",
       "      <td>26.885061</td>\n",
       "      <td>24.917353</td>\n",
       "      <td>28.581660</td>\n",
       "      <td>29.237135</td>\n",
       "      <td>25.556002</td>\n",
       "      <td>25.183703</td>\n",
       "      <td>25.183703</td>\n",
       "      <td>26.485251</td>\n",
       "      <td>35</td>\n",
       "      <td>0</td>\n",
       "    </tr>\n",
       "    <tr>\n",
       "      <th>4</th>\n",
       "      <td>1</td>\n",
       "      <td>49</td>\n",
       "      <td>135.0</td>\n",
       "      <td>23.758726</td>\n",
       "      <td>2</td>\n",
       "      <td>17.0</td>\n",
       "      <td>4.1</td>\n",
       "      <td>1.39</td>\n",
       "      <td>86.782629</td>\n",
       "      <td>3</td>\n",
       "      <td>...</td>\n",
       "      <td>46.978867</td>\n",
       "      <td>45.829455</td>\n",
       "      <td>41.488436</td>\n",
       "      <td>41.801561</td>\n",
       "      <td>38.106104</td>\n",
       "      <td>38.106104</td>\n",
       "      <td>38.106104</td>\n",
       "      <td>43.081581</td>\n",
       "      <td>30</td>\n",
       "      <td>0</td>\n",
       "    </tr>\n",
       "  </tbody>\n",
       "</table>\n",
       "<p>5 rows × 33 columns</p>\n",
       "</div>"
      ],
      "text/plain": [
       "   gender  age    SBP        BMI  etiology of CKD    Hb  Alb    Cr       eGFR  \\\n",
       "0       2   74  120.0  23.137669                2  12.0  4.0  1.20  89.981926   \n",
       "1       1   57  139.0  28.515625                2  15.9  4.8  0.84  88.330020   \n",
       "2       1   32  154.0  24.582701                4  14.4  4.4  0.87  86.973875   \n",
       "3       1   60  144.0  30.737407                2  14.4  4.7  2.22  86.874201   \n",
       "4       1   49  135.0  23.758726                2  17.0  4.1  1.39  86.782629   \n",
       "\n",
       "   CKD_stage  ...   eGFR(6M)  eGFR(12M)  eGFR(18M)  eGFR(24M)  eGFR(30M)  \\\n",
       "0          3  ...  26.454698  24.331582  24.682189  21.614854  20.420524   \n",
       "1          2  ...  78.287758  71.343858  72.845992  71.908942  71.562914   \n",
       "2          2  ...  75.027238  69.595257  68.856399  72.901926  69.749275   \n",
       "3          4  ...  26.885061  24.917353  28.581660  29.237135  25.556002   \n",
       "4          3  ...  46.978867  45.829455  41.488436  41.801561  38.106104   \n",
       "\n",
       "   eGFR(36M)  eGFR(last visit)  average_obs  obsevasion_ duration  fclass  \n",
       "0  20.420524         18.495328    25.275139                    37       0  \n",
       "1  67.225032         67.225032    72.392152                    37       0  \n",
       "2  69.171408         69.171408    72.694258                    36       0  \n",
       "3  25.183703         25.183703    26.485251                    35       0  \n",
       "4  38.106104         38.106104    43.081581                    30       0  \n",
       "\n",
       "[5 rows x 33 columns]"
      ]
     },
     "execution_count": 2,
     "metadata": {},
     "output_type": "execute_result"
    }
   ],
   "source": [
    "data = pd.read_csv('prepared Data.csv')\n",
    "print(data.shape)\n",
    "data.head()\n"
   ]
  },
  {
   "cell_type": "code",
   "execution_count": 3,
   "metadata": {},
   "outputs": [],
   "source": [
    "col = data.columns"
   ]
  },
  {
   "cell_type": "code",
   "execution_count": 4,
   "metadata": {},
   "outputs": [
    {
     "data": {
      "text/plain": [
       "Counter({0: 611, 1: 170, 5: 51, 2: 42, 6: 48})"
      ]
     },
     "execution_count": 4,
     "metadata": {},
     "output_type": "execute_result"
    }
   ],
   "source": [
    "count = Counter(data['fclass'])\n",
    "count\n"
   ]
  },
  {
   "cell_type": "code",
   "execution_count": 24,
   "metadata": {},
   "outputs": [
    {
     "name": "stdout",
     "output_type": "stream",
     "text": [
      "[[10  0  2  1]\n",
      " [ 0  3  0  0]\n",
      " [ 0  0  0  0]\n",
      " [ 0  0  1  3]]\n"
     ]
    }
   ],
   "source": [
    "CL = SVC(kernel='linear',gamma='scale',class_weight='balanced', C=8.0)\n",
    "model = CL.fit(data.values[:,:-1], data.values[:,-1])\n",
    "# model.predict(data.values[100:120,:-1])\n",
    "predict = model.predict(data.values[100:120,:-1])\n",
    "\n",
    "cnf_matrix = metrics.confusion_matrix(data.values[100:120,-1], predict)\n",
    "# print(method)\n",
    "print(cnf_matrix)"
   ]
  },
  {
   "cell_type": "code",
   "execution_count": null,
   "metadata": {},
   "outputs": [
    {
     "name": "stderr",
     "output_type": "stream",
     "text": [
      "/home/amin/.local/lib/python3.6/site-packages/sklearn/model_selection/_split.py:2052: FutureWarning: You should specify a value for 'cv' instead of relying on the default value. The default value will change from 3 to 5 in version 0.22.\n",
      "  warnings.warn(CV_WARNING, FutureWarning)\n",
      "[Parallel(n_jobs=1)]: Using backend SequentialBackend with 1 concurrent workers.\n"
     ]
    },
    {
     "name": "stdout",
     "output_type": "stream",
     "text": [
      "Fitting 3 folds for each of 100 candidates, totalling 300 fits\n",
      "[CV] C=0.1, gamma=1, kernel=poly .....................................\n",
      "[CV]  C=0.1, gamma=1, kernel=poly, score=0.5551948051948052, total=   1.8s\n",
      "[CV] C=0.1, gamma=1, kernel=poly .....................................\n"
     ]
    },
    {
     "name": "stderr",
     "output_type": "stream",
     "text": [
      "[Parallel(n_jobs=1)]: Done   1 out of   1 | elapsed:    1.8s remaining:    0.0s\n"
     ]
    },
    {
     "name": "stdout",
     "output_type": "stream",
     "text": [
      "[CV]  C=0.1, gamma=1, kernel=poly, score=0.737012987012987, total=   1.2s\n",
      "[CV] C=0.1, gamma=1, kernel=poly .....................................\n"
     ]
    },
    {
     "name": "stderr",
     "output_type": "stream",
     "text": [
      "[Parallel(n_jobs=1)]: Done   2 out of   2 | elapsed:    2.9s remaining:    0.0s\n"
     ]
    },
    {
     "name": "stdout",
     "output_type": "stream",
     "text": [
      "[CV]  C=0.1, gamma=1, kernel=poly, score=0.7287581699346405, total=   2.0s\n",
      "[CV] C=0.1, gamma=1, kernel=rbf ......................................\n",
      "[CV]  C=0.1, gamma=1, kernel=rbf, score=0.6623376623376623, total=   0.1s\n",
      "[CV] C=0.1, gamma=1, kernel=rbf ......................................\n",
      "[CV]  C=0.1, gamma=1, kernel=rbf, score=0.6623376623376623, total=   0.1s\n",
      "[CV] C=0.1, gamma=1, kernel=rbf ......................................\n",
      "[CV]  C=0.1, gamma=1, kernel=rbf, score=0.6633986928104575, total=   0.1s\n",
      "[CV] C=0.1, gamma=1, kernel=sigmoid ..................................\n",
      "[CV]  C=0.1, gamma=1, kernel=sigmoid, score=0.6623376623376623, total=   0.0s\n",
      "[CV] C=0.1, gamma=1, kernel=sigmoid ..................................\n",
      "[CV]  C=0.1, gamma=1, kernel=sigmoid, score=0.6623376623376623, total=   0.0s\n",
      "[CV] C=0.1, gamma=1, kernel=sigmoid ..................................\n",
      "[CV]  C=0.1, gamma=1, kernel=sigmoid, score=0.6633986928104575, total=   0.0s\n",
      "[CV] C=0.1, gamma=1, kernel=linear ...................................\n",
      "[CV]  C=0.1, gamma=1, kernel=linear, score=0.7987012987012987, total=   3.6s\n",
      "[CV] C=0.1, gamma=1, kernel=linear ...................................\n",
      "[CV]  C=0.1, gamma=1, kernel=linear, score=0.8051948051948052, total=   4.1s\n",
      "[CV] C=0.1, gamma=1, kernel=linear ...................................\n",
      "[CV]  C=0.1, gamma=1, kernel=linear, score=0.8006535947712419, total=   2.0s\n",
      "[CV] C=0.1, gamma=0.1, kernel=poly ...................................\n",
      "[CV]  C=0.1, gamma=0.1, kernel=poly, score=0.5551948051948052, total=   1.8s\n",
      "[CV] C=0.1, gamma=0.1, kernel=poly ...................................\n",
      "[CV]  C=0.1, gamma=0.1, kernel=poly, score=0.7337662337662337, total=   1.2s\n",
      "[CV] C=0.1, gamma=0.1, kernel=poly ...................................\n",
      "[CV]  C=0.1, gamma=0.1, kernel=poly, score=0.7287581699346405, total=   2.1s\n",
      "[CV] C=0.1, gamma=0.1, kernel=rbf ....................................\n",
      "[CV]  C=0.1, gamma=0.1, kernel=rbf, score=0.6623376623376623, total=   0.1s\n",
      "[CV] C=0.1, gamma=0.1, kernel=rbf ....................................\n",
      "[CV]  C=0.1, gamma=0.1, kernel=rbf, score=0.6623376623376623, total=   0.1s\n",
      "[CV] C=0.1, gamma=0.1, kernel=rbf ....................................\n",
      "[CV]  C=0.1, gamma=0.1, kernel=rbf, score=0.6633986928104575, total=   0.1s\n",
      "[CV] C=0.1, gamma=0.1, kernel=sigmoid ................................\n",
      "[CV]  C=0.1, gamma=0.1, kernel=sigmoid, score=0.6623376623376623, total=   0.0s\n",
      "[CV] C=0.1, gamma=0.1, kernel=sigmoid ................................\n",
      "[CV]  C=0.1, gamma=0.1, kernel=sigmoid, score=0.6623376623376623, total=   0.0s\n",
      "[CV] C=0.1, gamma=0.1, kernel=sigmoid ................................\n",
      "[CV]  C=0.1, gamma=0.1, kernel=sigmoid, score=0.6633986928104575, total=   0.0s\n",
      "[CV] C=0.1, gamma=0.1, kernel=linear .................................\n",
      "[CV]  C=0.1, gamma=0.1, kernel=linear, score=0.7987012987012987, total=   3.7s\n",
      "[CV] C=0.1, gamma=0.1, kernel=linear .................................\n",
      "[CV]  C=0.1, gamma=0.1, kernel=linear, score=0.8051948051948052, total=   4.3s\n",
      "[CV] C=0.1, gamma=0.1, kernel=linear .................................\n",
      "[CV]  C=0.1, gamma=0.1, kernel=linear, score=0.8006535947712419, total=   2.1s\n",
      "[CV] C=0.1, gamma=0.01, kernel=poly ..................................\n",
      "[CV]  C=0.1, gamma=0.01, kernel=poly, score=0.5551948051948052, total=   1.8s\n",
      "[CV] C=0.1, gamma=0.01, kernel=poly ..................................\n",
      "[CV]  C=0.1, gamma=0.01, kernel=poly, score=0.737012987012987, total=   1.2s\n",
      "[CV] C=0.1, gamma=0.01, kernel=poly ..................................\n",
      "[CV]  C=0.1, gamma=0.01, kernel=poly, score=0.7287581699346405, total=   2.0s\n",
      "[CV] C=0.1, gamma=0.01, kernel=rbf ...................................\n",
      "[CV]  C=0.1, gamma=0.01, kernel=rbf, score=0.6623376623376623, total=   0.1s\n",
      "[CV] C=0.1, gamma=0.01, kernel=rbf ...................................\n",
      "[CV]  C=0.1, gamma=0.01, kernel=rbf, score=0.6623376623376623, total=   0.1s\n",
      "[CV] C=0.1, gamma=0.01, kernel=rbf ...................................\n",
      "[CV]  C=0.1, gamma=0.01, kernel=rbf, score=0.6633986928104575, total=   0.1s\n",
      "[CV] C=0.1, gamma=0.01, kernel=sigmoid ...............................\n",
      "[CV]  C=0.1, gamma=0.01, kernel=sigmoid, score=0.6623376623376623, total=   0.0s\n",
      "[CV] C=0.1, gamma=0.01, kernel=sigmoid ...............................\n",
      "[CV]  C=0.1, gamma=0.01, kernel=sigmoid, score=0.6623376623376623, total=   0.0s\n",
      "[CV] C=0.1, gamma=0.01, kernel=sigmoid ...............................\n",
      "[CV]  C=0.1, gamma=0.01, kernel=sigmoid, score=0.6633986928104575, total=   0.0s\n",
      "[CV] C=0.1, gamma=0.01, kernel=linear ................................\n",
      "[CV]  C=0.1, gamma=0.01, kernel=linear, score=0.7987012987012987, total=   3.8s\n",
      "[CV] C=0.1, gamma=0.01, kernel=linear ................................\n",
      "[CV]  C=0.1, gamma=0.01, kernel=linear, score=0.8051948051948052, total=   4.4s\n",
      "[CV] C=0.1, gamma=0.01, kernel=linear ................................\n",
      "[CV]  C=0.1, gamma=0.01, kernel=linear, score=0.8006535947712419, total=   2.1s\n",
      "[CV] C=0.1, gamma=0.001, kernel=poly .................................\n",
      "[CV]  C=0.1, gamma=0.001, kernel=poly, score=0.538961038961039, total=   0.3s\n",
      "[CV] C=0.1, gamma=0.001, kernel=poly .................................\n",
      "[CV]  C=0.1, gamma=0.001, kernel=poly, score=0.737012987012987, total=   0.4s\n",
      "[CV] C=0.1, gamma=0.001, kernel=poly .................................\n",
      "[CV]  C=0.1, gamma=0.001, kernel=poly, score=0.7581699346405228, total=   0.4s\n",
      "[CV] C=0.1, gamma=0.001, kernel=rbf ..................................\n",
      "[CV]  C=0.1, gamma=0.001, kernel=rbf, score=0.7045454545454546, total=   0.0s\n",
      "[CV] C=0.1, gamma=0.001, kernel=rbf ..................................\n",
      "[CV]  C=0.1, gamma=0.001, kernel=rbf, score=0.7532467532467533, total=   0.0s\n",
      "[CV] C=0.1, gamma=0.001, kernel=rbf ..................................\n",
      "[CV]  C=0.1, gamma=0.001, kernel=rbf, score=0.7124183006535948, total=   0.0s\n",
      "[CV] C=0.1, gamma=0.001, kernel=sigmoid ..............................\n",
      "[CV]  C=0.1, gamma=0.001, kernel=sigmoid, score=0.6623376623376623, total=   0.0s\n",
      "[CV] C=0.1, gamma=0.001, kernel=sigmoid ..............................\n",
      "[CV]  C=0.1, gamma=0.001, kernel=sigmoid, score=0.6623376623376623, total=   0.0s\n",
      "[CV] C=0.1, gamma=0.001, kernel=sigmoid ..............................\n",
      "[CV]  C=0.1, gamma=0.001, kernel=sigmoid, score=0.6633986928104575, total=   0.0s\n",
      "[CV] C=0.1, gamma=0.001, kernel=linear ...............................\n",
      "[CV]  C=0.1, gamma=0.001, kernel=linear, score=0.7987012987012987, total=   4.1s\n",
      "[CV] C=0.1, gamma=0.001, kernel=linear ...............................\n",
      "[CV]  C=0.1, gamma=0.001, kernel=linear, score=0.8051948051948052, total=   4.5s\n",
      "[CV] C=0.1, gamma=0.001, kernel=linear ...............................\n",
      "[CV]  C=0.1, gamma=0.001, kernel=linear, score=0.8006535947712419, total=   2.1s\n",
      "[CV] C=0.1, gamma=0.0001, kernel=poly ................................\n",
      "[CV]  C=0.1, gamma=0.0001, kernel=poly, score=0.814935064935065, total=   0.0s\n",
      "[CV] C=0.1, gamma=0.0001, kernel=poly ................................\n",
      "[CV]  C=0.1, gamma=0.0001, kernel=poly, score=0.7987012987012987, total=   0.0s\n",
      "[CV] C=0.1, gamma=0.0001, kernel=poly ................................\n",
      "[CV]  C=0.1, gamma=0.0001, kernel=poly, score=0.7843137254901961, total=   0.0s\n",
      "[CV] C=0.1, gamma=0.0001, kernel=rbf .................................\n",
      "[CV]  C=0.1, gamma=0.0001, kernel=rbf, score=0.7824675324675324, total=   0.0s\n",
      "[CV] C=0.1, gamma=0.0001, kernel=rbf .................................\n",
      "[CV]  C=0.1, gamma=0.0001, kernel=rbf, score=0.7792207792207793, total=   0.0s\n",
      "[CV] C=0.1, gamma=0.0001, kernel=rbf .................................\n",
      "[CV]  C=0.1, gamma=0.0001, kernel=rbf, score=0.738562091503268, total=   0.0s\n",
      "[CV] C=0.1, gamma=0.0001, kernel=sigmoid .............................\n",
      "[CV]  C=0.1, gamma=0.0001, kernel=sigmoid, score=0.6623376623376623, total=   0.0s\n",
      "[CV] C=0.1, gamma=0.0001, kernel=sigmoid .............................\n",
      "[CV]  C=0.1, gamma=0.0001, kernel=sigmoid, score=0.6623376623376623, total=   0.0s\n",
      "[CV] C=0.1, gamma=0.0001, kernel=sigmoid .............................\n",
      "[CV]  C=0.1, gamma=0.0001, kernel=sigmoid, score=0.6633986928104575, total=   0.0s\n",
      "[CV] C=0.1, gamma=0.0001, kernel=linear ..............................\n"
     ]
    },
    {
     "name": "stdout",
     "output_type": "stream",
     "text": [
      "[CV]  C=0.1, gamma=0.0001, kernel=linear, score=0.7987012987012987, total=   3.9s\n",
      "[CV] C=0.1, gamma=0.0001, kernel=linear ..............................\n",
      "[CV]  C=0.1, gamma=0.0001, kernel=linear, score=0.8051948051948052, total=   4.5s\n",
      "[CV] C=0.1, gamma=0.0001, kernel=linear ..............................\n",
      "[CV]  C=0.1, gamma=0.0001, kernel=linear, score=0.8006535947712419, total=   2.2s\n",
      "[CV] C=1, gamma=1, kernel=poly .......................................\n",
      "[CV]  C=1, gamma=1, kernel=poly, score=0.5551948051948052, total=   2.1s\n",
      "[CV] C=1, gamma=1, kernel=poly .......................................\n",
      "[CV]  C=1, gamma=1, kernel=poly, score=0.737012987012987, total=   1.3s\n",
      "[CV] C=1, gamma=1, kernel=poly .......................................\n",
      "[CV]  C=1, gamma=1, kernel=poly, score=0.7287581699346405, total=   2.2s\n",
      "[CV] C=1, gamma=1, kernel=rbf ........................................\n",
      "[CV]  C=1, gamma=1, kernel=rbf, score=0.6623376623376623, total=   0.1s\n",
      "[CV] C=1, gamma=1, kernel=rbf ........................................\n",
      "[CV]  C=1, gamma=1, kernel=rbf, score=0.6623376623376623, total=   0.1s\n",
      "[CV] C=1, gamma=1, kernel=rbf ........................................\n",
      "[CV]  C=1, gamma=1, kernel=rbf, score=0.6633986928104575, total=   0.1s\n",
      "[CV] C=1, gamma=1, kernel=sigmoid ....................................\n",
      "[CV]  C=1, gamma=1, kernel=sigmoid, score=0.6623376623376623, total=   0.0s\n",
      "[CV] C=1, gamma=1, kernel=sigmoid ....................................\n",
      "[CV]  C=1, gamma=1, kernel=sigmoid, score=0.6623376623376623, total=   0.0s\n",
      "[CV] C=1, gamma=1, kernel=sigmoid ....................................\n",
      "[CV]  C=1, gamma=1, kernel=sigmoid, score=0.6633986928104575, total=   0.0s\n",
      "[CV] C=1, gamma=1, kernel=linear .....................................\n",
      "[CV]  C=1, gamma=1, kernel=linear, score=0.801948051948052, total=  10.7s\n",
      "[CV] C=1, gamma=1, kernel=linear .....................................\n",
      "[CV]  C=1, gamma=1, kernel=linear, score=0.7694805194805194, total=  13.9s\n",
      "[CV] C=1, gamma=1, kernel=linear .....................................\n",
      "[CV]  C=1, gamma=1, kernel=linear, score=0.7810457516339869, total=   7.2s\n",
      "[CV] C=1, gamma=0.1, kernel=poly .....................................\n",
      "[CV]  C=1, gamma=0.1, kernel=poly, score=0.5551948051948052, total=   2.2s\n",
      "[CV] C=1, gamma=0.1, kernel=poly .....................................\n",
      "[CV]  C=1, gamma=0.1, kernel=poly, score=0.7337662337662337, total=   1.5s\n",
      "[CV] C=1, gamma=0.1, kernel=poly .....................................\n",
      "[CV]  C=1, gamma=0.1, kernel=poly, score=0.7287581699346405, total=   2.5s\n",
      "[CV] C=1, gamma=0.1, kernel=rbf ......................................\n",
      "[CV]  C=1, gamma=0.1, kernel=rbf, score=0.6623376623376623, total=   0.1s\n",
      "[CV] C=1, gamma=0.1, kernel=rbf ......................................\n",
      "[CV]  C=1, gamma=0.1, kernel=rbf, score=0.6623376623376623, total=   0.1s\n",
      "[CV] C=1, gamma=0.1, kernel=rbf ......................................\n",
      "[CV]  C=1, gamma=0.1, kernel=rbf, score=0.6633986928104575, total=   0.1s\n",
      "[CV] C=1, gamma=0.1, kernel=sigmoid ..................................\n",
      "[CV]  C=1, gamma=0.1, kernel=sigmoid, score=0.6623376623376623, total=   0.0s\n",
      "[CV] C=1, gamma=0.1, kernel=sigmoid ..................................\n",
      "[CV]  C=1, gamma=0.1, kernel=sigmoid, score=0.6623376623376623, total=   0.0s\n",
      "[CV] C=1, gamma=0.1, kernel=sigmoid ..................................\n",
      "[CV]  C=1, gamma=0.1, kernel=sigmoid, score=0.6633986928104575, total=   0.0s\n",
      "[CV] C=1, gamma=0.1, kernel=linear ...................................\n",
      "[CV]  C=1, gamma=0.1, kernel=linear, score=0.801948051948052, total=  11.0s\n",
      "[CV] C=1, gamma=0.1, kernel=linear ...................................\n",
      "[CV]  C=1, gamma=0.1, kernel=linear, score=0.7694805194805194, total=  13.8s\n",
      "[CV] C=1, gamma=0.1, kernel=linear ...................................\n",
      "[CV]  C=1, gamma=0.1, kernel=linear, score=0.7810457516339869, total=   6.6s\n",
      "[CV] C=1, gamma=0.01, kernel=poly ....................................\n",
      "[CV]  C=1, gamma=0.01, kernel=poly, score=0.5551948051948052, total=   2.1s\n",
      "[CV] C=1, gamma=0.01, kernel=poly ....................................\n",
      "[CV]  C=1, gamma=0.01, kernel=poly, score=0.737012987012987, total=   1.3s\n",
      "[CV] C=1, gamma=0.01, kernel=poly ....................................\n",
      "[CV]  C=1, gamma=0.01, kernel=poly, score=0.7287581699346405, total=   2.3s\n",
      "[CV] C=1, gamma=0.01, kernel=rbf .....................................\n",
      "[CV]  C=1, gamma=0.01, kernel=rbf, score=0.6623376623376623, total=   0.1s\n",
      "[CV] C=1, gamma=0.01, kernel=rbf .....................................\n",
      "[CV]  C=1, gamma=0.01, kernel=rbf, score=0.6623376623376623, total=   0.1s\n",
      "[CV] C=1, gamma=0.01, kernel=rbf .....................................\n",
      "[CV]  C=1, gamma=0.01, kernel=rbf, score=0.6666666666666666, total=   0.1s\n",
      "[CV] C=1, gamma=0.01, kernel=sigmoid .................................\n",
      "[CV]  C=1, gamma=0.01, kernel=sigmoid, score=0.6623376623376623, total=   0.0s\n",
      "[CV] C=1, gamma=0.01, kernel=sigmoid .................................\n",
      "[CV]  C=1, gamma=0.01, kernel=sigmoid, score=0.6623376623376623, total=   0.0s\n",
      "[CV] C=1, gamma=0.01, kernel=sigmoid .................................\n",
      "[CV]  C=1, gamma=0.01, kernel=sigmoid, score=0.6633986928104575, total=   0.0s\n",
      "[CV] C=1, gamma=0.01, kernel=linear ..................................\n",
      "[CV]  C=1, gamma=0.01, kernel=linear, score=0.801948051948052, total=  10.8s\n",
      "[CV] C=1, gamma=0.01, kernel=linear ..................................\n",
      "[CV]  C=1, gamma=0.01, kernel=linear, score=0.7694805194805194, total=  13.9s\n",
      "[CV] C=1, gamma=0.01, kernel=linear ..................................\n",
      "[CV]  C=1, gamma=0.01, kernel=linear, score=0.7810457516339869, total=   6.9s\n",
      "[CV] C=1, gamma=0.001, kernel=poly ...................................\n",
      "[CV]  C=1, gamma=0.001, kernel=poly, score=0.5097402597402597, total=   1.5s\n",
      "[CV] C=1, gamma=0.001, kernel=poly ...................................\n",
      "[CV]  C=1, gamma=0.001, kernel=poly, score=0.7467532467532467, total=   1.1s\n",
      "[CV] C=1, gamma=0.001, kernel=poly ...................................\n",
      "[CV]  C=1, gamma=0.001, kernel=poly, score=0.7320261437908496, total=   1.2s\n",
      "[CV] C=1, gamma=0.001, kernel=rbf ....................................\n",
      "[CV]  C=1, gamma=0.001, kernel=rbf, score=0.7597402597402597, total=   0.0s\n",
      "[CV] C=1, gamma=0.001, kernel=rbf ....................................\n",
      "[CV]  C=1, gamma=0.001, kernel=rbf, score=0.7954545454545454, total=   0.0s\n",
      "[CV] C=1, gamma=0.001, kernel=rbf ....................................\n",
      "[CV]  C=1, gamma=0.001, kernel=rbf, score=0.7810457516339869, total=   0.0s\n",
      "[CV] C=1, gamma=0.001, kernel=sigmoid ................................\n",
      "[CV]  C=1, gamma=0.001, kernel=sigmoid, score=0.6623376623376623, total=   0.0s\n",
      "[CV] C=1, gamma=0.001, kernel=sigmoid ................................\n",
      "[CV]  C=1, gamma=0.001, kernel=sigmoid, score=0.6623376623376623, total=   0.0s\n",
      "[CV] C=1, gamma=0.001, kernel=sigmoid ................................\n",
      "[CV]  C=1, gamma=0.001, kernel=sigmoid, score=0.6633986928104575, total=   0.0s\n",
      "[CV] C=1, gamma=0.001, kernel=linear .................................\n",
      "[CV]  C=1, gamma=0.001, kernel=linear, score=0.801948051948052, total=  10.8s\n",
      "[CV] C=1, gamma=0.001, kernel=linear .................................\n",
      "[CV]  C=1, gamma=0.001, kernel=linear, score=0.7694805194805194, total=  13.8s\n",
      "[CV] C=1, gamma=0.001, kernel=linear .................................\n",
      "[CV]  C=1, gamma=0.001, kernel=linear, score=0.7810457516339869, total=   6.7s\n",
      "[CV] C=1, gamma=0.0001, kernel=poly ..................................\n",
      "[CV]  C=1, gamma=0.0001, kernel=poly, score=0.8084415584415584, total=   0.1s\n",
      "[CV] C=1, gamma=0.0001, kernel=poly ..................................\n",
      "[CV]  C=1, gamma=0.0001, kernel=poly, score=0.8116883116883117, total=   0.1s\n",
      "[CV] C=1, gamma=0.0001, kernel=poly ..................................\n",
      "[CV]  C=1, gamma=0.0001, kernel=poly, score=0.7973856209150327, total=   0.1s\n",
      "[CV] C=1, gamma=0.0001, kernel=rbf ...................................\n",
      "[CV]  C=1, gamma=0.0001, kernel=rbf, score=0.8084415584415584, total=   0.0s\n",
      "[CV] C=1, gamma=0.0001, kernel=rbf ...................................\n",
      "[CV]  C=1, gamma=0.0001, kernel=rbf, score=0.7954545454545454, total=   0.0s\n",
      "[CV] C=1, gamma=0.0001, kernel=rbf ...................................\n",
      "[CV]  C=1, gamma=0.0001, kernel=rbf, score=0.7843137254901961, total=   0.0s\n",
      "[CV] C=1, gamma=0.0001, kernel=sigmoid ...............................\n",
      "[CV]  C=1, gamma=0.0001, kernel=sigmoid, score=0.6623376623376623, total=   0.0s\n",
      "[CV] C=1, gamma=0.0001, kernel=sigmoid ...............................\n"
     ]
    },
    {
     "name": "stdout",
     "output_type": "stream",
     "text": [
      "[CV]  C=1, gamma=0.0001, kernel=sigmoid, score=0.6623376623376623, total=   0.0s\n",
      "[CV] C=1, gamma=0.0001, kernel=sigmoid ...............................\n",
      "[CV]  C=1, gamma=0.0001, kernel=sigmoid, score=0.6633986928104575, total=   0.0s\n",
      "[CV] C=1, gamma=0.0001, kernel=linear ................................\n",
      "[CV]  C=1, gamma=0.0001, kernel=linear, score=0.801948051948052, total=  10.9s\n",
      "[CV] C=1, gamma=0.0001, kernel=linear ................................\n"
     ]
    }
   ],
   "source": [
    "from sklearn.model_selection import GridSearchCV \n",
    "  \n",
    "# defining parameter range \n",
    "param_grid = {'C': [0.1, 1, 10, 100, 1000],  \n",
    "              'gamma': [1, 0.1, 0.01, 0.001, 0.0001], \n",
    "              'kernel': ['poly','rbf','sigmoid','linear']}  \n",
    "  \n",
    "grid = GridSearchCV(SVC(), param_grid, refit = True, verbose = 3) \n",
    "  \n",
    "# fitting the model for grid search \n",
    "grid.fit(data.values[:,:-1], data.values[:,-1]) "
   ]
  },
  {
   "cell_type": "markdown",
   "metadata": {},
   "source": [
    "# Oversampling"
   ]
  },
  {
   "cell_type": "code",
   "execution_count": 5,
   "metadata": {},
   "outputs": [],
   "source": [
    "\n",
    "\n",
    "# X, y = data.values[:int(800),:-1], data.values[:int(800),-1]\n",
    "# [print('Class {} has {} instances'.format(label, count))\n",
    "#  for label, count in zip(*np.unique(y, return_counts=True))]\n",
    "\n",
    "# kmeans_smote = KMeansSMOTE(\n",
    "#     kmeans_args={\n",
    "#         'n_clusters': 400\n",
    "#     },\n",
    "#     smote_args={\n",
    "#         'k_neighbors': 5\n",
    "#     }\n",
    "# )\n",
    "# X_resampled, y_resampled = kmeans_smote.fit_sample(X, y)\n",
    "\n",
    "# [print('Class {} has {} instances after oversampling'.format(label, count))\n",
    "#  for label, count in zip(*np.unique(y_resampled, return_counts=True))]\n",
    "# print(Counter(y_resampled))"
   ]
  },
  {
   "cell_type": "code",
   "execution_count": null,
   "metadata": {},
   "outputs": [],
   "source": []
  },
  {
   "cell_type": "code",
   "execution_count": null,
   "metadata": {},
   "outputs": [],
   "source": []
  },
  {
   "cell_type": "code",
   "execution_count": 6,
   "metadata": {},
   "outputs": [],
   "source": [
    "# define oversampling strategy\n",
    "# oversample = RandomOverSampler(sampling_strategy='minority')\n",
    "\n",
    "## Below code works for binary classification \n",
    "# oversample = RandomOverSampler(sampling_strategy=0.5)"
   ]
  },
  {
   "cell_type": "code",
   "execution_count": 7,
   "metadata": {},
   "outputs": [],
   "source": [
    "\n",
    "# # define oversampling strategy\n",
    "# oversample = RandomOverSampler(sampling_strategy='minority')\n",
    "\n",
    "# # fit and apply the transform\n",
    "# X_over, y_over = oversample.fit_resample(data.values[:,:-1], data.values[:,-1])\n",
    "\n",
    "# Max = dict(Counter(y_over))[0.0]\n",
    "# flag = True\n",
    "# while flag:\n",
    "#     X_over, y_over = oversample.fit_resample(X_over, y_over)\n",
    "#     for x in list(dict(Counter(y_over)).values()):\n",
    "#         if x == Max:\n",
    "#             flag = False\n",
    "#         else:\n",
    "#             flag = True\n",
    "#             break\n",
    "        \n",
    "# # summarize class distribution\n",
    "# print(Counter(y_over))"
   ]
  },
  {
   "cell_type": "code",
   "execution_count": 9,
   "metadata": {},
   "outputs": [],
   "source": [
    "# adict = dict()\n",
    "# adict.update(zip(d.columns,col[:-1]))\n",
    "# adict"
   ]
  },
  {
   "cell_type": "code",
   "execution_count": 10,
   "metadata": {},
   "outputs": [],
   "source": [
    "# d = pd.DataFrame(X_over)\n",
    "# adict = dict()\n",
    "# adict.update(zip(d.columns,col[:-1]))\n",
    "# d.rename(columns = adict, inplace =True)\n",
    "# d['fclass'] = y_over\n",
    "# d.head()"
   ]
  },
  {
   "cell_type": "code",
   "execution_count": 11,
   "metadata": {},
   "outputs": [
    {
     "data": {
      "text/plain": [
       "Counter({0: 611, 1: 170, 5: 51, 2: 42, 6: 48})"
      ]
     },
     "execution_count": 11,
     "metadata": {},
     "output_type": "execute_result"
    }
   ],
   "source": [
    "# count = Counter(data['fclass'])\n",
    "# count"
   ]
  },
  {
   "cell_type": "code",
   "execution_count": 12,
   "metadata": {},
   "outputs": [],
   "source": [
    "# data = d.copy()"
   ]
  },
  {
   "cell_type": "code",
   "execution_count": 5,
   "metadata": {},
   "outputs": [],
   "source": [
    "cat0 = shuffle(data[data['fclass']==0])\n",
    "cat1 = shuffle(data[data['fclass']==1])\n",
    "cat2 = shuffle(data[data['fclass']==2])\n",
    "cat5 = shuffle(data[data['fclass']==5])\n",
    "cat6 = shuffle(data[data['fclass']==6])\n"
   ]
  },
  {
   "cell_type": "code",
   "execution_count": 6,
   "metadata": {},
   "outputs": [],
   "source": [
    "\n",
    "lenCat0 = len(cat0.iloc[:,0])\n",
    "lenCat1 = len(cat1.iloc[:,0])\n",
    "lenCat2 = len(cat2.iloc[:,0])\n",
    "lenCat5 = len(cat5.iloc[:,0])\n",
    "lenCat6 = len(cat6.iloc[:,0])\n"
   ]
  },
  {
   "cell_type": "code",
   "execution_count": 7,
   "metadata": {},
   "outputs": [],
   "source": [
    "methodList = []\n",
    "accRes = []\n",
    "accConf = []\n",
    "nFold = 10\n",
    "# sensitivityList = []\n",
    "# specificityList = []"
   ]
  },
  {
   "cell_type": "code",
   "execution_count": 8,
   "metadata": {},
   "outputs": [],
   "source": [
    "methods = ['Logistic Regression', 'K Neighbors Classifier', 'Random Forest', 'Gaussian Naive Bayes',\\\n",
    "          'Support Vector Machine', 'Gradient Boosting', 'Linear Discriminant Analysis', 'Decision Tree',\\\n",
    "          'soft_VotingClassifier','hard_VotingClassifier']"
   ]
  },
  {
   "cell_type": "code",
   "execution_count": 9,
   "metadata": {},
   "outputs": [
    {
     "name": "stdout",
     "output_type": "stream",
     "text": [
      "<class 'sklearn.neighbors.classification.KNeighborsClassifier'><class 'sklearn.discriminant_analysis.LinearDiscriminantAnalysis'><class 'sklearn.ensemble.forest.RandomForestClassifier'><class 'sklearn.naive_bayes.GaussianNB'><class 'sklearn.tree.tree.DecisionTreeClassifier'><class 'sklearn.linear_model.logistic.LogisticRegression'>\n",
      "\n",
      "\n",
      "\n",
      "\n",
      "\n"
     ]
    },
    {
     "name": "stderr",
     "output_type": "stream",
     "text": [
      "/home/amin/.local/lib/python3.6/site-packages/ipykernel_launcher.py:137: DataConversionWarning: Data with input dtype int64, float64 were all converted to float64 by StandardScaler.\n",
      "/home/amin/.local/lib/python3.6/site-packages/sklearn/linear_model/logistic.py:433: FutureWarning: Default solver will be changed to 'lbfgs' in 0.22. Specify a solver to silence this warning.\n",
      "  FutureWarning)\n",
      "/home/amin/.local/lib/python3.6/site-packages/sklearn/linear_model/logistic.py:460: FutureWarning: Default multi_class will be changed to 'auto' in 0.22. Specify the multi_class option to silence this warning.\n",
      "  \"this warning.\", FutureWarning)\n",
      "/home/amin/.local/lib/python3.6/site-packages/ipykernel_launcher.py:137: DataConversionWarning: Data with input dtype int64, float64 were all converted to float64 by StandardScaler.\n"
     ]
    },
    {
     "name": "stdout",
     "output_type": "stream",
     "text": [
      "Linear Discriminant Analysis\n",
      "[[47  7  1  6  0]\n",
      " [ 1 12  0  2  2]\n",
      " [ 1  2  1  0  0]\n",
      " [ 3  2  0  0  0]\n",
      " [ 0  3  1  0  0]]\n",
      "Logistic Regression\n",
      "[[54  2  0  5  0]\n",
      " [ 1 13  0  1  2]\n",
      " [ 1  0  1  1  1]\n",
      " [ 4  1  0  0  0]\n",
      " [ 0  3  1  0  0]]\n"
     ]
    },
    {
     "name": "stderr",
     "output_type": "stream",
     "text": [
      "/home/amin/.local/lib/python3.6/site-packages/ipykernel_launcher.py:137: DataConversionWarning: Data with input dtype int64, float64 were all converted to float64 by StandardScaler.\n"
     ]
    },
    {
     "name": "stdout",
     "output_type": "stream",
     "text": [
      "Gaussian Naive Bayes\n",
      "[[51  8  0  2  0]\n",
      " [ 3 13  0  1  0]\n",
      " [ 2  2  0  0  0]\n",
      " [ 3  2  0  0  0]\n",
      " [ 0  4  0  0  0]]\n"
     ]
    },
    {
     "name": "stderr",
     "output_type": "stream",
     "text": [
      "/home/amin/.local/lib/python3.6/site-packages/ipykernel_launcher.py:137: DataConversionWarning: Data with input dtype int64, float64 were all converted to float64 by StandardScaler.\n",
      "/home/amin/.local/lib/python3.6/site-packages/sklearn/ensemble/forest.py:246: FutureWarning: The default value of n_estimators will change from 10 in version 0.20 to 100 in 0.22.\n",
      "  \"10 in version 0.20 to 100 in 0.22.\", FutureWarning)\n",
      "/home/amin/.local/lib/python3.6/site-packages/ipykernel_launcher.py:137: DataConversionWarning: Data with input dtype int64, float64 were all converted to float64 by StandardScaler.\n"
     ]
    },
    {
     "name": "stdout",
     "output_type": "stream",
     "text": [
      "Random Forest\n",
      "[[61  0  0  0  0]\n",
      " [ 2 15  0  0  0]\n",
      " [ 3  1  0  0  0]\n",
      " [ 4  1  0  0  0]\n",
      " [ 0  4  0  0  0]]\n"
     ]
    },
    {
     "name": "stderr",
     "output_type": "stream",
     "text": [
      "/home/amin/.local/lib/python3.6/site-packages/ipykernel_launcher.py:137: DataConversionWarning: Data with input dtype int64, float64 were all converted to float64 by StandardScaler.\n"
     ]
    },
    {
     "name": "stdout",
     "output_type": "stream",
     "text": [
      "Decision Tree\n",
      "[[56  0  1  4  0]\n",
      " [ 1 11  0  2  3]\n",
      " [ 0  2  1  1  0]\n",
      " [ 2  1  1  1  0]\n",
      " [ 0  4  0  0  0]]\n",
      "K Neighbors Classifier\n",
      "[[54  6  0  0  1]\n",
      " [ 4 12  0  1  0]\n",
      " [ 1  2  0  0  1]\n",
      " [ 3  2  0  0  0]\n",
      " [ 1  3  0  0  0]]\n"
     ]
    },
    {
     "name": "stderr",
     "output_type": "stream",
     "text": [
      "/home/amin/.local/lib/python3.6/site-packages/kmeans_smote.py:322: UserWarning: No minority clusters found for class 5. Performing regular SMOTE. Try changing the number of clusters.\n",
      "  warnings.warn('No minority clusters found for class {}. Performing regular SMOTE. Try changing the number of clusters.'.format(minority_class_label))\n",
      "/home/amin/.local/lib/python3.6/site-packages/ipykernel_launcher.py:137: DataConversionWarning: Data with input dtype int64, float64 were all converted to float64 by StandardScaler.\n",
      "/home/amin/.local/lib/python3.6/site-packages/sklearn/linear_model/logistic.py:433: FutureWarning: Default solver will be changed to 'lbfgs' in 0.22. Specify a solver to silence this warning.\n",
      "  FutureWarning)\n",
      "/home/amin/.local/lib/python3.6/site-packages/sklearn/linear_model/logistic.py:460: FutureWarning: Default multi_class will be changed to 'auto' in 0.22. Specify the multi_class option to silence this warning.\n",
      "  \"this warning.\", FutureWarning)\n",
      "/home/amin/.local/lib/python3.6/site-packages/kmeans_smote.py:322: UserWarning: No minority clusters found for class 5. Performing regular SMOTE. Try changing the number of clusters.\n",
      "  warnings.warn('No minority clusters found for class {}. Performing regular SMOTE. Try changing the number of clusters.'.format(minority_class_label))\n",
      "/home/amin/.local/lib/python3.6/site-packages/kmeans_smote.py:322: UserWarning: No minority clusters found for class 5. Performing regular SMOTE. Try changing the number of clusters.\n",
      "  warnings.warn('No minority clusters found for class {}. Performing regular SMOTE. Try changing the number of clusters.'.format(minority_class_label))\n",
      "/home/amin/.local/lib/python3.6/site-packages/ipykernel_launcher.py:137: DataConversionWarning: Data with input dtype int64, float64 were all converted to float64 by StandardScaler.\n",
      "/home/amin/.local/lib/python3.6/site-packages/sklearn/discriminant_analysis.py:388: UserWarning: Variables are collinear.\n",
      "  warnings.warn(\"Variables are collinear.\")\n"
     ]
    },
    {
     "name": "stdout",
     "output_type": "stream",
     "text": [
      "Linear Discriminant Analysis\n",
      "[[53  2  0  3  3]\n",
      " [ 4  8  2  0  3]\n",
      " [ 2  0  1  0  1]\n",
      " [ 4  0  1  0  0]\n",
      " [ 0  2  0  0  3]]\n"
     ]
    },
    {
     "name": "stderr",
     "output_type": "stream",
     "text": [
      "/home/amin/.local/lib/python3.6/site-packages/ipykernel_launcher.py:137: DataConversionWarning: Data with input dtype int64, float64 were all converted to float64 by StandardScaler.\n"
     ]
    },
    {
     "name": "stdout",
     "output_type": "stream",
     "text": [
      "Gaussian Naive Bayes\n",
      "[[59  1  0  1  0]\n",
      " [ 4 13  0  0  0]\n",
      " [ 4  0  0  0  0]\n",
      " [ 5  0  0  0  0]\n",
      " [ 0  3  0  0  2]]\n",
      "Logistic Regression\n",
      "[[37  2  4 18  0]\n",
      " [ 0  9  4  2  2]\n",
      " [ 0  0  3  1  0]\n",
      " [ 2  0  2  1  0]\n",
      " [ 0  2  0  0  3]]\n"
     ]
    },
    {
     "name": "stderr",
     "output_type": "stream",
     "text": [
      "/home/amin/.local/lib/python3.6/site-packages/ipykernel_launcher.py:137: DataConversionWarning: Data with input dtype int64, float64 were all converted to float64 by StandardScaler.\n"
     ]
    },
    {
     "name": "stdout",
     "output_type": "stream",
     "text": [
      "Decision Tree\n",
      "[[51  2  2  6  0]\n",
      " [ 3  8  1  3  2]\n",
      " [ 1  0  2  1  0]\n",
      " [ 4  0  1  0  0]\n",
      " [ 1  2  1  0  1]]\n"
     ]
    },
    {
     "name": "stderr",
     "output_type": "stream",
     "text": [
      "/home/amin/.local/lib/python3.6/site-packages/ipykernel_launcher.py:137: DataConversionWarning: Data with input dtype int64, float64 were all converted to float64 by StandardScaler.\n"
     ]
    },
    {
     "name": "stdout",
     "output_type": "stream",
     "text": [
      "K Neighbors Classifier\n",
      "[[58  0  0  0  3]\n",
      " [ 6 11  0  0  0]\n",
      " [ 4  0  0  0  0]\n",
      " [ 5  0  0  0  0]\n",
      " [ 1  2  0  0  2]]\n"
     ]
    },
    {
     "name": "stderr",
     "output_type": "stream",
     "text": [
      "/home/amin/.local/lib/python3.6/site-packages/ipykernel_launcher.py:137: DataConversionWarning: Data with input dtype int64, float64 were all converted to float64 by StandardScaler.\n"
     ]
    },
    {
     "name": "stdout",
     "output_type": "stream",
     "text": [
      "Random Forest\n",
      "[[57  0  0  4  0]\n",
      " [ 3 12  0  1  1]\n",
      " [ 3  0  1  0  0]\n",
      " [ 4  0  0  1  0]\n",
      " [ 0  4  0  0  1]]\n"
     ]
    },
    {
     "name": "stderr",
     "output_type": "stream",
     "text": [
      "/home/amin/.local/lib/python3.6/site-packages/ipykernel_launcher.py:137: DataConversionWarning: Data with input dtype int64, float64 were all converted to float64 by StandardScaler.\n",
      "/home/amin/.local/lib/python3.6/site-packages/sklearn/linear_model/logistic.py:433: FutureWarning: Default solver will be changed to 'lbfgs' in 0.22. Specify a solver to silence this warning.\n",
      "  FutureWarning)\n",
      "/home/amin/.local/lib/python3.6/site-packages/sklearn/linear_model/logistic.py:460: FutureWarning: Default multi_class will be changed to 'auto' in 0.22. Specify the multi_class option to silence this warning.\n",
      "  \"this warning.\", FutureWarning)\n"
     ]
    },
    {
     "name": "stdout",
     "output_type": "stream",
     "text": [
      "Logistic Regression\n",
      "[[53  0  2  5  1]\n",
      " [ 0 13  0  0  4]\n",
      " [ 1  0  2  1  0]\n",
      " [ 3  1  1  0  0]\n",
      " [ 0  3  0  0  2]]\n"
     ]
    },
    {
     "name": "stderr",
     "output_type": "stream",
     "text": [
      "/home/amin/.local/lib/python3.6/site-packages/ipykernel_launcher.py:137: DataConversionWarning: Data with input dtype int64, float64 were all converted to float64 by StandardScaler.\n"
     ]
    },
    {
     "name": "stdout",
     "output_type": "stream",
     "text": [
      "Linear Discriminant Analysis\n",
      "[[55  0  3  1  2]\n",
      " [ 2 13  0  0  2]\n",
      " [ 4  0  0  0  0]\n",
      " [ 3  0  1  0  1]\n",
      " [ 0  2  0  0  3]]\n"
     ]
    },
    {
     "name": "stderr",
     "output_type": "stream",
     "text": [
      "/home/amin/.local/lib/python3.6/site-packages/ipykernel_launcher.py:137: DataConversionWarning: Data with input dtype int64, float64 were all converted to float64 by StandardScaler.\n",
      "/home/amin/.local/lib/python3.6/site-packages/ipykernel_launcher.py:137: DataConversionWarning: Data with input dtype int64, float64 were all converted to float64 by StandardScaler.\n"
     ]
    },
    {
     "name": "stdout",
     "output_type": "stream",
     "text": [
      "K Neighbors Classifier\n",
      "[[55  1  0  3  2]\n",
      " [ 3 12  0  0  2]\n",
      " [ 3  0  0  0  1]\n",
      " [ 4  0  0  1  0]\n",
      " [ 1  3  0  0  1]]\n",
      "Random Forest\n",
      "[[57  1  0  1  2]\n",
      " [ 2 15  0  0  0]\n",
      " [ 3  0  0  1  0]\n",
      " [ 5  0  0  0  0]\n",
      " [ 0  4  0  0  1]]\n"
     ]
    },
    {
     "name": "stderr",
     "output_type": "stream",
     "text": [
      "/home/amin/.local/lib/python3.6/site-packages/ipykernel_launcher.py:137: DataConversionWarning: Data with input dtype int64, float64 were all converted to float64 by StandardScaler.\n"
     ]
    },
    {
     "name": "stdout",
     "output_type": "stream",
     "text": [
      "Gaussian Naive Bayes\n",
      "[[52  8  0  1  0]\n",
      " [ 5 12  0  0  0]\n",
      " [ 4  0  0  0  0]\n",
      " [ 5  0  0  0  0]\n",
      " [ 0  4  0  0  1]]\n"
     ]
    },
    {
     "name": "stderr",
     "output_type": "stream",
     "text": [
      "/home/amin/.local/lib/python3.6/site-packages/ipykernel_launcher.py:137: DataConversionWarning: Data with input dtype int64, float64 were all converted to float64 by StandardScaler.\n"
     ]
    },
    {
     "name": "stdout",
     "output_type": "stream",
     "text": [
      "Decision Tree\n",
      "[[50  4  3  4  0]\n",
      " [ 2 13  0  1  1]\n",
      " [ 3  1  0  0  0]\n",
      " [ 4  0  0  1  0]\n",
      " [ 1  3  0  0  1]]\n"
     ]
    },
    {
     "name": "stderr",
     "output_type": "stream",
     "text": [
      "/home/amin/.local/lib/python3.6/site-packages/kmeans_smote.py:322: UserWarning: No minority clusters found for class 5. Performing regular SMOTE. Try changing the number of clusters.\n",
      "  warnings.warn('No minority clusters found for class {}. Performing regular SMOTE. Try changing the number of clusters.'.format(minority_class_label))\n",
      "/home/amin/.local/lib/python3.6/site-packages/kmeans_smote.py:322: UserWarning: No minority clusters found for class 5. Performing regular SMOTE. Try changing the number of clusters.\n",
      "  warnings.warn('No minority clusters found for class {}. Performing regular SMOTE. Try changing the number of clusters.'.format(minority_class_label))\n",
      "/home/amin/.local/lib/python3.6/site-packages/ipykernel_launcher.py:137: DataConversionWarning: Data with input dtype int64, float64 were all converted to float64 by StandardScaler.\n"
     ]
    },
    {
     "name": "stdout",
     "output_type": "stream",
     "text": [
      "Linear Discriminant Analysis\n",
      "[[29  4 10 18  0]\n",
      " [ 0 10  1  0  6]\n",
      " [ 0  0  0  2  2]\n",
      " [ 2  0  0  2  1]\n",
      " [ 0  4  0  0  1]]\n"
     ]
    },
    {
     "name": "stderr",
     "output_type": "stream",
     "text": [
      "/home/amin/.local/lib/python3.6/site-packages/kmeans_smote.py:322: UserWarning: No minority clusters found for class 5. Performing regular SMOTE. Try changing the number of clusters.\n",
      "  warnings.warn('No minority clusters found for class {}. Performing regular SMOTE. Try changing the number of clusters.'.format(minority_class_label))\n",
      "/home/amin/.local/lib/python3.6/site-packages/kmeans_smote.py:322: UserWarning: No minority clusters found for class 5. Performing regular SMOTE. Try changing the number of clusters.\n",
      "  warnings.warn('No minority clusters found for class {}. Performing regular SMOTE. Try changing the number of clusters.'.format(minority_class_label))\n",
      "/home/amin/.local/lib/python3.6/site-packages/kmeans_smote.py:322: UserWarning: No minority clusters found for class 5. Performing regular SMOTE. Try changing the number of clusters.\n",
      "  warnings.warn('No minority clusters found for class {}. Performing regular SMOTE. Try changing the number of clusters.'.format(minority_class_label))\n",
      "/home/amin/.local/lib/python3.6/site-packages/kmeans_smote.py:322: UserWarning: No minority clusters found for class 5. Performing regular SMOTE. Try changing the number of clusters.\n",
      "  warnings.warn('No minority clusters found for class {}. Performing regular SMOTE. Try changing the number of clusters.'.format(minority_class_label))\n",
      "/home/amin/.local/lib/python3.6/site-packages/ipykernel_launcher.py:137: DataConversionWarning: Data with input dtype int64, float64 were all converted to float64 by StandardScaler.\n",
      "/home/amin/.local/lib/python3.6/site-packages/sklearn/linear_model/logistic.py:433: FutureWarning: Default solver will be changed to 'lbfgs' in 0.22. Specify a solver to silence this warning.\n",
      "  FutureWarning)\n",
      "/home/amin/.local/lib/python3.6/site-packages/sklearn/linear_model/logistic.py:460: FutureWarning: Default multi_class will be changed to 'auto' in 0.22. Specify the multi_class option to silence this warning.\n",
      "  \"this warning.\", FutureWarning)\n",
      "/home/amin/.local/lib/python3.6/site-packages/ipykernel_launcher.py:137: DataConversionWarning: Data with input dtype int64, float64 were all converted to float64 by StandardScaler.\n"
     ]
    },
    {
     "name": "stdout",
     "output_type": "stream",
     "text": [
      "Gaussian Naive Bayes\n",
      "[[30  6  7 18  0]\n",
      " [ 0  6  0  0 11]\n",
      " [ 0  1  2  0  1]\n",
      " [ 2  0  1  2  0]\n",
      " [ 1  1  1  0  2]]\n"
     ]
    },
    {
     "name": "stderr",
     "output_type": "stream",
     "text": [
      "/home/amin/.local/lib/python3.6/site-packages/ipykernel_launcher.py:137: DataConversionWarning: Data with input dtype int64, float64 were all converted to float64 by StandardScaler.\n",
      "/home/amin/.local/lib/python3.6/site-packages/ipykernel_launcher.py:137: DataConversionWarning: Data with input dtype int64, float64 were all converted to float64 by StandardScaler.\n"
     ]
    },
    {
     "name": "stdout",
     "output_type": "stream",
     "text": [
      "K Neighbors Classifier\n",
      "[[33  1  6 18  3]\n",
      " [ 0 12  0  0  5]\n",
      " [ 0  1  1  1  1]\n",
      " [ 3  0  0  2  0]\n",
      " [ 0  3  2  0  0]]\n",
      "Logistic Regression\n",
      "[[40  4  6 11  0]\n",
      " [ 0  9  2  0  6]\n",
      " [ 0  1  0  2  1]\n",
      " [ 3  0  0  2  0]\n",
      " [ 0  3  1  0  1]]\n",
      "Random Forest\n",
      "[[52  3  5  1  0]\n",
      " [ 1 13  0  0  3]\n",
      " [ 1  1  0  1  1]\n",
      " [ 5  0  0  0  0]\n",
      " [ 1  3  1  0  0]]\n"
     ]
    },
    {
     "name": "stderr",
     "output_type": "stream",
     "text": [
      "/home/amin/.local/lib/python3.6/site-packages/ipykernel_launcher.py:137: DataConversionWarning: Data with input dtype int64, float64 were all converted to float64 by StandardScaler.\n"
     ]
    },
    {
     "name": "stdout",
     "output_type": "stream",
     "text": [
      "Decision Tree\n",
      "[[48  1  3  7  2]\n",
      " [ 2 10  1  0  4]\n",
      " [ 1  0  1  1  1]\n",
      " [ 5  0  0  0  0]\n",
      " [ 1  3  0  1  0]]\n"
     ]
    },
    {
     "name": "stderr",
     "output_type": "stream",
     "text": [
      "/home/amin/.local/lib/python3.6/site-packages/ipykernel_launcher.py:137: DataConversionWarning: Data with input dtype int64, float64 were all converted to float64 by StandardScaler.\n"
     ]
    },
    {
     "name": "stdout",
     "output_type": "stream",
     "text": [
      "Linear Discriminant Analysis\n",
      "[[47  2  4  5  3]\n",
      " [ 2  4  0  0 11]\n",
      " [ 2  1  0  0  2]\n",
      " [ 3  0  1  1  0]\n",
      " [ 0  3  1  0  1]]\n"
     ]
    },
    {
     "name": "stderr",
     "output_type": "stream",
     "text": [
      "/home/amin/.local/lib/python3.6/site-packages/kmeans_smote.py:322: UserWarning: No minority clusters found for class 5. Performing regular SMOTE. Try changing the number of clusters.\n",
      "  warnings.warn('No minority clusters found for class {}. Performing regular SMOTE. Try changing the number of clusters.'.format(minority_class_label))\n",
      "/home/amin/.local/lib/python3.6/site-packages/ipykernel_launcher.py:137: DataConversionWarning: Data with input dtype int64, float64 were all converted to float64 by StandardScaler.\n"
     ]
    },
    {
     "name": "stdout",
     "output_type": "stream",
     "text": [
      "Gaussian Naive Bayes\n",
      "[[40  5  1 15  0]\n",
      " [ 2  4  0  0 11]\n",
      " [ 3  1  0  0  1]\n",
      " [ 3  0  1  1  0]\n",
      " [ 0  4  0  0  1]]\n"
     ]
    },
    {
     "name": "stderr",
     "output_type": "stream",
     "text": [
      "/home/amin/.local/lib/python3.6/site-packages/kmeans_smote.py:322: UserWarning: No minority clusters found for class 5. Performing regular SMOTE. Try changing the number of clusters.\n",
      "  warnings.warn('No minority clusters found for class {}. Performing regular SMOTE. Try changing the number of clusters.'.format(minority_class_label))\n",
      "/home/amin/.local/lib/python3.6/site-packages/ipykernel_launcher.py:137: DataConversionWarning: Data with input dtype int64, float64 were all converted to float64 by StandardScaler.\n"
     ]
    },
    {
     "name": "stdout",
     "output_type": "stream",
     "text": [
      "K Neighbors Classifier\n",
      "[[53  3  0  4  1]\n",
      " [ 2 12  1  0  2]\n",
      " [ 3  1  1  0  0]\n",
      " [ 4  0  1  0  0]\n",
      " [ 1  4  0  0  0]]\n"
     ]
    },
    {
     "name": "stderr",
     "output_type": "stream",
     "text": [
      "/home/amin/.local/lib/python3.6/site-packages/ipykernel_launcher.py:137: DataConversionWarning: Data with input dtype int64, float64 were all converted to float64 by StandardScaler.\n"
     ]
    },
    {
     "name": "stdout",
     "output_type": "stream",
     "text": [
      "Random Forest\n",
      "[[60  1  0  0  0]\n",
      " [ 2 13  1  0  1]\n",
      " [ 3  2  0  0  0]\n",
      " [ 5  0  0  0  0]\n",
      " [ 1  4  0  0  0]]\n"
     ]
    },
    {
     "name": "stderr",
     "output_type": "stream",
     "text": [
      "/home/amin/.local/lib/python3.6/site-packages/ipykernel_launcher.py:137: DataConversionWarning: Data with input dtype int64, float64 were all converted to float64 by StandardScaler.\n",
      "/home/amin/.local/lib/python3.6/site-packages/sklearn/linear_model/logistic.py:433: FutureWarning: Default solver will be changed to 'lbfgs' in 0.22. Specify a solver to silence this warning.\n",
      "  FutureWarning)\n",
      "/home/amin/.local/lib/python3.6/site-packages/sklearn/linear_model/logistic.py:460: FutureWarning: Default multi_class will be changed to 'auto' in 0.22. Specify the multi_class option to silence this warning.\n",
      "  \"this warning.\", FutureWarning)\n",
      "/home/amin/.local/lib/python3.6/site-packages/kmeans_smote.py:322: UserWarning: No minority clusters found for class 5. Performing regular SMOTE. Try changing the number of clusters.\n",
      "  warnings.warn('No minority clusters found for class {}. Performing regular SMOTE. Try changing the number of clusters.'.format(minority_class_label))\n"
     ]
    },
    {
     "name": "stdout",
     "output_type": "stream",
     "text": [
      "Logistic Regression"
     ]
    },
    {
     "name": "stderr",
     "output_type": "stream",
     "text": [
      "/home/amin/.local/lib/python3.6/site-packages/ipykernel_launcher.py:137: DataConversionWarning: Data with input dtype int64, float64 were all converted to float64 by StandardScaler.\n"
     ]
    },
    {
     "name": "stdout",
     "output_type": "stream",
     "text": [
      "\n",
      "[[32  5  5 19  0]\n",
      " [ 0 11  1  0  5]\n",
      " [ 2  1  1  0  1]\n",
      " [ 2  0  1  2  0]\n",
      " [ 0  3  1  0  1]]\n",
      "Decision Tree\n",
      "[[51  3  2  4  1]\n",
      " [ 1  9  2  0  5]\n",
      " [ 1  0  1  1  2]\n",
      " [ 4  0  1  0  0]\n",
      " [ 0  4  0  0  1]]\n"
     ]
    },
    {
     "name": "stderr",
     "output_type": "stream",
     "text": [
      "/home/amin/.local/lib/python3.6/site-packages/ipykernel_launcher.py:137: DataConversionWarning: Data with input dtype int64, float64 were all converted to float64 by StandardScaler.\n"
     ]
    },
    {
     "name": "stdout",
     "output_type": "stream",
     "text": [
      "Linear Discriminant Analysis\n",
      "[[33  1  6 18  3]\n",
      " [ 0  9  5  0  3]\n",
      " [ 0  1  2  1  0]\n",
      " [ 0  0  3  2  0]\n",
      " [ 0  3  0  0  1]]\n"
     ]
    },
    {
     "name": "stderr",
     "output_type": "stream",
     "text": [
      "/home/amin/.local/lib/python3.6/site-packages/kmeans_smote.py:322: UserWarning: No minority clusters found for class 5. Performing regular SMOTE. Try changing the number of clusters.\n",
      "  warnings.warn('No minority clusters found for class {}. Performing regular SMOTE. Try changing the number of clusters.'.format(minority_class_label))\n",
      "/home/amin/.local/lib/python3.6/site-packages/kmeans_smote.py:322: UserWarning: No minority clusters found for class 5. Performing regular SMOTE. Try changing the number of clusters.\n",
      "  warnings.warn('No minority clusters found for class {}. Performing regular SMOTE. Try changing the number of clusters.'.format(minority_class_label))\n",
      "/home/amin/.local/lib/python3.6/site-packages/ipykernel_launcher.py:137: DataConversionWarning: Data with input dtype int64, float64 were all converted to float64 by StandardScaler.\n"
     ]
    },
    {
     "name": "stdout",
     "output_type": "stream",
     "text": [
      "Gaussian Naive Bayes\n",
      "[[29  2  7 22  1]\n",
      " [ 0 13  0  1  3]\n",
      " [ 1  1  2  0  0]\n",
      " [ 1  0  2  2  0]\n",
      " [ 0  1  0  0  3]]\n"
     ]
    },
    {
     "name": "stderr",
     "output_type": "stream",
     "text": [
      "/home/amin/.local/lib/python3.6/site-packages/ipykernel_launcher.py:137: DataConversionWarning: Data with input dtype int64, float64 were all converted to float64 by StandardScaler.\n",
      "/home/amin/.local/lib/python3.6/site-packages/ipykernel_launcher.py:137: DataConversionWarning: Data with input dtype int64, float64 were all converted to float64 by StandardScaler.\n"
     ]
    },
    {
     "name": "stdout",
     "output_type": "stream",
     "text": [
      "K Neighbors Classifier\n",
      "[[34  1  6 20  0]\n",
      " [ 1  9  1  1  5]\n",
      " [ 1  0  1  1  1]\n",
      " [ 2  0  0  3  0]\n",
      " [ 0  3  0  0  1]]\n",
      "Random Forest\n",
      "[[57  1  2  0  1]\n",
      " [ 3 11  2  0  1]\n",
      " [ 4  0  0  0  0]\n",
      " [ 5  0  0  0  0]\n",
      " [ 0  4  0  0  0]]\n"
     ]
    },
    {
     "name": "stderr",
     "output_type": "stream",
     "text": [
      "/home/amin/.local/lib/python3.6/site-packages/ipykernel_launcher.py:137: DataConversionWarning: Data with input dtype int64, float64 were all converted to float64 by StandardScaler.\n"
     ]
    },
    {
     "name": "stdout",
     "output_type": "stream",
     "text": [
      "Decision Tree\n",
      "[[51  2  2  5  1]\n",
      " [ 2 10  1  0  4]\n",
      " [ 2  1  1  0  0]\n",
      " [ 4  0  1  0  0]\n",
      " [ 0  3  0  0  1]]\n"
     ]
    },
    {
     "name": "stderr",
     "output_type": "stream",
     "text": [
      "/home/amin/.local/lib/python3.6/site-packages/ipykernel_launcher.py:137: DataConversionWarning: Data with input dtype int64, float64 were all converted to float64 by StandardScaler.\n",
      "/home/amin/.local/lib/python3.6/site-packages/sklearn/linear_model/logistic.py:433: FutureWarning: Default solver will be changed to 'lbfgs' in 0.22. Specify a solver to silence this warning.\n",
      "  FutureWarning)\n",
      "/home/amin/.local/lib/python3.6/site-packages/sklearn/linear_model/logistic.py:460: FutureWarning: Default multi_class will be changed to 'auto' in 0.22. Specify the multi_class option to silence this warning.\n",
      "  \"this warning.\", FutureWarning)\n",
      "/home/amin/.local/lib/python3.6/site-packages/kmeans_smote.py:322: UserWarning: No minority clusters found for class 5. Performing regular SMOTE. Try changing the number of clusters.\n",
      "  warnings.warn('No minority clusters found for class {}. Performing regular SMOTE. Try changing the number of clusters.'.format(minority_class_label))\n"
     ]
    },
    {
     "name": "stdout",
     "output_type": "stream",
     "text": [
      "Logistic Regression\n",
      "[[55  3  3  0  0]\n",
      " [ 3 11  1  0  2]\n",
      " [ 1  0  3  0  0]\n",
      " [ 3  0  2  0  0]\n",
      " [ 0  3  0  0  1]]\n"
     ]
    },
    {
     "name": "stderr",
     "output_type": "stream",
     "text": [
      "/home/amin/.local/lib/python3.6/site-packages/ipykernel_launcher.py:137: DataConversionWarning: Data with input dtype int64, float64 were all converted to float64 by StandardScaler.\n"
     ]
    },
    {
     "name": "stdout",
     "output_type": "stream",
     "text": [
      "Linear Discriminant Analysis\n",
      "[[38  5  3 11  4]\n",
      " [ 0 13  0  1  3]\n",
      " [ 1  0  1  1  1]\n",
      " [ 0  0  2  3  0]\n",
      " [ 0  4  1  0  0]]\n"
     ]
    },
    {
     "name": "stderr",
     "output_type": "stream",
     "text": [
      "/home/amin/.local/lib/python3.6/site-packages/kmeans_smote.py:322: UserWarning: No minority clusters found for class 5. Performing regular SMOTE. Try changing the number of clusters.\n",
      "  warnings.warn('No minority clusters found for class {}. Performing regular SMOTE. Try changing the number of clusters.'.format(minority_class_label))\n",
      "/home/amin/.local/lib/python3.6/site-packages/kmeans_smote.py:322: UserWarning: No minority clusters found for class 5. Performing regular SMOTE. Try changing the number of clusters.\n",
      "  warnings.warn('No minority clusters found for class {}. Performing regular SMOTE. Try changing the number of clusters.'.format(minority_class_label))\n",
      "/home/amin/.local/lib/python3.6/site-packages/kmeans_smote.py:322: UserWarning: No minority clusters found for class 5. Performing regular SMOTE. Try changing the number of clusters.\n",
      "  warnings.warn('No minority clusters found for class {}. Performing regular SMOTE. Try changing the number of clusters.'.format(minority_class_label))\n",
      "/home/amin/.local/lib/python3.6/site-packages/kmeans_smote.py:322: UserWarning: No minority clusters found for class 5. Performing regular SMOTE. Try changing the number of clusters.\n",
      "  warnings.warn('No minority clusters found for class {}. Performing regular SMOTE. Try changing the number of clusters.'.format(minority_class_label))\n",
      "/home/amin/.local/lib/python3.6/site-packages/ipykernel_launcher.py:137: DataConversionWarning: Data with input dtype int64, float64 were all converted to float64 by StandardScaler.\n"
     ]
    },
    {
     "name": "stdout",
     "output_type": "stream",
     "text": [
      "Gaussian Naive Bayes\n",
      "[[29  1  1 27  3]\n",
      " [ 0  7  0  2  8]\n",
      " [ 2  1  1  0  0]\n",
      " [ 0  0  2  3  0]\n",
      " [ 0  2  0  1  2]]\n"
     ]
    },
    {
     "name": "stderr",
     "output_type": "stream",
     "text": [
      "/home/amin/.local/lib/python3.6/site-packages/kmeans_smote.py:322: UserWarning: No minority clusters found for class 5. Performing regular SMOTE. Try changing the number of clusters.\n",
      "  warnings.warn('No minority clusters found for class {}. Performing regular SMOTE. Try changing the number of clusters.'.format(minority_class_label))\n",
      "/home/amin/.local/lib/python3.6/site-packages/ipykernel_launcher.py:137: DataConversionWarning: Data with input dtype int64, float64 were all converted to float64 by StandardScaler.\n"
     ]
    },
    {
     "name": "stdout",
     "output_type": "stream",
     "text": [
      "Random Forest\n",
      "[[59  2  0  0  0]\n",
      " [ 0 13  0  0  4]\n",
      " [ 2  0  2  0  0]\n",
      " [ 4  0  1  0  0]\n",
      " [ 0  3  1  0  1]]\n"
     ]
    },
    {
     "name": "stderr",
     "output_type": "stream",
     "text": [
      "/home/amin/.local/lib/python3.6/site-packages/kmeans_smote.py:322: UserWarning: No minority clusters found for class 5. Performing regular SMOTE. Try changing the number of clusters.\n",
      "  warnings.warn('No minority clusters found for class {}. Performing regular SMOTE. Try changing the number of clusters.'.format(minority_class_label))\n",
      "/home/amin/.local/lib/python3.6/site-packages/ipykernel_launcher.py:137: DataConversionWarning: Data with input dtype int64, float64 were all converted to float64 by StandardScaler.\n"
     ]
    },
    {
     "name": "stdout",
     "output_type": "stream",
     "text": [
      "K Neighbors Classifier\n",
      "[[33  3  6 18  1]\n",
      " [ 0  9  0  1  7]\n",
      " [ 1  0  2  0  1]\n",
      " [ 2  0  2  1  0]\n",
      " [ 0  2  2  0  1]]\n"
     ]
    },
    {
     "name": "stderr",
     "output_type": "stream",
     "text": [
      "/home/amin/.local/lib/python3.6/site-packages/ipykernel_launcher.py:137: DataConversionWarning: Data with input dtype int64, float64 were all converted to float64 by StandardScaler.\n",
      "/home/amin/.local/lib/python3.6/site-packages/sklearn/linear_model/logistic.py:433: FutureWarning: Default solver will be changed to 'lbfgs' in 0.22. Specify a solver to silence this warning.\n",
      "  FutureWarning)\n",
      "/home/amin/.local/lib/python3.6/site-packages/sklearn/linear_model/logistic.py:460: FutureWarning: Default multi_class will be changed to 'auto' in 0.22. Specify the multi_class option to silence this warning.\n",
      "  \"this warning.\", FutureWarning)\n",
      "/home/amin/.local/lib/python3.6/site-packages/ipykernel_launcher.py:137: DataConversionWarning: Data with input dtype int64, float64 were all converted to float64 by StandardScaler.\n",
      "/home/amin/.local/lib/python3.6/site-packages/ipykernel_launcher.py:137: DataConversionWarning: Data with input dtype int64, float64 were all converted to float64 by StandardScaler.\n"
     ]
    },
    {
     "name": "stdout",
     "output_type": "stream",
     "text": [
      "Linear Discriminant Analysis\n",
      "[[35  5  8 10  3]\n",
      " [ 0 10  3  1  3]\n",
      " [ 0  0  2  0  2]\n",
      " [ 1  0  1  3  0]\n",
      " [ 0  2  0  0  3]]\n",
      "Decision Tree\n",
      "[[54  4  0  3  0]\n",
      " [ 1 10  0  0  6]\n",
      " [ 2  0  1  0  1]\n",
      " [ 4  0  1  0  0]\n",
      " [ 0  2  1  0  2]]\n",
      "Logistic Regression\n",
      "[[41  2  4 14  0]\n",
      " [ 1 10  2  1  3]\n",
      " [ 1  0  2  0  1]\n",
      " [ 2  0  2  1  0]\n",
      " [ 0  2  1  1  1]]\n"
     ]
    },
    {
     "name": "stderr",
     "output_type": "stream",
     "text": [
      "/home/amin/.local/lib/python3.6/site-packages/kmeans_smote.py:322: UserWarning: No minority clusters found for class 5. Performing regular SMOTE. Try changing the number of clusters.\n",
      "  warnings.warn('No minority clusters found for class {}. Performing regular SMOTE. Try changing the number of clusters.'.format(minority_class_label))\n",
      "/home/amin/.local/lib/python3.6/site-packages/kmeans_smote.py:322: UserWarning: No minority clusters found for class 5. Performing regular SMOTE. Try changing the number of clusters.\n",
      "  warnings.warn('No minority clusters found for class {}. Performing regular SMOTE. Try changing the number of clusters.'.format(minority_class_label))\n",
      "/home/amin/.local/lib/python3.6/site-packages/kmeans_smote.py:322: UserWarning: No minority clusters found for class 5. Performing regular SMOTE. Try changing the number of clusters.\n",
      "  warnings.warn('No minority clusters found for class {}. Performing regular SMOTE. Try changing the number of clusters.'.format(minority_class_label))\n",
      "/home/amin/.local/lib/python3.6/site-packages/ipykernel_launcher.py:137: DataConversionWarning: Data with input dtype int64, float64 were all converted to float64 by StandardScaler.\n"
     ]
    },
    {
     "name": "stdout",
     "output_type": "stream",
     "text": [
      "Gaussian Naive Bayes\n",
      "[[25  4 11 19  2]\n",
      " [ 0 11  2  0  4]\n",
      " [ 0  1  3  0  0]\n",
      " [ 2  0  1  2  0]\n",
      " [ 0  2  0  0  3]]\n"
     ]
    },
    {
     "name": "stderr",
     "output_type": "stream",
     "text": [
      "/home/amin/.local/lib/python3.6/site-packages/ipykernel_launcher.py:137: DataConversionWarning: Data with input dtype int64, float64 were all converted to float64 by StandardScaler.\n"
     ]
    },
    {
     "name": "stdout",
     "output_type": "stream",
     "text": [
      "K Neighbors Classifier\n",
      "[[29  6  6 18  2]\n",
      " [ 0  9  0  1  7]\n",
      " [ 0  0  3  0  1]\n",
      " [ 2  0  1  2  0]\n",
      " [ 0  3  0  0  2]]\n"
     ]
    },
    {
     "name": "stderr",
     "output_type": "stream",
     "text": [
      "/home/amin/.local/lib/python3.6/site-packages/ipykernel_launcher.py:137: DataConversionWarning: Data with input dtype int64, float64 were all converted to float64 by StandardScaler.\n"
     ]
    },
    {
     "name": "stdout",
     "output_type": "stream",
     "text": [
      "Random Forest\n",
      "[[54  2  2  1  2]\n",
      " [ 1 14  0  0  2]\n",
      " [ 1  0  2  1  0]\n",
      " [ 4  0  1  0  0]\n",
      " [ 0  4  0  0  1]]\n"
     ]
    },
    {
     "name": "stderr",
     "output_type": "stream",
     "text": [
      "/home/amin/.local/lib/python3.6/site-packages/ipykernel_launcher.py:137: DataConversionWarning: Data with input dtype int64, float64 were all converted to float64 by StandardScaler.\n",
      "/home/amin/.local/lib/python3.6/site-packages/kmeans_smote.py:322: UserWarning: No minority clusters found for class 6. Performing regular SMOTE. Try changing the number of clusters.\n",
      "  warnings.warn('No minority clusters found for class {}. Performing regular SMOTE. Try changing the number of clusters.'.format(minority_class_label))\n",
      "/home/amin/.local/lib/python3.6/site-packages/ipykernel_launcher.py:137: DataConversionWarning: Data with input dtype int64, float64 were all converted to float64 by StandardScaler.\n"
     ]
    },
    {
     "name": "stdout",
     "output_type": "stream",
     "text": [
      "Decision Tree\n",
      "[[51  3  0  7  0]\n",
      " [ 1 13  1  0  2]\n",
      " [ 3  1  0  0  0]\n",
      " [ 4  0  1  0  0]\n",
      " [ 1  3  0  0  1]]\n",
      "Linear Discriminant Analysis\n",
      "[[37  3  4 13  4]\n",
      " [ 0  7  4  0  6]\n",
      " [ 1  0  2  0  1]\n",
      " [ 3  0  0  2  0]\n",
      " [ 0  3  0  0  2]]\n"
     ]
    },
    {
     "name": "stderr",
     "output_type": "stream",
     "text": [
      "/home/amin/.local/lib/python3.6/site-packages/ipykernel_launcher.py:137: DataConversionWarning: Data with input dtype int64, float64 were all converted to float64 by StandardScaler.\n",
      "/home/amin/.local/lib/python3.6/site-packages/sklearn/linear_model/logistic.py:433: FutureWarning: Default solver will be changed to 'lbfgs' in 0.22. Specify a solver to silence this warning.\n",
      "  FutureWarning)\n",
      "/home/amin/.local/lib/python3.6/site-packages/sklearn/linear_model/logistic.py:460: FutureWarning: Default multi_class will be changed to 'auto' in 0.22. Specify the multi_class option to silence this warning.\n",
      "  \"this warning.\", FutureWarning)\n"
     ]
    },
    {
     "name": "stdout",
     "output_type": "stream",
     "text": [
      "Logistic Regression\n",
      "[[51  3  3  3  1]\n",
      " [ 1 10  1  3  2]\n",
      " [ 2  0  1  1  0]\n",
      " [ 3  0  0  2  0]\n",
      " [ 0  0  1  0  4]]\n"
     ]
    },
    {
     "name": "stderr",
     "output_type": "stream",
     "text": [
      "/home/amin/.local/lib/python3.6/site-packages/kmeans_smote.py:322: UserWarning: No minority clusters found for class 5. Performing regular SMOTE. Try changing the number of clusters.\n",
      "  warnings.warn('No minority clusters found for class {}. Performing regular SMOTE. Try changing the number of clusters.'.format(minority_class_label))\n",
      "/home/amin/.local/lib/python3.6/site-packages/kmeans_smote.py:322: UserWarning: No minority clusters found for class 5. Performing regular SMOTE. Try changing the number of clusters.\n",
      "  warnings.warn('No minority clusters found for class {}. Performing regular SMOTE. Try changing the number of clusters.'.format(minority_class_label))\n",
      "/home/amin/.local/lib/python3.6/site-packages/kmeans_smote.py:322: UserWarning: No minority clusters found for class 6. Performing regular SMOTE. Try changing the number of clusters.\n",
      "  warnings.warn('No minority clusters found for class {}. Performing regular SMOTE. Try changing the number of clusters.'.format(minority_class_label))\n",
      "/home/amin/.local/lib/python3.6/site-packages/ipykernel_launcher.py:137: DataConversionWarning: Data with input dtype int64, float64 were all converted to float64 by StandardScaler.\n"
     ]
    },
    {
     "name": "stdout",
     "output_type": "stream",
     "text": [
      "Gaussian Naive Bayes\n",
      "[[29  2 13 14  3]\n",
      " [ 4  2  1  0 10]\n",
      " [ 1  1  1  0  1]\n",
      " [ 1  0  1  3  0]\n",
      " [ 0  0  0  0  5]]\n"
     ]
    },
    {
     "name": "stderr",
     "output_type": "stream",
     "text": [
      "/home/amin/.local/lib/python3.6/site-packages/kmeans_smote.py:322: UserWarning: No minority clusters found for class 6. Performing regular SMOTE. Try changing the number of clusters.\n",
      "  warnings.warn('No minority clusters found for class {}. Performing regular SMOTE. Try changing the number of clusters.'.format(minority_class_label))\n",
      "/home/amin/.local/lib/python3.6/site-packages/ipykernel_launcher.py:137: DataConversionWarning: Data with input dtype int64, float64 were all converted to float64 by StandardScaler.\n"
     ]
    },
    {
     "name": "stdout",
     "output_type": "stream",
     "text": [
      "K Neighbors Classifier\n",
      "[[37  0  6 14  4]\n",
      " [ 1  9  2  1  4]\n",
      " [ 0  1  1  1  1]\n",
      " [ 2  0  0  3  0]\n",
      " [ 0  1  1  0  3]]\n"
     ]
    },
    {
     "name": "stderr",
     "output_type": "stream",
     "text": [
      "/home/amin/.local/lib/python3.6/site-packages/ipykernel_launcher.py:137: DataConversionWarning: Data with input dtype int64, float64 were all converted to float64 by StandardScaler.\n",
      "/home/amin/.local/lib/python3.6/site-packages/kmeans_smote.py:322: UserWarning: No minority clusters found for class 5. Performing regular SMOTE. Try changing the number of clusters.\n",
      "  warnings.warn('No minority clusters found for class {}. Performing regular SMOTE. Try changing the number of clusters.'.format(minority_class_label))\n"
     ]
    },
    {
     "name": "stdout",
     "output_type": "stream",
     "text": [
      "Random Forest\n",
      "[[52  1  4  4  0]\n",
      " [ 3  8  1  1  4]\n",
      " [ 1  2  1  0  0]\n",
      " [ 5  0  0  0  0]\n",
      " [ 0  2  1  0  2]]\n"
     ]
    },
    {
     "name": "stderr",
     "output_type": "stream",
     "text": [
      "/home/amin/.local/lib/python3.6/site-packages/ipykernel_launcher.py:137: DataConversionWarning: Data with input dtype int64, float64 were all converted to float64 by StandardScaler.\n"
     ]
    },
    {
     "name": "stdout",
     "output_type": "stream",
     "text": [
      "Decision Tree\n",
      "[[48  1  4  7  1]\n",
      " [ 3 10  0  1  3]\n",
      " [ 2  1  1  0  0]\n",
      " [ 5  0  0  0  0]\n",
      " [ 1  2  0  0  2]]\n"
     ]
    },
    {
     "name": "stderr",
     "output_type": "stream",
     "text": [
      "/home/amin/.local/lib/python3.6/site-packages/ipykernel_launcher.py:137: DataConversionWarning: Data with input dtype int64, float64 were all converted to float64 by StandardScaler.\n"
     ]
    },
    {
     "name": "stdout",
     "output_type": "stream",
     "text": [
      "Linear Discriminant Analysis\n",
      "[[55  5  2  0  0]\n",
      " [ 2 11  2  0  2]\n",
      " [ 2  1  2  0  0]\n",
      " [ 5  1  0  0  0]\n",
      " [ 1  4  0  0  0]]\n",
      "Accuracy:         0.61  -+0.071\n",
      "<class 'sklearn.svm.classes.SVC'>\n"
     ]
    },
    {
     "name": "stderr",
     "output_type": "stream",
     "text": [
      "/home/amin/.local/lib/python3.6/site-packages/ipykernel_launcher.py:137: DataConversionWarning: Data with input dtype int64, float64 were all converted to float64 by StandardScaler.\n",
      "/home/amin/.local/lib/python3.6/site-packages/sklearn/linear_model/logistic.py:433: FutureWarning: Default solver will be changed to 'lbfgs' in 0.22. Specify a solver to silence this warning.\n",
      "  FutureWarning)\n",
      "/home/amin/.local/lib/python3.6/site-packages/sklearn/linear_model/logistic.py:460: FutureWarning: Default multi_class will be changed to 'auto' in 0.22. Specify the multi_class option to silence this warning.\n",
      "  \"this warning.\", FutureWarning)\n"
     ]
    },
    {
     "name": "stdout",
     "output_type": "stream",
     "text": [
      "Logistic Regression\n",
      "[[44  0  5 11  1]\n",
      " [ 1 11  2  0  3]\n",
      " [ 0  1  2  1  0]\n",
      " [ 2  0  0  3  0]\n",
      " [ 0  1  1  0  3]]\n"
     ]
    },
    {
     "name": "stderr",
     "output_type": "stream",
     "text": [
      "/home/amin/.local/lib/python3.6/site-packages/kmeans_smote.py:322: UserWarning: No minority clusters found for class 5. Performing regular SMOTE. Try changing the number of clusters.\n",
      "  warnings.warn('No minority clusters found for class {}. Performing regular SMOTE. Try changing the number of clusters.'.format(minority_class_label))\n",
      "/home/amin/.local/lib/python3.6/site-packages/ipykernel_launcher.py:137: DataConversionWarning: Data with input dtype int64, float64 were all converted to float64 by StandardScaler.\n",
      "/home/amin/.local/lib/python3.6/site-packages/ipykernel_launcher.py:137: DataConversionWarning: Data with input dtype int64, float64 were all converted to float64 by StandardScaler.\n"
     ]
    },
    {
     "name": "stdout",
     "output_type": "stream",
     "text": [
      "Gaussian Naive Bayes\n",
      "[[50  6  5  1  0]\n",
      " [ 5 12  0  0  0]\n",
      " [ 2  1  2  0  0]\n",
      " [ 6  0  0  0  0]\n",
      " [ 0  5  0  0  0]]\n",
      "Accuracy:         0.57  -+0.0957\n",
      "K Neighbors Classifier<class 'sklearn.ensemble.gradient_boosting.GradientBoostingClassifier'>\n",
      "\n",
      "[[56  2  2  2  0]\n",
      " [ 3 14  0  0  0]\n",
      " [ 4  0  1  0  0]\n",
      " [ 5  0  1  0  0]\n",
      " [ 0  3  1  0  1]]\n",
      "Accuracy:         0.63  -+0.0853\n"
     ]
    },
    {
     "name": "stderr",
     "output_type": "stream",
     "text": [
      "/home/amin/.local/lib/python3.6/site-packages/ipykernel_launcher.py:137: DataConversionWarning: Data with input dtype int64, float64 were all converted to float64 by StandardScaler.\n"
     ]
    },
    {
     "name": "stdout",
     "output_type": "stream",
     "text": [
      "Random Forest\n",
      "[[60  1  1  0  0]\n",
      " [ 2 14  0  0  1]\n",
      " [ 4  1  0  0  0]\n",
      " [ 6  0  0  0  0]\n",
      " [ 0  5  0  0  0]]\n",
      "Accuracy:         0.77  -+0.033\n"
     ]
    },
    {
     "name": "stderr",
     "output_type": "stream",
     "text": [
      "/home/amin/.local/lib/python3.6/site-packages/ipykernel_launcher.py:137: DataConversionWarning: Data with input dtype int64, float64 were all converted to float64 by StandardScaler.\n"
     ]
    },
    {
     "name": "stdout",
     "output_type": "stream",
     "text": [
      "Decision Tree\n",
      "[[49  1  7  4  1]\n",
      " [ 0 11  1  0  5]\n",
      " [ 2  1  1  1  0]\n",
      " [ 6  0  0  0  0]\n",
      " [ 0  4  1  0  0]]\n",
      "Accuracy:         0.69  -+0.027\n"
     ]
    },
    {
     "name": "stderr",
     "output_type": "stream",
     "text": [
      "/home/amin/.local/lib/python3.6/site-packages/kmeans_smote.py:322: UserWarning: No minority clusters found for class 5. Performing regular SMOTE. Try changing the number of clusters.\n",
      "  warnings.warn('No minority clusters found for class {}. Performing regular SMOTE. Try changing the number of clusters.'.format(minority_class_label))\n",
      "/home/amin/.local/lib/python3.6/site-packages/ipykernel_launcher.py:137: DataConversionWarning: Data with input dtype int64, float64 were all converted to float64 by StandardScaler.\n",
      "/home/amin/.local/lib/python3.6/site-packages/ipykernel_launcher.py:137: DataConversionWarning: Data with input dtype int64, float64 were all converted to float64 by StandardScaler.\n",
      "/home/amin/.local/lib/python3.6/site-packages/sklearn/linear_model/logistic.py:433: FutureWarning: Default solver will be changed to 'lbfgs' in 0.22. Specify a solver to silence this warning.\n",
      "  FutureWarning)\n",
      "/home/amin/.local/lib/python3.6/site-packages/sklearn/linear_model/logistic.py:460: FutureWarning: Default multi_class will be changed to 'auto' in 0.22. Specify the multi_class option to silence this warning.\n",
      "  \"this warning.\", FutureWarning)\n"
     ]
    },
    {
     "name": "stdout",
     "output_type": "stream",
     "text": [
      "Logistic Regression\n",
      "[[39  3  7 11  2]\n",
      " [ 0 10  1  0  6]\n",
      " [ 0  0  1  3  1]\n",
      " [ 3  0  1  2  0]\n",
      " [ 0  1  0  0  4]]\n",
      "Accuracy:         0.65  -+0.0695\n"
     ]
    },
    {
     "name": "stderr",
     "output_type": "stream",
     "text": [
      "/home/amin/.local/lib/python3.6/site-packages/ipykernel_launcher.py:137: DataConversionWarning: Data with input dtype int64, float64 were all converted to float64 by StandardScaler.\n"
     ]
    },
    {
     "name": "stdout",
     "output_type": "stream",
     "text": [
      "Gradient Boosting\n",
      "[[54  3  2  2  0]\n",
      " [ 3 13  0  1  0]\n",
      " [ 2  1  1  0  0]\n",
      " [ 4  1  0  0  0]\n",
      " [ 0  4  0  0  0]]\n"
     ]
    },
    {
     "name": "stderr",
     "output_type": "stream",
     "text": [
      "/home/amin/.local/lib/python3.6/site-packages/kmeans_smote.py:322: UserWarning: No minority clusters found for class 5. Performing regular SMOTE. Try changing the number of clusters.\n",
      "  warnings.warn('No minority clusters found for class {}. Performing regular SMOTE. Try changing the number of clusters.'.format(minority_class_label))\n"
     ]
    },
    {
     "name": "stdout",
     "output_type": "stream",
     "text": [
      "Support Vector Machine\n",
      "[[59  1  0  1  0]\n",
      " [ 3 11  1  0  2]\n",
      " [ 1  1  1  0  1]\n",
      " [ 4  1  0  0  0]\n",
      " [ 1  3  0  0  0]]\n"
     ]
    },
    {
     "name": "stderr",
     "output_type": "stream",
     "text": [
      "/home/amin/.local/lib/python3.6/site-packages/ipykernel_launcher.py:137: DataConversionWarning: Data with input dtype int64, float64 were all converted to float64 by StandardScaler.\n",
      "/home/amin/.local/lib/python3.6/site-packages/kmeans_smote.py:322: UserWarning: No minority clusters found for class 5. Performing regular SMOTE. Try changing the number of clusters.\n",
      "  warnings.warn('No minority clusters found for class {}. Performing regular SMOTE. Try changing the number of clusters.'.format(minority_class_label))\n",
      "/home/amin/.local/lib/python3.6/site-packages/ipykernel_launcher.py:137: DataConversionWarning: Data with input dtype int64, float64 were all converted to float64 by StandardScaler.\n"
     ]
    },
    {
     "name": "stdout",
     "output_type": "stream",
     "text": [
      "Gradient Boosting\n",
      "[[56  1  1  3  0]\n",
      " [ 4 11  1  0  1]\n",
      " [ 3  0  1  0  0]\n",
      " [ 5  0  0  0  0]\n",
      " [ 1  2  1  0  1]]\n"
     ]
    },
    {
     "name": "stderr",
     "output_type": "stream",
     "text": [
      "/home/amin/.local/lib/python3.6/site-packages/kmeans_smote.py:322: UserWarning: No minority clusters found for class 5. Performing regular SMOTE. Try changing the number of clusters.\n",
      "  warnings.warn('No minority clusters found for class {}. Performing regular SMOTE. Try changing the number of clusters.'.format(minority_class_label))\n",
      "/home/amin/.local/lib/python3.6/site-packages/ipykernel_launcher.py:137: DataConversionWarning: Data with input dtype int64, float64 were all converted to float64 by StandardScaler.\n"
     ]
    },
    {
     "name": "stdout",
     "output_type": "stream",
     "text": [
      "Gradient Boosting\n",
      "[[54  3  2  2  0]\n",
      " [ 2 12  1  0  2]\n",
      " [ 3  0  0  1  0]\n",
      " [ 3  1  0  1  0]\n",
      " [ 0  1  0  0  4]]\n"
     ]
    },
    {
     "name": "stderr",
     "output_type": "stream",
     "text": [
      "/home/amin/.local/lib/python3.6/site-packages/kmeans_smote.py:322: UserWarning: No minority clusters found for class 5. Performing regular SMOTE. Try changing the number of clusters.\n",
      "  warnings.warn('No minority clusters found for class {}. Performing regular SMOTE. Try changing the number of clusters.'.format(minority_class_label))\n"
     ]
    },
    {
     "name": "stdout",
     "output_type": "stream",
     "text": [
      "Support Vector Machine\n",
      "[[45  0  2 14  0]\n",
      " [ 3 11  1  1  1]\n",
      " [ 1  0  2  1  0]\n",
      " [ 4  0  0  1  0]\n",
      " [ 1  2  2  0  0]]\n"
     ]
    },
    {
     "name": "stderr",
     "output_type": "stream",
     "text": [
      "/home/amin/.local/lib/python3.6/site-packages/ipykernel_launcher.py:137: DataConversionWarning: Data with input dtype int64, float64 were all converted to float64 by StandardScaler.\n",
      "/home/amin/.local/lib/python3.6/site-packages/kmeans_smote.py:322: UserWarning: No minority clusters found for class 5. Performing regular SMOTE. Try changing the number of clusters.\n",
      "  warnings.warn('No minority clusters found for class {}. Performing regular SMOTE. Try changing the number of clusters.'.format(minority_class_label))\n",
      "/home/amin/.local/lib/python3.6/site-packages/ipykernel_launcher.py:137: DataConversionWarning: Data with input dtype int64, float64 were all converted to float64 by StandardScaler.\n"
     ]
    },
    {
     "name": "stdout",
     "output_type": "stream",
     "text": [
      "Gradient Boosting\n",
      "[[55  1  3  1  1]\n",
      " [ 1 11  0  0  5]\n",
      " [ 1  0  0  1  2]\n",
      " [ 5  0  0  0  0]\n",
      " [ 1  4  0  0  0]]\n"
     ]
    },
    {
     "name": "stderr",
     "output_type": "stream",
     "text": [
      "/home/amin/.local/lib/python3.6/site-packages/ipykernel_launcher.py:137: DataConversionWarning: Data with input dtype int64, float64 were all converted to float64 by StandardScaler.\n"
     ]
    },
    {
     "name": "stdout",
     "output_type": "stream",
     "text": [
      "Gradient Boosting\n",
      "[[59  0  1  0  1]\n",
      " [ 0 13  1  0  3]\n",
      " [ 4  0  0  0  1]\n",
      " [ 4  0  1  0  0]\n",
      " [ 1  4  0  0  0]]\n"
     ]
    },
    {
     "name": "stderr",
     "output_type": "stream",
     "text": [
      "/home/amin/.local/lib/python3.6/site-packages/kmeans_smote.py:322: UserWarning: No minority clusters found for class 5. Performing regular SMOTE. Try changing the number of clusters.\n",
      "  warnings.warn('No minority clusters found for class {}. Performing regular SMOTE. Try changing the number of clusters.'.format(minority_class_label))\n",
      "/home/amin/.local/lib/python3.6/site-packages/ipykernel_launcher.py:137: DataConversionWarning: Data with input dtype int64, float64 were all converted to float64 by StandardScaler.\n"
     ]
    },
    {
     "name": "stdout",
     "output_type": "stream",
     "text": [
      "Support Vector Machine\n",
      "[[45  1  3 12  0]\n",
      " [ 0 13  0  0  4]\n",
      " [ 1  0  1  2  0]\n",
      " [ 3  1  1  0  0]\n",
      " [ 0  2  0  0  3]]\n"
     ]
    },
    {
     "name": "stderr",
     "output_type": "stream",
     "text": [
      "/home/amin/.local/lib/python3.6/site-packages/kmeans_smote.py:322: UserWarning: No minority clusters found for class 5. Performing regular SMOTE. Try changing the number of clusters.\n",
      "  warnings.warn('No minority clusters found for class {}. Performing regular SMOTE. Try changing the number of clusters.'.format(minority_class_label))\n",
      "/home/amin/.local/lib/python3.6/site-packages/ipykernel_launcher.py:137: DataConversionWarning: Data with input dtype int64, float64 were all converted to float64 by StandardScaler.\n"
     ]
    },
    {
     "name": "stdout",
     "output_type": "stream",
     "text": [
      "Gradient Boosting\n",
      "[[55  1  3  1  1]\n",
      " [ 3 10  1  0  3]\n",
      " [ 3  0  0  0  1]\n",
      " [ 3  0  1  1  0]\n",
      " [ 0  2  0  0  2]]\n"
     ]
    },
    {
     "name": "stderr",
     "output_type": "stream",
     "text": [
      "/home/amin/.local/lib/python3.6/site-packages/kmeans_smote.py:322: UserWarning: No minority clusters found for class 5. Performing regular SMOTE. Try changing the number of clusters.\n",
      "  warnings.warn('No minority clusters found for class {}. Performing regular SMOTE. Try changing the number of clusters.'.format(minority_class_label))\n",
      "/home/amin/.local/lib/python3.6/site-packages/ipykernel_launcher.py:137: DataConversionWarning: Data with input dtype int64, float64 were all converted to float64 by StandardScaler.\n"
     ]
    },
    {
     "name": "stdout",
     "output_type": "stream",
     "text": [
      "Gradient Boosting\n",
      "[[56  2  0  3  0]\n",
      " [ 2 11  0  0  4]\n",
      " [ 3  0  0  0  1]\n",
      " [ 2  0  2  1  0]\n",
      " [ 0  5  0  0  0]]\n"
     ]
    },
    {
     "name": "stderr",
     "output_type": "stream",
     "text": [
      "/home/amin/.local/lib/python3.6/site-packages/kmeans_smote.py:322: UserWarning: No minority clusters found for class 5. Performing regular SMOTE. Try changing the number of clusters.\n",
      "  warnings.warn('No minority clusters found for class {}. Performing regular SMOTE. Try changing the number of clusters.'.format(minority_class_label))\n"
     ]
    },
    {
     "name": "stdout",
     "output_type": "stream",
     "text": [
      "Support Vector Machine\n",
      "[[45  2  3 11  0]\n",
      " [ 0 12  1  0  4]\n",
      " [ 1  0  0  2  1]\n",
      " [ 3  0  0  2  0]\n",
      " [ 0  2  1  0  2]]\n"
     ]
    },
    {
     "name": "stderr",
     "output_type": "stream",
     "text": [
      "/home/amin/.local/lib/python3.6/site-packages/ipykernel_launcher.py:137: DataConversionWarning: Data with input dtype int64, float64 were all converted to float64 by StandardScaler.\n",
      "/home/amin/.local/lib/python3.6/site-packages/kmeans_smote.py:322: UserWarning: No minority clusters found for class 5. Performing regular SMOTE. Try changing the number of clusters.\n",
      "  warnings.warn('No minority clusters found for class {}. Performing regular SMOTE. Try changing the number of clusters.'.format(minority_class_label))\n",
      "/home/amin/.local/lib/python3.6/site-packages/ipykernel_launcher.py:137: DataConversionWarning: Data with input dtype int64, float64 were all converted to float64 by StandardScaler.\n"
     ]
    },
    {
     "name": "stdout",
     "output_type": "stream",
     "text": [
      "Gradient Boosting\n",
      "[[51  2  4  2  2]\n",
      " [ 2 10  2  0  3]\n",
      " [ 0  1  3  0  0]\n",
      " [ 3  0  1  1  0]\n",
      " [ 0  2  0  0  3]]\n"
     ]
    },
    {
     "name": "stderr",
     "output_type": "stream",
     "text": [
      "/home/amin/.local/lib/python3.6/site-packages/kmeans_smote.py:322: UserWarning: No minority clusters found for class 5. Performing regular SMOTE. Try changing the number of clusters.\n",
      "  warnings.warn('No minority clusters found for class {}. Performing regular SMOTE. Try changing the number of clusters.'.format(minority_class_label))\n",
      "/home/amin/.local/lib/python3.6/site-packages/kmeans_smote.py:322: UserWarning: No minority clusters found for class 6. Performing regular SMOTE. Try changing the number of clusters.\n",
      "  warnings.warn('No minority clusters found for class {}. Performing regular SMOTE. Try changing the number of clusters.'.format(minority_class_label))\n",
      "/home/amin/.local/lib/python3.6/site-packages/ipykernel_launcher.py:137: DataConversionWarning: Data with input dtype int64, float64 were all converted to float64 by StandardScaler.\n"
     ]
    },
    {
     "name": "stdout",
     "output_type": "stream",
     "text": [
      "Gradient Boosting\n",
      "[[52  2  3  4  0]\n",
      " [ 4 11  0  0  2]\n",
      " [ 1  2  1  0  0]\n",
      " [ 5  0  0  0  0]\n",
      " [ 0  2  1  0  2]]\n"
     ]
    },
    {
     "name": "stderr",
     "output_type": "stream",
     "text": [
      "/home/amin/.local/lib/python3.6/site-packages/ipykernel_launcher.py:137: DataConversionWarning: Data with input dtype int64, float64 were all converted to float64 by StandardScaler.\n"
     ]
    },
    {
     "name": "stdout",
     "output_type": "stream",
     "text": [
      "Support Vector Machine\n",
      "[[34  4  1 22  0]\n",
      " [ 2  8  1  1  5]\n",
      " [ 2  0  1  0  2]\n",
      " [ 2  0  0  3  0]\n",
      " [ 0  5  0  0  0]]\n"
     ]
    },
    {
     "name": "stderr",
     "output_type": "stream",
     "text": [
      "/home/amin/.local/lib/python3.6/site-packages/kmeans_smote.py:322: UserWarning: No minority clusters found for class 5. Performing regular SMOTE. Try changing the number of clusters.\n",
      "  warnings.warn('No minority clusters found for class {}. Performing regular SMOTE. Try changing the number of clusters.'.format(minority_class_label))\n"
     ]
    },
    {
     "name": "stdout",
     "output_type": "stream",
     "text": [
      "Gradient Boosting\n",
      "[[56  2  1  2  1]\n",
      " [ 3 12  0  0  2]\n",
      " [ 2  1  1  1  0]\n",
      " [ 6  0  0  0  0]\n",
      " [ 2  2  0  0  1]]\n",
      "Accuracy:         0.74  -+0.0136\n"
     ]
    },
    {
     "name": "stderr",
     "output_type": "stream",
     "text": [
      "/home/amin/.local/lib/python3.6/site-packages/ipykernel_launcher.py:137: DataConversionWarning: Data with input dtype int64, float64 were all converted to float64 by StandardScaler.\n"
     ]
    },
    {
     "name": "stdout",
     "output_type": "stream",
     "text": [
      "Support Vector Machine\n",
      "[[37  1  4 18  1]\n",
      " [ 0 10  2  0  5]\n",
      " [ 1  0  2  1  0]\n",
      " [ 1  0  2  2  0]\n",
      " [ 0  1  0  0  3]]\n"
     ]
    },
    {
     "name": "stderr",
     "output_type": "stream",
     "text": [
      "/home/amin/.local/lib/python3.6/site-packages/kmeans_smote.py:322: UserWarning: No minority clusters found for class 5. Performing regular SMOTE. Try changing the number of clusters.\n",
      "  warnings.warn('No minority clusters found for class {}. Performing regular SMOTE. Try changing the number of clusters.'.format(minority_class_label))\n",
      "/home/amin/.local/lib/python3.6/site-packages/kmeans_smote.py:322: UserWarning: No minority clusters found for class 6. Performing regular SMOTE. Try changing the number of clusters.\n",
      "  warnings.warn('No minority clusters found for class {}. Performing regular SMOTE. Try changing the number of clusters.'.format(minority_class_label))\n",
      "/home/amin/.local/lib/python3.6/site-packages/ipykernel_launcher.py:137: DataConversionWarning: Data with input dtype int64, float64 were all converted to float64 by StandardScaler.\n"
     ]
    },
    {
     "name": "stdout",
     "output_type": "stream",
     "text": [
      "Support Vector Machine\n",
      "[[33  5  3 19  1]\n",
      " [ 2 12  1  1  1]\n",
      " [ 2  1  1  0  0]\n",
      " [ 1  0  2  2  0]\n",
      " [ 1  1  1  0  2]]\n"
     ]
    },
    {
     "name": "stderr",
     "output_type": "stream",
     "text": [
      "/home/amin/.local/lib/python3.6/site-packages/ipykernel_launcher.py:137: DataConversionWarning: Data with input dtype int64, float64 were all converted to float64 by StandardScaler.\n"
     ]
    },
    {
     "name": "stdout",
     "output_type": "stream",
     "text": [
      "Support Vector Machine\n",
      "[[52  2  5  0  2]\n",
      " [ 0 13  0  1  3]\n",
      " [ 2  0  1  1  0]\n",
      " [ 4  0  1  0  0]\n",
      " [ 1  1  0  0  3]]\n"
     ]
    },
    {
     "name": "stderr",
     "output_type": "stream",
     "text": [
      "/home/amin/.local/lib/python3.6/site-packages/kmeans_smote.py:322: UserWarning: No minority clusters found for class 5. Performing regular SMOTE. Try changing the number of clusters.\n",
      "  warnings.warn('No minority clusters found for class {}. Performing regular SMOTE. Try changing the number of clusters.'.format(minority_class_label))\n",
      "/home/amin/.local/lib/python3.6/site-packages/ipykernel_launcher.py:137: DataConversionWarning: Data with input dtype int64, float64 were all converted to float64 by StandardScaler.\n"
     ]
    },
    {
     "name": "stdout",
     "output_type": "stream",
     "text": [
      "Support Vector Machine\n",
      "[[40  0  2 18  1]\n",
      " [ 2 11  2  0  2]\n",
      " [ 0  2  1  1  0]\n",
      " [ 2  0  0  3  0]\n",
      " [ 0  1  2  0  2]]\n"
     ]
    },
    {
     "name": "stderr",
     "output_type": "stream",
     "text": [
      "/home/amin/.local/lib/python3.6/site-packages/kmeans_smote.py:322: UserWarning: No minority clusters found for class 5. Performing regular SMOTE. Try changing the number of clusters.\n",
      "  warnings.warn('No minority clusters found for class {}. Performing regular SMOTE. Try changing the number of clusters.'.format(minority_class_label))\n",
      "/home/amin/.local/lib/python3.6/site-packages/ipykernel_launcher.py:137: DataConversionWarning: Data with input dtype int64, float64 were all converted to float64 by StandardScaler.\n"
     ]
    },
    {
     "name": "stdout",
     "output_type": "stream",
     "text": [
      "Support Vector Machine\n",
      "[[39  2  3 17  1]\n",
      " [ 0 12  2  0  3]\n",
      " [ 1  0  2  0  2]\n",
      " [ 3  0  0  3  0]\n",
      " [ 1  2  0  0  2]]\n",
      "Accuracy:         0.64  -+0.0618\n"
     ]
    },
    {
     "ename": "UnboundLocalError",
     "evalue": "local variable 'CL' referenced before assignment",
     "output_type": "error",
     "traceback": [
      "\u001b[0;31m---------------------------------------------------------------------------\u001b[0m",
      "\u001b[0;31mRemoteTraceback\u001b[0m                           Traceback (most recent call last)",
      "\u001b[0;31mRemoteTraceback\u001b[0m: \n\"\"\"\nTraceback (most recent call last):\n  File \"/usr/lib/python3.6/multiprocessing/pool.py\", line 119, in worker\n    result = (True, func(*args, **kwds))\n  File \"/usr/lib/python3.6/multiprocessing/pool.py\", line 44, in mapstar\n    return list(map(*args))\n  File \"<ipython-input-9-b64784675e4a>\", line 47, in classifiers\n    print(type(CL))\nUnboundLocalError: local variable 'CL' referenced before assignment\n\"\"\"",
      "\nThe above exception was the direct cause of the following exception:\n",
      "\u001b[0;31mUnboundLocalError\u001b[0m                         Traceback (most recent call last)",
      "\u001b[0;32m<ipython-input-9-b64784675e4a>\u001b[0m in \u001b[0;36m<module>\u001b[0;34m\u001b[0m\n\u001b[1;32m    183\u001b[0m \u001b[0;32mif\u001b[0m \u001b[0m__name__\u001b[0m \u001b[0;34m==\u001b[0m \u001b[0;34m\"__main__\"\u001b[0m\u001b[0;34m:\u001b[0m\u001b[0;34m\u001b[0m\u001b[0;34m\u001b[0m\u001b[0m\n\u001b[1;32m    184\u001b[0m     \u001b[0mp\u001b[0m \u001b[0;34m=\u001b[0m \u001b[0mPool\u001b[0m\u001b[0;34m(\u001b[0m\u001b[0mprocesses\u001b[0m\u001b[0;34m=\u001b[0m\u001b[0;36m6\u001b[0m\u001b[0;34m)\u001b[0m\u001b[0;34m\u001b[0m\u001b[0;34m\u001b[0m\u001b[0m\n\u001b[0;32m--> 185\u001b[0;31m     \u001b[0mresult\u001b[0m \u001b[0;34m=\u001b[0m \u001b[0mp\u001b[0m\u001b[0;34m.\u001b[0m\u001b[0mmap\u001b[0m\u001b[0;34m(\u001b[0m\u001b[0mclassifiers\u001b[0m\u001b[0;34m,\u001b[0m \u001b[0mmethods\u001b[0m\u001b[0;34m)\u001b[0m\u001b[0;34m\u001b[0m\u001b[0;34m\u001b[0m\u001b[0m\n\u001b[0m\u001b[1;32m    186\u001b[0m     \u001b[0mp\u001b[0m\u001b[0;34m.\u001b[0m\u001b[0mclose\u001b[0m\u001b[0;34m(\u001b[0m\u001b[0;34m)\u001b[0m\u001b[0;34m\u001b[0m\u001b[0;34m\u001b[0m\u001b[0m\n\u001b[1;32m    187\u001b[0m     \u001b[0mp\u001b[0m\u001b[0;34m.\u001b[0m\u001b[0mjoin\u001b[0m\u001b[0;34m(\u001b[0m\u001b[0;34m)\u001b[0m\u001b[0;34m\u001b[0m\u001b[0;34m\u001b[0m\u001b[0m\n",
      "\u001b[0;32m/usr/lib/python3.6/multiprocessing/pool.py\u001b[0m in \u001b[0;36mmap\u001b[0;34m(self, func, iterable, chunksize)\u001b[0m\n\u001b[1;32m    264\u001b[0m         \u001b[0;32min\u001b[0m \u001b[0ma\u001b[0m \u001b[0mlist\u001b[0m \u001b[0mthat\u001b[0m \u001b[0;32mis\u001b[0m \u001b[0mreturned\u001b[0m\u001b[0;34m.\u001b[0m\u001b[0;34m\u001b[0m\u001b[0;34m\u001b[0m\u001b[0m\n\u001b[1;32m    265\u001b[0m         '''\n\u001b[0;32m--> 266\u001b[0;31m         \u001b[0;32mreturn\u001b[0m \u001b[0mself\u001b[0m\u001b[0;34m.\u001b[0m\u001b[0m_map_async\u001b[0m\u001b[0;34m(\u001b[0m\u001b[0mfunc\u001b[0m\u001b[0;34m,\u001b[0m \u001b[0miterable\u001b[0m\u001b[0;34m,\u001b[0m \u001b[0mmapstar\u001b[0m\u001b[0;34m,\u001b[0m \u001b[0mchunksize\u001b[0m\u001b[0;34m)\u001b[0m\u001b[0;34m.\u001b[0m\u001b[0mget\u001b[0m\u001b[0;34m(\u001b[0m\u001b[0;34m)\u001b[0m\u001b[0;34m\u001b[0m\u001b[0;34m\u001b[0m\u001b[0m\n\u001b[0m\u001b[1;32m    267\u001b[0m \u001b[0;34m\u001b[0m\u001b[0m\n\u001b[1;32m    268\u001b[0m     \u001b[0;32mdef\u001b[0m \u001b[0mstarmap\u001b[0m\u001b[0;34m(\u001b[0m\u001b[0mself\u001b[0m\u001b[0;34m,\u001b[0m \u001b[0mfunc\u001b[0m\u001b[0;34m,\u001b[0m \u001b[0miterable\u001b[0m\u001b[0;34m,\u001b[0m \u001b[0mchunksize\u001b[0m\u001b[0;34m=\u001b[0m\u001b[0;32mNone\u001b[0m\u001b[0;34m)\u001b[0m\u001b[0;34m:\u001b[0m\u001b[0;34m\u001b[0m\u001b[0;34m\u001b[0m\u001b[0m\n",
      "\u001b[0;32m/usr/lib/python3.6/multiprocessing/pool.py\u001b[0m in \u001b[0;36mget\u001b[0;34m(self, timeout)\u001b[0m\n\u001b[1;32m    642\u001b[0m             \u001b[0;32mreturn\u001b[0m \u001b[0mself\u001b[0m\u001b[0;34m.\u001b[0m\u001b[0m_value\u001b[0m\u001b[0;34m\u001b[0m\u001b[0;34m\u001b[0m\u001b[0m\n\u001b[1;32m    643\u001b[0m         \u001b[0;32melse\u001b[0m\u001b[0;34m:\u001b[0m\u001b[0;34m\u001b[0m\u001b[0;34m\u001b[0m\u001b[0m\n\u001b[0;32m--> 644\u001b[0;31m             \u001b[0;32mraise\u001b[0m \u001b[0mself\u001b[0m\u001b[0;34m.\u001b[0m\u001b[0m_value\u001b[0m\u001b[0;34m\u001b[0m\u001b[0;34m\u001b[0m\u001b[0m\n\u001b[0m\u001b[1;32m    645\u001b[0m \u001b[0;34m\u001b[0m\u001b[0m\n\u001b[1;32m    646\u001b[0m     \u001b[0;32mdef\u001b[0m \u001b[0m_set\u001b[0m\u001b[0;34m(\u001b[0m\u001b[0mself\u001b[0m\u001b[0;34m,\u001b[0m \u001b[0mi\u001b[0m\u001b[0;34m,\u001b[0m \u001b[0mobj\u001b[0m\u001b[0;34m)\u001b[0m\u001b[0;34m:\u001b[0m\u001b[0;34m\u001b[0m\u001b[0;34m\u001b[0m\u001b[0m\n",
      "\u001b[0;31mUnboundLocalError\u001b[0m: local variable 'CL' referenced before assignment"
     ]
    }
   ],
   "source": [
    "## 10 fold-CV\n",
    "\n",
    "def classifiers(method):\n",
    "    if method == 'Logistic Regression':\n",
    "        CL = LogisticRegression()\n",
    "    if method == 'K Neighbors Classifier':\n",
    "        CL = KNeighborsClassifier(n_neighbors=10)\n",
    "    if method == 'Random Forest':\n",
    "        CL = RandomForestClassifier(max_depth=35)\n",
    "    if method == 'Gaussian Naive Bayes':\n",
    "        CL = GaussianNB()\n",
    "    if method == 'Linear Discriminant Analysis':\n",
    "        CL = LinearDiscriminantAnalysis()\n",
    "    if method == 'Decision Tree':\n",
    "        CL = DecisionTreeClassifier()\n",
    "    if method == 'Support Vector Machine':\n",
    "        CL = SVC(kernel='linear',gamma='scale')\n",
    "#         class_weight='balanced', C=1.0\n",
    "    if method == 'Gradient Boosting':\n",
    "        CL = GradientBoostingClassifier()\n",
    "    if method == 'soft_VotingClassifier':\n",
    "        cl1 = LogisticRegression()\n",
    "        cl2 = KNeighborsClassifier(n_neighbors=10)\n",
    "        cl3 = RandomForestClassifier(max_depth=35)\n",
    "        cl4 = GaussianNB()\n",
    "        cl5 = LinearDiscriminantAnalysis()\n",
    "        cl6 = DecisionTreeClassifier()\n",
    "        cl7 = SVC(kernel='linear',gamma='scale')\n",
    "        cl8 = GradientBoostingClassifier()\n",
    "        estimator = [(method[0],cl1), (method[1],cl2), (method[2],cl3), (method[3],cl4),\\\n",
    "                     (method[4],cl5), (method[5],cl6), (method[6],cl7), (method[7],cl8)]\n",
    "        CL = VotingClassifier(estimators=estimator,\n",
    "        voting='soft', weights=[5, 5, 10, 5, 6, 8, 4, 10])\n",
    "        \n",
    "    if method == 'hard_VotingClassifier':\n",
    "        cl1 = LogisticRegression()\n",
    "        cl2 = KNeighborsClassifier(n_neighbors=10)\n",
    "        cl3 = RandomForestClassifier(max_depth=35)\n",
    "        cl4 = GaussianNB()\n",
    "        cl5 = LinearDiscriminantAnalysis()\n",
    "        cl6 = DecisionTreeClassifier()\n",
    "        cl7 = SVC(kernel='linear',gamma='scale')\n",
    "        cl8 = GradientBoostingClassifier()\n",
    "        estimator = [(method[0],cl1), (method[1],cl2), (method[2],cl3), (method[3],cl4),\\\n",
    "                     (method[4],cl5), (method[5],cl6), (method[6],cl7), (method[7],cl8)]\n",
    "        CL = VotingClassifier(estimators=estimator, voting='hard')        \n",
    "    print(type(CL))\n",
    "    accList = []\n",
    "    for j in range(nFold):\n",
    "\n",
    "        i = j*.1\n",
    "        k = (j+1)*.1\n",
    "        #train\n",
    "        X_train = cat0.iloc[int(k * lenCat0):,:-1].append(\\\n",
    "                  cat1.iloc[int(k * lenCat1):,:-1].append(\\\n",
    "                  cat2.iloc[int(k * lenCat2):,:-1].append(\\\n",
    "                  cat5.iloc[int(k * lenCat5):,:-1].append(\\\n",
    "                  cat6.iloc[int(k * lenCat6):,:-1].append(\\\n",
    "                  cat0.iloc[:int(i * lenCat0),:-1].append(\\\n",
    "                  cat1.iloc[:int(i * lenCat1),:-1].append(\\\n",
    "                  cat2.iloc[:int(i * lenCat2),:-1].append(\\\n",
    "                  cat5.iloc[:int(i * lenCat5),:-1].append(\\\n",
    "                  cat6.iloc[:int(i * lenCat6),:-1]                                       \n",
    "                                                         )))))))))\n",
    "\n",
    "        y_train = cat0.iloc[int(k * lenCat0):,-1].append(\\\n",
    "                  cat1.iloc[int(k * lenCat1):,-1].append(\\\n",
    "                  cat2.iloc[int(k * lenCat2):,-1].append(\\\n",
    "                  cat5.iloc[int(k * lenCat5):,-1].append(\\\n",
    "                  cat6.iloc[int(k * lenCat6):,-1].append(\\\n",
    "                  cat0.iloc[:int(i * lenCat0),-1].append(\\\n",
    "                  cat1.iloc[:int(i * lenCat1),-1].append(\\\n",
    "                  cat2.iloc[:int(i * lenCat2),-1].append(\\\n",
    "                  cat5.iloc[:int(i * lenCat5),-1].append(\\\n",
    "                  cat6.iloc[:int(i * lenCat6),-1]                                         \n",
    "                                                        )))))))))\n",
    "#         print(X_train.shape, y_train.shape)\n",
    "    \n",
    "\n",
    "        # fit and apply the Oversampling:\n",
    "        #### Repeatitive oversampling\n",
    "#         X_over, y_over = oversample.fit_resample(X_train, y_train)\n",
    "\n",
    "#         Max = dict(Counter(y_over))[0.0]\n",
    "#         flag = True\n",
    "#         while flag:\n",
    "#             X_over, y_over = oversample.fit_resample(X_over, y_over)\n",
    "#             for x in list(dict(Counter(y_over)).values()):\n",
    "#                 if x == Max:\n",
    "#                     flag = False\n",
    "#                 else:\n",
    "#                     flag = True\n",
    "#                     break\n",
    "#         X_train, y_train = X_over.copy(), y_over.copy()\n",
    "        # summarize class distribution\n",
    "#         print(Counter(y_train))\n",
    "\n",
    "#         print(X_train.shape, y_train.shape)\n",
    "    \n",
    "\n",
    "        # fit and apply the Oversampling:\n",
    "        #### K-means oversampling\n",
    "#         [print('Class {} has {} instances'.format(label, count))\n",
    "#          for label, count in zip(*np.unique(y, return_counts=True))]\n",
    "\n",
    "        kmeans_smote = KMeansSMOTE(\n",
    "            kmeans_args={\n",
    "                'n_clusters': int(dict(Counter(y_train))[0.0]*(1-1/nFold))\n",
    "            },\n",
    "            smote_args={\n",
    "                'k_neighbors': 10\n",
    "            }\n",
    "        )\n",
    "        X_train, y_train = kmeans_smote.fit_sample(X_train, y_train)\n",
    "\n",
    "#         [print('Class {} has {} instances after oversampling'.format(label, count))\n",
    "#          for label, count in zip(*np.unique(y_resampled, return_counts=True))]\n",
    "        # summarize class distribution\n",
    "#         print(Counter(y_train))\n",
    "\n",
    "        #test\n",
    "        X_test = cat0.iloc[int(i * lenCat0):int(k * lenCat0),:-1].append(\\\n",
    "                 cat1.iloc[int(i * lenCat1):int(k * lenCat1),:-1].append(\\\n",
    "                 cat2.iloc[int(i * lenCat2):int(k * lenCat2),:-1].append(\\\n",
    "                 cat5.iloc[int(i * lenCat5):int(k * lenCat5),:-1].append(\\\n",
    "                 cat6.iloc[int(i * lenCat6):int(k * lenCat6),:-1]))))\n",
    "\n",
    "        y_test = cat0.iloc[int(i * lenCat0):int(k * lenCat0),-1].append(\\\n",
    "                 cat1.iloc[int(i * lenCat1):int(k * lenCat1),-1].append(\\\n",
    "                 cat2.iloc[int(i * lenCat2):int(k * lenCat2),-1].append(\\\n",
    "                 cat5.iloc[int(i * lenCat5):int(k * lenCat5),-1].append(\\\n",
    "                 cat6.iloc[int(i * lenCat6):int(k * lenCat6),-1]))))\n",
    "#         print(X_test.shape, y_test.shape)\n",
    "        #preprocessing\n",
    "        scaler = preprocessing.StandardScaler().fit(X_train)\n",
    "        X_train_transformed = scaler.transform(X_train)\n",
    "        X_test_transformed = scaler.transform(X_test)\n",
    "        \n",
    "        model = CL.fit(X_train, np.array(list(y_train)))\n",
    "        \n",
    "        predict = np.array(model.predict(X_test))\n",
    "        \n",
    "        cnf_matrix = metrics.confusion_matrix(y_test, predict)\n",
    "        print(method)\n",
    "        print(cnf_matrix)\n",
    "#         #matplotlib inline\n",
    "#         class_names=[0,1] # name  of classes\n",
    "#         fig, ax = plt.subplots()\n",
    "#         tick_marks = np.arange(len(class_names))\n",
    "#         plt.xticks(tick_marks, class_names)\n",
    "#         plt.yticks(tick_marks, class_names)\n",
    "\n",
    "#         # create heatmap\n",
    "#         sns.heatmap(pd.DataFrame(cnf_matrix), annot=True, cmap=\"YlGnBu\" ,fmt='g')\n",
    "#         ax.xaxis.set_label_position(\"top\")\n",
    "#         plt.tight_layout()\n",
    "#         plt.title(method+ ' fold of '+str(j), y=1.1)\n",
    "\n",
    "#         plt.ylabel('Actual label')\n",
    "#         plt.xlabel('Predicted label')\n",
    "\n",
    "#         plt.show()\n",
    "\n",
    "\n",
    "        acc = metrics.accuracy_score(y_test.values, predict)\n",
    "        accList.append(acc)\n",
    "\n",
    "\n",
    "    methodList.append(method)\n",
    "    confidence = 0.95\n",
    "\n",
    "    naccList = len(accList)\n",
    "    maccList = np.mean(accList)\n",
    "    std_erraccList = sem(accList)\n",
    "    haccList = std_erraccList * t.ppf((1 + confidence) / 2, naccList - 1)\n",
    "\n",
    "\n",
    "\n",
    "\n",
    "    print(\"Accuracy:         \"+ str(round(maccList,2)) + '  -+' + str(round(haccList,4)))\n",
    "    accRes.append(round(maccList,2))\n",
    "    accConf.append(round(haccList,4))\n",
    "if __name__ == \"__main__\":\n",
    "    p = Pool(processes=6)\n",
    "    result = p.map(classifiers, methods)\n",
    "    p.close()\n",
    "    p.join()"
   ]
  },
  {
   "cell_type": "code",
   "execution_count": null,
   "metadata": {},
   "outputs": [],
   "source": [
    "\n",
    "\n",
    "# def calcNum(n):#some arbitrary, time-consuming calculation on a number\n",
    "#   print \"Calcs Started on \", n\n",
    "#   m = n\n",
    "#   for i in range(5000000):\n",
    "#     m += i%25\n",
    "#     if m > n*n:\n",
    "#       m /= 2\n",
    "#   return m\n",
    "\n",
    "# if __name__ == \"__main__\":\n",
    "#   p = Pool(processes=3)\n",
    "# dict(Counter(data['fclass']))[0.0]*(1-1/nFold)"
   ]
  },
  {
   "cell_type": "code",
   "execution_count": null,
   "metadata": {},
   "outputs": [],
   "source": [
    "result = []\n",
    "result = pd.DataFrame(result)\n",
    "result['Method'],result['Accuracy'],result['ACC CI'] = methodList,accRes,accConf\n",
    "result.to_excel('kidney_Classification_Result.xlsx',index=False)\n",
    "result"
   ]
  },
  {
   "cell_type": "code",
   "execution_count": null,
   "metadata": {},
   "outputs": [],
   "source": []
  }
 ],
 "metadata": {
  "kernelspec": {
   "display_name": "Python 3",
   "language": "python",
   "name": "python3"
  },
  "language_info": {
   "codemirror_mode": {
    "name": "ipython",
    "version": 3
   },
   "file_extension": ".py",
   "mimetype": "text/x-python",
   "name": "python",
   "nbconvert_exporter": "python",
   "pygments_lexer": "ipython3",
   "version": "3.6.9"
  }
 },
 "nbformat": 4,
 "nbformat_minor": 4
}
