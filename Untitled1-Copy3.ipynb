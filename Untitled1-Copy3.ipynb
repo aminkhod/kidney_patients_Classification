{
 "cells": [
  {
   "cell_type": "code",
   "execution_count": 44,
   "metadata": {},
   "outputs": [],
   "source": [
    "from collections import Counter\n",
    "\n",
    "import matplotlib.pyplot as plt\n",
    "import seaborn as sns\n",
    "import pandas as pd\n",
    "import numpy as np \n",
    "\n",
    "from sklearn import preprocessing\n",
    "from sklearn.model_selection import train_test_split\n",
    "from sklearn.utils import shuffle\n",
    "# from sklearn.model_selection import train_test_split\n",
    "# from sklearn.model_selection import LeaveOneOut\n",
    "\n",
    "from sklearn.linear_model import LogisticRegression\n",
    "from sklearn.neighbors import KNeighborsClassifier\n",
    "from sklearn.ensemble import RandomForestClassifier\n",
    "from sklearn.naive_bayes import GaussianNB\n",
    "from sklearn.discriminant_analysis import LinearDiscriminantAnalysis\n",
    "from sklearn.tree import DecisionTreeClassifier\n",
    "from sklearn.svm import SVC\n",
    "from sklearn.ensemble import GradientBoostingClassifier\n",
    "from sklearn.ensemble import VotingClassifier\n",
    "\n",
    "from sklearn import metrics\n",
    "\n",
    "from scipy.stats import sem, t\n",
    "from scipy import mean\n",
    "\n",
    "#Oversampling\n",
    "# from imblearn.over_sampling import RandomOverSampler\n",
    "from kmeans_smote import KMeansSMOTE\n",
    "\n",
    "\n",
    "### multiprocessing\n",
    "#from multiprocessing.pool import Poolfrom collections import Counter\n",
    "\n",
    "import matplotlib.pyplot as plt\n",
    "import seaborn as sns\n",
    "\n",
    "from sklearn import preprocessing\n",
    "\n",
    "from sklearn.utils import shuffle\n",
    "# from sklearn.model_selection import train_test_split\n",
    "# from sklearn.model_selection import LeaveOneOut\n",
    "\n",
    "from sklearn.linear_model import LogisticRegression\n",
    "from sklearn.neighbors import KNeighborsClassifier\n",
    "from sklearn.ensemble import RandomForestClassifier\n",
    "from sklearn.naive_bayes import GaussianNB\n",
    "from sklearn.discriminant_analysis import LinearDiscriminantAnalysis\n",
    "from sklearn.tree import DecisionTreeClassifier\n",
    "from sklearn.svm import SVC\n",
    "from sklearn.ensemble import GradientBoostingClassifier\n",
    "from sklearn.ensemble import VotingClassifier\n",
    "\n",
    "from sklearn import metrics\n",
    "\n",
    "from scipy.stats import sem, t\n",
    "from scipy import mean\n",
    "\n",
    "#Oversampling\n",
    "# from imblearn.over_sampling import RandomOverSampler\n",
    "from kmeans_smote import KMeansSMOTE\n",
    "\n",
    "\n",
    "### multiprocessing\n",
    "from multiprocessing.pool import Pool"
   ]
  },
  {
   "cell_type": "code",
   "execution_count": 45,
   "metadata": {},
   "outputs": [
    {
     "name": "stdout",
     "output_type": "stream",
     "text": [
      "(880, 30)\n",
      "Index(['gender', 'age', 'SBP', 'BMI', 'Hb', 'Alb', 'Cr', 'CKD_stage',\n",
      "       'urinary occult blood', 'UPCR', 'hypertension', 'prevalence of CVD',\n",
      "       'diabetes', 'use of RAASi', 'use of CCB', 'use of diuretics',\n",
      "       'eGFR(0M)', 'eGFR(6M)', 'eGFR(12M)', 'eGFR(18M)', 'eGFR(24M)',\n",
      "       'eGFR(30M)', 'eGFR(36M)', 'eGFR(last visit)', 'fclass', 'faclass',\n",
      "       'etiology of CKD_1', 'etiology of CKD_2', 'etiology of CKD_3',\n",
      "       'etiology of CKD_4', 'CKD category_1', 'CKD category_2',\n",
      "       'CKD category_3', 'CKD category_4', 'CKD category_5', 'CKD category_6',\n",
      "       'CKD category_7', 'CKD category_8', 'CKD category_9', 'CKD category_10',\n",
      "       'CKD category_11', 'CKD category_12', 'proteinuria_0', 'proteinuria_1',\n",
      "       'UPCR category_1', 'UPCR category_2', 'UPCR category_3'],\n",
      "      dtype='object')\n"
     ]
    },
    {
     "data": {
      "text/plain": [
       "(880, 47)"
      ]
     },
     "execution_count": 45,
     "metadata": {},
     "output_type": "execute_result"
    }
   ],
   "source": [
    "data = pd.read_csv('C:\\\\Users\\\\Torabi\\\\Desktop\\\\prepared Data12.csv')\n",
    "print(data.shape)\n",
    "data.head()\n",
    "data = pd.get_dummies(data, columns=['etiology of CKD','CKD category','proteinuria', 'UPCR category'])\n",
    "data.columns\n",
    "\n",
    "cat0 = shuffle(data[data['fclass']==0])\n",
    "cat1 = shuffle(data[data['fclass']==1])\n",
    "count = Counter(data['fclass'])\n",
    "print(data.columns)\n",
    "data.shape"
   ]
  },
  {
   "cell_type": "code",
   "execution_count": 46,
   "metadata": {},
   "outputs": [],
   "source": [
    "cat0.shape\n",
    "cat1\n",
    "lenCat0 = len(cat0.iloc[:,0])\n",
    "lenCat1 = len(cat1.iloc[:,0])\n",
    "for j in range(5):\n",
    "\n",
    "        i = j*.1\n",
    "        k = (j+1)*.1\n",
    "\n",
    "\n",
    "        X_train=cat0.iloc[int(k * lenCat0):,:-2].append(\\\n",
    "                cat1.iloc[int(k * lenCat1):,:-2].append(\\\n",
    "                cat0.iloc[:int(i * lenCat0),:-2].append(\\\n",
    "                cat1.iloc[:int(i * lenCat1),:-2])))\n",
    "                                                       \n",
    "        \n",
    "X_train.columns\n",
    "X_train.drop(columns=['faclass'],inplace=True)\n",
    "predict=data.fclass"
   ]
  },
  {
   "cell_type": "code",
   "execution_count": null,
   "metadata": {
    "scrolled": true
   },
   "outputs": [],
   "source": []
  },
  {
   "cell_type": "code",
   "execution_count": 47,
   "metadata": {},
   "outputs": [
    {
     "data": {
      "text/plain": [
       "Counter({0: 611, 1: 269})"
      ]
     },
     "execution_count": 47,
     "metadata": {},
     "output_type": "execute_result"
    }
   ],
   "source": [
    "#classifier1/pishraft bimari \n",
    "count = Counter(data['fclass'])\n",
    "count\n"
   ]
  },
  {
   "cell_type": "code",
   "execution_count": 48,
   "metadata": {},
   "outputs": [],
   "source": [
    "cat0_numerical = cat0[[\"SBP\",\"BMI\",'Hb','Alb','Cr','UPCR','eGFR(0M)','eGFR(6M)','eGFR(12M)','eGFR(18M)','eGFR(24M)','eGFR(30M)','eGFR(36M)']]\n",
    "cat0_binary = cat0[['gender', 'age','CKD_stage','urinary occult blood', 'UPCR', 'hypertension', 'prevalence of CVD',\n",
    "       'diabetes', 'use of RAASi', 'use of CCB', 'use of diuretics',\n",
    "       'etiology of CKD_1', 'etiology of CKD_2', 'etiology of CKD_3',\n",
    "       'etiology of CKD_4', 'CKD category_1', 'CKD category_2',\n",
    "       'CKD category_3', 'CKD category_4', 'CKD category_5', 'CKD category_6',\n",
    "       'CKD category_7', 'CKD category_8', 'CKD category_9', 'CKD category_10',\n",
    "       'CKD category_11', 'CKD category_12', 'proteinuria_0', 'proteinuria_1',\n",
    "       'UPCR category_1', 'UPCR category_2', 'UPCR category_3']]\n",
    "\n",
    "cat1_numerical = cat1[[\"SBP\",\"BMI\",'Hb','Alb','Cr','UPCR','eGFR(0M)','eGFR(6M)','eGFR(12M)','eGFR(18M)','eGFR(24M)','eGFR(30M)','eGFR(36M)']]\n",
    "cat1_binary = cat1[['gender', 'age','CKD_stage','urinary occult blood', 'UPCR', 'hypertension', 'prevalence of CVD',\n",
    "       'diabetes', 'use of RAASi', 'use of CCB', 'use of diuretics',\n",
    "       'etiology of CKD_1', 'etiology of CKD_2', 'etiology of CKD_3',\n",
    "       'etiology of CKD_4', 'CKD category_1', 'CKD category_2',\n",
    "       'CKD category_3', 'CKD category_4', 'CKD category_5', 'CKD category_6',\n",
    "       'CKD category_7', 'CKD category_8', 'CKD category_9', 'CKD category_10',\n",
    "       'CKD category_11', 'CKD category_12', 'proteinuria_0', 'proteinuria_1',\n",
    "       'UPCR category_1', 'UPCR category_2', 'UPCR category_3']]\n"
   ]
  },
  {
   "cell_type": "code",
   "execution_count": 49,
   "metadata": {},
   "outputs": [
    {
     "data": {
      "text/html": [
       "<div>\n",
       "<style scoped>\n",
       "    .dataframe tbody tr th:only-of-type {\n",
       "        vertical-align: middle;\n",
       "    }\n",
       "\n",
       "    .dataframe tbody tr th {\n",
       "        vertical-align: top;\n",
       "    }\n",
       "\n",
       "    .dataframe thead th {\n",
       "        text-align: right;\n",
       "    }\n",
       "</style>\n",
       "<table border=\"1\" class=\"dataframe\">\n",
       "  <thead>\n",
       "    <tr style=\"text-align: right;\">\n",
       "      <th></th>\n",
       "      <th>SBP</th>\n",
       "      <th>BMI</th>\n",
       "      <th>Hb</th>\n",
       "      <th>Alb</th>\n",
       "      <th>Cr</th>\n",
       "      <th>UPCR</th>\n",
       "      <th>eGFR(0M)</th>\n",
       "      <th>eGFR(6M)</th>\n",
       "      <th>eGFR(12M)</th>\n",
       "      <th>eGFR(18M)</th>\n",
       "      <th>eGFR(24M)</th>\n",
       "      <th>eGFR(30M)</th>\n",
       "      <th>eGFR(36M)</th>\n",
       "    </tr>\n",
       "  </thead>\n",
       "  <tbody>\n",
       "    <tr>\n",
       "      <th>646</th>\n",
       "      <td>131.0</td>\n",
       "      <td>24.088223</td>\n",
       "      <td>15.6</td>\n",
       "      <td>4.2</td>\n",
       "      <td>1.20</td>\n",
       "      <td>0.641053</td>\n",
       "      <td>50.580188</td>\n",
       "      <td>47.132124</td>\n",
       "      <td>49.412859</td>\n",
       "      <td>46.487104</td>\n",
       "      <td>49.157989</td>\n",
       "      <td>39.500809</td>\n",
       "      <td>44.138035</td>\n",
       "    </tr>\n",
       "    <tr>\n",
       "      <th>869</th>\n",
       "      <td>150.0</td>\n",
       "      <td>28.336531</td>\n",
       "      <td>14.0</td>\n",
       "      <td>4.5</td>\n",
       "      <td>1.35</td>\n",
       "      <td>0.449927</td>\n",
       "      <td>40.620670</td>\n",
       "      <td>45.613348</td>\n",
       "      <td>52.181108</td>\n",
       "      <td>41.659440</td>\n",
       "      <td>49.937281</td>\n",
       "      <td>45.682999</td>\n",
       "      <td>44.465451</td>\n",
       "    </tr>\n",
       "    <tr>\n",
       "      <th>440</th>\n",
       "      <td>135.0</td>\n",
       "      <td>24.428577</td>\n",
       "      <td>13.4</td>\n",
       "      <td>4.5</td>\n",
       "      <td>1.17</td>\n",
       "      <td>0.000000</td>\n",
       "      <td>47.879761</td>\n",
       "      <td>48.331499</td>\n",
       "      <td>43.225534</td>\n",
       "      <td>44.753267</td>\n",
       "      <td>41.112645</td>\n",
       "      <td>41.631719</td>\n",
       "      <td>42.170147</td>\n",
       "    </tr>\n",
       "  </tbody>\n",
       "</table>\n",
       "</div>"
      ],
      "text/plain": [
       "       SBP        BMI    Hb  Alb    Cr      UPCR   eGFR(0M)   eGFR(6M)  \\\n",
       "646  131.0  24.088223  15.6  4.2  1.20  0.641053  50.580188  47.132124   \n",
       "869  150.0  28.336531  14.0  4.5  1.35  0.449927  40.620670  45.613348   \n",
       "440  135.0  24.428577  13.4  4.5  1.17  0.000000  47.879761  48.331499   \n",
       "\n",
       "     eGFR(12M)  eGFR(18M)  eGFR(24M)  eGFR(30M)  eGFR(36M)  \n",
       "646  49.412859  46.487104  49.157989  39.500809  44.138035  \n",
       "869  52.181108  41.659440  49.937281  45.682999  44.465451  \n",
       "440  43.225534  44.753267  41.112645  41.631719  42.170147  "
      ]
     },
     "execution_count": 49,
     "metadata": {},
     "output_type": "execute_result"
    }
   ],
   "source": [
    "cat0_numerical.head(3)"
   ]
  },
  {
   "cell_type": "code",
   "execution_count": 50,
   "metadata": {},
   "outputs": [
    {
     "data": {
      "text/html": [
       "<div>\n",
       "<style scoped>\n",
       "    .dataframe tbody tr th:only-of-type {\n",
       "        vertical-align: middle;\n",
       "    }\n",
       "\n",
       "    .dataframe tbody tr th {\n",
       "        vertical-align: top;\n",
       "    }\n",
       "\n",
       "    .dataframe thead th {\n",
       "        text-align: right;\n",
       "    }\n",
       "</style>\n",
       "<table border=\"1\" class=\"dataframe\">\n",
       "  <thead>\n",
       "    <tr style=\"text-align: right;\">\n",
       "      <th></th>\n",
       "      <th>gender</th>\n",
       "      <th>age</th>\n",
       "      <th>CKD_stage</th>\n",
       "      <th>urinary occult blood</th>\n",
       "      <th>UPCR</th>\n",
       "      <th>hypertension</th>\n",
       "      <th>prevalence of CVD</th>\n",
       "      <th>diabetes</th>\n",
       "      <th>use of RAASi</th>\n",
       "      <th>use of CCB</th>\n",
       "      <th>...</th>\n",
       "      <th>CKD category_8</th>\n",
       "      <th>CKD category_9</th>\n",
       "      <th>CKD category_10</th>\n",
       "      <th>CKD category_11</th>\n",
       "      <th>CKD category_12</th>\n",
       "      <th>proteinuria_0</th>\n",
       "      <th>proteinuria_1</th>\n",
       "      <th>UPCR category_1</th>\n",
       "      <th>UPCR category_2</th>\n",
       "      <th>UPCR category_3</th>\n",
       "    </tr>\n",
       "  </thead>\n",
       "  <tbody>\n",
       "    <tr>\n",
       "      <th>646</th>\n",
       "      <td>1</td>\n",
       "      <td>54</td>\n",
       "      <td>3</td>\n",
       "      <td>1</td>\n",
       "      <td>0.641053</td>\n",
       "      <td>1</td>\n",
       "      <td>0</td>\n",
       "      <td>0</td>\n",
       "      <td>1</td>\n",
       "      <td>0</td>\n",
       "      <td>...</td>\n",
       "      <td>0</td>\n",
       "      <td>0</td>\n",
       "      <td>0</td>\n",
       "      <td>0</td>\n",
       "      <td>0</td>\n",
       "      <td>0</td>\n",
       "      <td>1</td>\n",
       "      <td>0</td>\n",
       "      <td>0</td>\n",
       "      <td>1</td>\n",
       "    </tr>\n",
       "    <tr>\n",
       "      <th>869</th>\n",
       "      <td>1</td>\n",
       "      <td>74</td>\n",
       "      <td>3</td>\n",
       "      <td>0</td>\n",
       "      <td>0.449927</td>\n",
       "      <td>1</td>\n",
       "      <td>0</td>\n",
       "      <td>0</td>\n",
       "      <td>0</td>\n",
       "      <td>0</td>\n",
       "      <td>...</td>\n",
       "      <td>0</td>\n",
       "      <td>0</td>\n",
       "      <td>0</td>\n",
       "      <td>0</td>\n",
       "      <td>0</td>\n",
       "      <td>0</td>\n",
       "      <td>1</td>\n",
       "      <td>0</td>\n",
       "      <td>1</td>\n",
       "      <td>0</td>\n",
       "    </tr>\n",
       "    <tr>\n",
       "      <th>440</th>\n",
       "      <td>1</td>\n",
       "      <td>72</td>\n",
       "      <td>3</td>\n",
       "      <td>0</td>\n",
       "      <td>0.000000</td>\n",
       "      <td>1</td>\n",
       "      <td>0</td>\n",
       "      <td>0</td>\n",
       "      <td>0</td>\n",
       "      <td>0</td>\n",
       "      <td>...</td>\n",
       "      <td>0</td>\n",
       "      <td>0</td>\n",
       "      <td>0</td>\n",
       "      <td>0</td>\n",
       "      <td>0</td>\n",
       "      <td>1</td>\n",
       "      <td>0</td>\n",
       "      <td>1</td>\n",
       "      <td>0</td>\n",
       "      <td>0</td>\n",
       "    </tr>\n",
       "  </tbody>\n",
       "</table>\n",
       "<p>3 rows × 32 columns</p>\n",
       "</div>"
      ],
      "text/plain": [
       "     gender  age  CKD_stage  urinary occult blood      UPCR  hypertension  \\\n",
       "646       1   54          3                     1  0.641053             1   \n",
       "869       1   74          3                     0  0.449927             1   \n",
       "440       1   72          3                     0  0.000000             1   \n",
       "\n",
       "     prevalence of CVD  diabetes  use of RAASi  use of CCB  ...  \\\n",
       "646                  0         0             1           0  ...   \n",
       "869                  0         0             0           0  ...   \n",
       "440                  0         0             0           0  ...   \n",
       "\n",
       "     CKD category_8  CKD category_9  CKD category_10  CKD category_11  \\\n",
       "646               0               0                0                0   \n",
       "869               0               0                0                0   \n",
       "440               0               0                0                0   \n",
       "\n",
       "     CKD category_12  proteinuria_0  proteinuria_1  UPCR category_1  \\\n",
       "646                0              0              1                0   \n",
       "869                0              0              1                0   \n",
       "440                0              1              0                1   \n",
       "\n",
       "     UPCR category_2  UPCR category_3  \n",
       "646                0                1  \n",
       "869                1                0  \n",
       "440                0                0  \n",
       "\n",
       "[3 rows x 32 columns]"
      ]
     },
     "execution_count": 50,
     "metadata": {},
     "output_type": "execute_result"
    }
   ],
   "source": [
    "cat0_binary.head(3)"
   ]
  },
  {
   "cell_type": "code",
   "execution_count": 51,
   "metadata": {},
   "outputs": [
    {
     "data": {
      "text/html": [
       "<div>\n",
       "<style scoped>\n",
       "    .dataframe tbody tr th:only-of-type {\n",
       "        vertical-align: middle;\n",
       "    }\n",
       "\n",
       "    .dataframe tbody tr th {\n",
       "        vertical-align: top;\n",
       "    }\n",
       "\n",
       "    .dataframe thead th {\n",
       "        text-align: right;\n",
       "    }\n",
       "</style>\n",
       "<table border=\"1\" class=\"dataframe\">\n",
       "  <thead>\n",
       "    <tr style=\"text-align: right;\">\n",
       "      <th></th>\n",
       "      <th>SBP</th>\n",
       "      <th>BMI</th>\n",
       "      <th>Hb</th>\n",
       "      <th>Alb</th>\n",
       "      <th>Cr</th>\n",
       "      <th>UPCR</th>\n",
       "      <th>eGFR(0M)</th>\n",
       "      <th>eGFR(6M)</th>\n",
       "      <th>eGFR(12M)</th>\n",
       "      <th>eGFR(18M)</th>\n",
       "      <th>eGFR(24M)</th>\n",
       "      <th>eGFR(30M)</th>\n",
       "      <th>eGFR(36M)</th>\n",
       "    </tr>\n",
       "  </thead>\n",
       "  <tbody>\n",
       "    <tr>\n",
       "      <th>646</th>\n",
       "      <td>0.389937</td>\n",
       "      <td>0.378473</td>\n",
       "      <td>0.801653</td>\n",
       "      <td>0.729730</td>\n",
       "      <td>0.080702</td>\n",
       "      <td>0.033902</td>\n",
       "      <td>0.530617</td>\n",
       "      <td>0.392318</td>\n",
       "      <td>0.417679</td>\n",
       "      <td>0.390288</td>\n",
       "      <td>0.415293</td>\n",
       "      <td>0.324883</td>\n",
       "      <td>0.369086</td>\n",
       "    </tr>\n",
       "    <tr>\n",
       "      <th>869</th>\n",
       "      <td>0.509434</td>\n",
       "      <td>0.541738</td>\n",
       "      <td>0.669421</td>\n",
       "      <td>0.810811</td>\n",
       "      <td>0.098246</td>\n",
       "      <td>0.023794</td>\n",
       "      <td>0.411972</td>\n",
       "      <td>0.378005</td>\n",
       "      <td>0.443595</td>\n",
       "      <td>0.345092</td>\n",
       "      <td>0.422588</td>\n",
       "      <td>0.382760</td>\n",
       "      <td>0.372148</td>\n",
       "    </tr>\n",
       "    <tr>\n",
       "      <th>440</th>\n",
       "      <td>0.415094</td>\n",
       "      <td>0.391553</td>\n",
       "      <td>0.619835</td>\n",
       "      <td>0.810811</td>\n",
       "      <td>0.077193</td>\n",
       "      <td>0.000000</td>\n",
       "      <td>0.498447</td>\n",
       "      <td>0.403621</td>\n",
       "      <td>0.359754</td>\n",
       "      <td>0.374056</td>\n",
       "      <td>0.339973</td>\n",
       "      <td>0.344832</td>\n",
       "      <td>0.350686</td>\n",
       "    </tr>\n",
       "    <tr>\n",
       "      <th>837</th>\n",
       "      <td>0.509434</td>\n",
       "      <td>0.482576</td>\n",
       "      <td>0.322314</td>\n",
       "      <td>0.540541</td>\n",
       "      <td>0.162573</td>\n",
       "      <td>0.063941</td>\n",
       "      <td>0.254835</td>\n",
       "      <td>0.167545</td>\n",
       "      <td>0.173036</td>\n",
       "      <td>0.173036</td>\n",
       "      <td>0.173036</td>\n",
       "      <td>0.173036</td>\n",
       "      <td>0.174071</td>\n",
       "    </tr>\n",
       "  </tbody>\n",
       "</table>\n",
       "</div>"
      ],
      "text/plain": [
       "          SBP       BMI        Hb       Alb        Cr      UPCR  eGFR(0M)  \\\n",
       "646  0.389937  0.378473  0.801653  0.729730  0.080702  0.033902  0.530617   \n",
       "869  0.509434  0.541738  0.669421  0.810811  0.098246  0.023794  0.411972   \n",
       "440  0.415094  0.391553  0.619835  0.810811  0.077193  0.000000  0.498447   \n",
       "837  0.509434  0.482576  0.322314  0.540541  0.162573  0.063941  0.254835   \n",
       "\n",
       "     eGFR(6M)  eGFR(12M)  eGFR(18M)  eGFR(24M)  eGFR(30M)  eGFR(36M)  \n",
       "646  0.392318   0.417679   0.390288   0.415293   0.324883   0.369086  \n",
       "869  0.378005   0.443595   0.345092   0.422588   0.382760   0.372148  \n",
       "440  0.403621   0.359754   0.374056   0.339973   0.344832   0.350686  \n",
       "837  0.167545   0.173036   0.173036   0.173036   0.173036   0.174071  "
      ]
     },
     "execution_count": 51,
     "metadata": {},
     "output_type": "execute_result"
    }
   ],
   "source": [
    "#scalar = preprocessing.StandardScaler().fit(cat0_numerical)\n",
    "#X_train_transformed = scaler.transform(cat0_numerical)\n",
    "cat0_numerical_n=(cat0_numerical-cat0_numerical.min())/(cat0_numerical.max()-cat0_numerical.min())\n",
    "cat1_numerical_n=(cat1_numerical-cat1_numerical.min())/(cat1_numerical.max()-cat1_numerical.min())\n",
    "cat0_numerical_n.head(4)"
   ]
  },
  {
   "cell_type": "code",
   "execution_count": 52,
   "metadata": {},
   "outputs": [],
   "source": [
    "df=np.concatenate((cat0_numerical_n,cat0_binary), axis=1)\n",
    "df2=np.concatenate((cat1_numerical_n,cat1_binary), axis=1)\n"
   ]
  },
  {
   "cell_type": "code",
   "execution_count": 53,
   "metadata": {},
   "outputs": [
    {
     "data": {
      "text/plain": [
       "(611, 13)"
      ]
     },
     "execution_count": 53,
     "metadata": {},
     "output_type": "execute_result"
    }
   ],
   "source": [
    "cat0_numerical_n.shape"
   ]
  },
  {
   "cell_type": "code",
   "execution_count": 54,
   "metadata": {},
   "outputs": [
    {
     "data": {
      "text/plain": [
       "(611, 45)"
      ]
     },
     "execution_count": 54,
     "metadata": {},
     "output_type": "execute_result"
    }
   ],
   "source": [
    "df.shape"
   ]
  },
  {
   "cell_type": "code",
   "execution_count": 55,
   "metadata": {},
   "outputs": [
    {
     "data": {
      "text/plain": [
       "(269, 45)"
      ]
     },
     "execution_count": 55,
     "metadata": {},
     "output_type": "execute_result"
    }
   ],
   "source": [
    "df2.shape"
   ]
  },
  {
   "cell_type": "code",
   "execution_count": 56,
   "metadata": {},
   "outputs": [],
   "source": [
    "datat=np.concatenate((df,df2), axis=0)\n"
   ]
  },
  {
   "cell_type": "code",
   "execution_count": null,
   "metadata": {},
   "outputs": [],
   "source": []
  },
  {
   "cell_type": "code",
   "execution_count": null,
   "metadata": {},
   "outputs": [],
   "source": [
    "\n",
    "\n"
   ]
  },
  {
   "cell_type": "code",
   "execution_count": 57,
   "metadata": {},
   "outputs": [],
   "source": [
    "X_train, X_test, y_train, y_test = train_test_split(datat, predict, test_size=0.3,random_state=109)"
   ]
  },
  {
   "cell_type": "code",
   "execution_count": 58,
   "metadata": {},
   "outputs": [
    {
     "name": "stdout",
     "output_type": "stream",
     "text": [
      "[[100  80]\n",
      " [ 47  37]]\n",
      "              precision    recall  f1-score   support\n",
      "\n",
      "           0       0.68      0.56      0.61       180\n",
      "           1       0.32      0.44      0.37        84\n",
      "\n",
      "   micro avg       0.52      0.52      0.52       264\n",
      "   macro avg       0.50      0.50      0.49       264\n",
      "weighted avg       0.56      0.52      0.53       264\n",
      "\n",
      "0.5189393939393939\n"
     ]
    }
   ],
   "source": [
    "CL = SVC(kernel='poly',gamma=0.1,class_weight='balanced', C=1)\n",
    "model = CL.fit(X_train,y_train )\n",
    "model.predict(X_test)\n",
    "y_pred = model.predict(X_test)\n",
    "cnf_matrix = metrics.confusion_matrix( y_test, y_pred)\n",
    "print(cnf_matrix)\n",
    "from sklearn.metrics import classification_report\n",
    "print(classification_report(y_test,y_pred))\n",
    "acc = metrics.accuracy_score(y_test, y_pred)\n",
    "print (acc)"
   ]
  },
  {
   "cell_type": "code",
   "execution_count": 28,
   "metadata": {},
   "outputs": [
    {
     "name": "stdout",
     "output_type": "stream",
     "text": [
      "[0.0]\n",
      "[0.48375451263537905]\n"
     ]
    }
   ],
   "source": [
    "from sklearn import tree\n",
    "\n",
    "DT_clf = tree.DecisionTreeClassifier()\n",
    "er_DT = generic_clf(y_train, X_train, y_test, X_test, DT_clf)\n",
    "er_train, er_test, predd = [er_DT[0]], [er_DT[1]], [er_DT[2]]\n",
    "print(er_train)\n",
    "print(er_test)\n",
    "\n",
    "#print(\"Confusion Matrix:\"'\\n',metrics.accuracy_score(y_test, np.array(predd).reshape(len(y_test),1)))\n",
    "#print(classification_report(y_test,predd))\n",
    "#acc = metrics.accuracy_score(y_test, predd)\n"
   ]
  },
  {
   "cell_type": "code",
   "execution_count": null,
   "metadata": {},
   "outputs": [],
   "source": [
    "from sklearn.model_selection import GridSearchCV \n",
    "  \n",
    "# defining parameter range \n",
    "param_grid = {'C': [0.1, 1, 10, 100],  \n",
    "              'gamma': [1, 0.1, 0.01], \n",
    "              'kernel': ['poly','rbf','sigmoid','linear']}  \n",
    "  \n",
    "grid = GridSearchCV(SVC(), param_grid, refit = True, verbose = 3) \n",
    "  \n",
    " #fitting the model for grid search \n",
    "grid.fit(X_train, y_train) "
   ]
  },
  {
   "cell_type": "code",
   "execution_count": 36,
   "metadata": {},
   "outputs": [
    {
     "name": "stdout",
     "output_type": "stream",
     "text": [
      "[0.6046511627906976]\n",
      "[0.6137184115523465]\n",
      "Confusion Matrix:\n",
      " [[ 23 159]\n",
      " [ 11  84]]\n",
      "              precision    recall  f1-score   support\n",
      "\n",
      "           0       0.66      0.98      0.79       182\n",
      "           1       0.25      0.01      0.02        95\n",
      "\n",
      "   micro avg       0.65      0.65      0.65       277\n",
      "   macro avg       0.45      0.50      0.40       277\n",
      "weighted avg       0.52      0.65      0.52       277\n",
      "\n"
     ]
    }
   ],
   "source": [
    "\n",
    "def get_error_rate(pred, Y):\n",
    "    return (sum(pred != Y) / float(len(Y)))\n",
    "\n",
    "def generic_clf(Y_train, X_train, Y_test, X_test, clf):\n",
    "    clf.fit(X_train,Y_train)\n",
    "    pred_train = clf.predict(X_train)\n",
    "    pred_test = clf.predict(X_test)\n",
    "    return get_error_rate(pred_train, Y_train), \\\n",
    "           get_error_rate(pred_test, Y_test), \\\n",
    "            pred_test\n",
    "from sklearn.naive_bayes import GaussianNB\n",
    "gnb_clf = GaussianNB()\n",
    "er_gnb = generic_clf(y_train, X_train, y_test, X_test, gnb_clf)\n",
    "er_train, er_test, predd = [er_gnb[0]], [er_gnb[1]], [er_gnb[2]]\n",
    "print(er_train)\n",
    "print(er_test)\n",
    "\n",
    "print(\"Confusion Matrix:\"'\\n',metrics.confusion_matrix(y_test, np.array(predd).reshape(len(y_test),1)))\n",
    "from sklearn.metrics import classification_report\n",
    "print(classification_report(y_test,y_pred))\n",
    "acc = metrics.accuracy_score(y_test, y_pred)\n",
    "\n"
   ]
  },
  {
   "cell_type": "markdown",
   "metadata": {},
   "source": [
    "from sklearn.discriminant_analysis import LinearDiscriminantAnalysis\n",
    "\n",
    "LDA_clf = LinearDiscriminantAnalysis(solver='lsqr', shrinkage='auto')\n",
    "er_LDA = generic_clf(y_train, X_train, y_test, X_test, LDA_clf)\n",
    "er_train, er_test, predd = [er_LDA[0]], [er_LDA[1]], [er_LDA[2]]\n",
    "print(er_train)\n",
    "print(er_test)\n",
    "print(\"Confusion Matrix:\"'\\n',metrics.confusion_matrix(y_test, np.array(predd).reshape(len(y_test),1)))\n",
    "CL = LinearDiscriminantAnalysis(solver='lsqr', shrinkage='auto')\n",
    "model = CL.fit(X_train,y_train )\n",
    "model.predict(X_test)\n",
    "y_pred = model.predict(X_test)\n",
    "from sklearn.metrics import classification_report\n",
    "print(classification_report(y_test,y_pred))\n",
    "acc = metrics.accuracy_score(y_test, y_pred)\n",
    "print (acc)"
   ]
  },
  {
   "cell_type": "code",
   "execution_count": 35,
   "metadata": {},
   "outputs": [
    {
     "name": "stdout",
     "output_type": "stream",
     "text": [
      "[0.33488372093023255]\n",
      "[0.34296028880866425]\n",
      "Confusion Matrix:\n",
      " [[182   0]\n",
      " [ 95   0]]\n",
      "              precision    recall  f1-score   support\n",
      "\n",
      "           0       0.66      0.98      0.79       182\n",
      "           1       0.25      0.01      0.02        95\n",
      "\n",
      "   micro avg       0.65      0.65      0.65       277\n",
      "   macro avg       0.45      0.50      0.40       277\n",
      "weighted avg       0.52      0.65      0.52       277\n",
      "\n"
     ]
    }
   ],
   "source": [
    "#Random Forest\n",
    "from sklearn.ensemble import RandomForestClassifier\n",
    "\n",
    "RF_clf = RandomForestClassifier(n_estimators=500, max_depth=3, random_state=0)\n",
    "er_RF = generic_clf(y_train, X_train, y_test, X_test, RF_clf)\n",
    "er_train, er_test, predd = [er_RF[0]], [er_RF[1]] ,[er_RF[2]]\n",
    "print(er_train)\n",
    "print(er_test)\n",
    "print(\"Confusion Matrix:\"'\\n',metrics.confusion_matrix(y_test, np.array(predd).reshape(len(y_test),1)))\n",
    "from sklearn.metrics import classification_report\n",
    "print(classification_report(y_test,y_pred))\n",
    "acc = metrics.accuracy_score(y_test, y_pred)"
   ]
  },
  {
   "cell_type": "code",
   "execution_count": 40,
   "metadata": {},
   "outputs": [
    {
     "name": "stdout",
     "output_type": "stream",
     "text": [
      "[0.20155038759689922]\n",
      "[0.4332129963898917]\n",
      "Confusion Matrix:\n",
      " [[135  47]\n",
      " [ 73  22]]\n"
     ]
    },
    {
     "ename": "ValueError",
     "evalue": "Found input variables with inconsistent numbers of samples: [277, 1]",
     "output_type": "error",
     "traceback": [
      "\u001b[1;31m---------------------------------------------------------------------------\u001b[0m",
      "\u001b[1;31mValueError\u001b[0m                                Traceback (most recent call last)",
      "\u001b[1;32m<ipython-input-40-9557f9192478>\u001b[0m in \u001b[0;36m<module>\u001b[1;34m\u001b[0m\n\u001b[0;32m      7\u001b[0m \u001b[0mprint\u001b[0m\u001b[1;33m(\u001b[0m\u001b[1;34m\"Confusion Matrix:\"\u001b[0m\u001b[1;34m'\\n'\u001b[0m\u001b[1;33m,\u001b[0m\u001b[0mmetrics\u001b[0m\u001b[1;33m.\u001b[0m\u001b[0mconfusion_matrix\u001b[0m\u001b[1;33m(\u001b[0m\u001b[0my_test\u001b[0m\u001b[1;33m,\u001b[0m \u001b[0mnp\u001b[0m\u001b[1;33m.\u001b[0m\u001b[0marray\u001b[0m\u001b[1;33m(\u001b[0m\u001b[0mpredd\u001b[0m\u001b[1;33m)\u001b[0m\u001b[1;33m.\u001b[0m\u001b[0mreshape\u001b[0m\u001b[1;33m(\u001b[0m\u001b[0mlen\u001b[0m\u001b[1;33m(\u001b[0m\u001b[0my_test\u001b[0m\u001b[1;33m)\u001b[0m\u001b[1;33m,\u001b[0m\u001b[1;36m1\u001b[0m\u001b[1;33m)\u001b[0m\u001b[1;33m)\u001b[0m\u001b[1;33m)\u001b[0m\u001b[1;33m\u001b[0m\u001b[1;33m\u001b[0m\u001b[0m\n\u001b[0;32m      8\u001b[0m \u001b[1;32mfrom\u001b[0m \u001b[0msklearn\u001b[0m\u001b[1;33m.\u001b[0m\u001b[0mmetrics\u001b[0m \u001b[1;32mimport\u001b[0m \u001b[0mclassification_report\u001b[0m\u001b[1;33m\u001b[0m\u001b[1;33m\u001b[0m\u001b[0m\n\u001b[1;32m----> 9\u001b[1;33m \u001b[0mprint\u001b[0m\u001b[1;33m(\u001b[0m\u001b[0mclassification_report\u001b[0m\u001b[1;33m(\u001b[0m\u001b[0my_test\u001b[0m\u001b[1;33m,\u001b[0m\u001b[0mpredd\u001b[0m\u001b[1;33m)\u001b[0m\u001b[1;33m)\u001b[0m\u001b[1;33m\u001b[0m\u001b[1;33m\u001b[0m\u001b[0m\n\u001b[0m\u001b[0;32m     10\u001b[0m \u001b[0macc\u001b[0m \u001b[1;33m=\u001b[0m \u001b[0mmetrics\u001b[0m\u001b[1;33m.\u001b[0m\u001b[0maccuracy_score\u001b[0m\u001b[1;33m(\u001b[0m\u001b[0my_test\u001b[0m\u001b[1;33m,\u001b[0m\u001b[0mpredd\u001b[0m\u001b[1;33m)\u001b[0m\u001b[1;33m\u001b[0m\u001b[1;33m\u001b[0m\u001b[0m\n",
      "\u001b[1;32mC:\\ProgramData\\Anaconda3\\lib\\site-packages\\sklearn\\metrics\\classification.py\u001b[0m in \u001b[0;36mclassification_report\u001b[1;34m(y_true, y_pred, labels, target_names, sample_weight, digits, output_dict)\u001b[0m\n\u001b[0;32m   1522\u001b[0m     \"\"\"\n\u001b[0;32m   1523\u001b[0m \u001b[1;33m\u001b[0m\u001b[0m\n\u001b[1;32m-> 1524\u001b[1;33m     \u001b[0my_type\u001b[0m\u001b[1;33m,\u001b[0m \u001b[0my_true\u001b[0m\u001b[1;33m,\u001b[0m \u001b[0my_pred\u001b[0m \u001b[1;33m=\u001b[0m \u001b[0m_check_targets\u001b[0m\u001b[1;33m(\u001b[0m\u001b[0my_true\u001b[0m\u001b[1;33m,\u001b[0m \u001b[0my_pred\u001b[0m\u001b[1;33m)\u001b[0m\u001b[1;33m\u001b[0m\u001b[1;33m\u001b[0m\u001b[0m\n\u001b[0m\u001b[0;32m   1525\u001b[0m \u001b[1;33m\u001b[0m\u001b[0m\n\u001b[0;32m   1526\u001b[0m     \u001b[0mlabels_given\u001b[0m \u001b[1;33m=\u001b[0m \u001b[1;32mTrue\u001b[0m\u001b[1;33m\u001b[0m\u001b[1;33m\u001b[0m\u001b[0m\n",
      "\u001b[1;32mC:\\ProgramData\\Anaconda3\\lib\\site-packages\\sklearn\\metrics\\classification.py\u001b[0m in \u001b[0;36m_check_targets\u001b[1;34m(y_true, y_pred)\u001b[0m\n\u001b[0;32m     69\u001b[0m     \u001b[0my_pred\u001b[0m \u001b[1;33m:\u001b[0m \u001b[0marray\u001b[0m \u001b[1;32mor\u001b[0m \u001b[0mindicator\u001b[0m \u001b[0mmatrix\u001b[0m\u001b[1;33m\u001b[0m\u001b[1;33m\u001b[0m\u001b[0m\n\u001b[0;32m     70\u001b[0m     \"\"\"\n\u001b[1;32m---> 71\u001b[1;33m     \u001b[0mcheck_consistent_length\u001b[0m\u001b[1;33m(\u001b[0m\u001b[0my_true\u001b[0m\u001b[1;33m,\u001b[0m \u001b[0my_pred\u001b[0m\u001b[1;33m)\u001b[0m\u001b[1;33m\u001b[0m\u001b[1;33m\u001b[0m\u001b[0m\n\u001b[0m\u001b[0;32m     72\u001b[0m     \u001b[0mtype_true\u001b[0m \u001b[1;33m=\u001b[0m \u001b[0mtype_of_target\u001b[0m\u001b[1;33m(\u001b[0m\u001b[0my_true\u001b[0m\u001b[1;33m)\u001b[0m\u001b[1;33m\u001b[0m\u001b[1;33m\u001b[0m\u001b[0m\n\u001b[0;32m     73\u001b[0m     \u001b[0mtype_pred\u001b[0m \u001b[1;33m=\u001b[0m \u001b[0mtype_of_target\u001b[0m\u001b[1;33m(\u001b[0m\u001b[0my_pred\u001b[0m\u001b[1;33m)\u001b[0m\u001b[1;33m\u001b[0m\u001b[1;33m\u001b[0m\u001b[0m\n",
      "\u001b[1;32mC:\\ProgramData\\Anaconda3\\lib\\site-packages\\sklearn\\utils\\validation.py\u001b[0m in \u001b[0;36mcheck_consistent_length\u001b[1;34m(*arrays)\u001b[0m\n\u001b[0;32m    233\u001b[0m     \u001b[1;32mif\u001b[0m \u001b[0mlen\u001b[0m\u001b[1;33m(\u001b[0m\u001b[0muniques\u001b[0m\u001b[1;33m)\u001b[0m \u001b[1;33m>\u001b[0m \u001b[1;36m1\u001b[0m\u001b[1;33m:\u001b[0m\u001b[1;33m\u001b[0m\u001b[1;33m\u001b[0m\u001b[0m\n\u001b[0;32m    234\u001b[0m         raise ValueError(\"Found input variables with inconsistent numbers of\"\n\u001b[1;32m--> 235\u001b[1;33m                          \" samples: %r\" % [int(l) for l in lengths])\n\u001b[0m\u001b[0;32m    236\u001b[0m \u001b[1;33m\u001b[0m\u001b[0m\n\u001b[0;32m    237\u001b[0m \u001b[1;33m\u001b[0m\u001b[0m\n",
      "\u001b[1;31mValueError\u001b[0m: Found input variables with inconsistent numbers of samples: [277, 1]"
     ]
    }
   ],
   "source": [
    "from sklearn.neighbors import KNeighborsClassifier\n",
    "knn_clf = KNeighborsClassifier(n_neighbors=3)\n",
    "er_knn = generic_clf(y_train, X_train, y_test, X_test, knn_clf)\n",
    "er_train, er_test, predd = [er_knn[0]], [er_knn[1]] , [er_knn[2]]\n",
    "print(er_train)\n",
    "print(er_test)\n",
    "print(\"Confusion Matrix:\"'\\n',metrics.confusion_matrix(y_test, np.array(predd).reshape(len(y_test),1)))\n",
    "from sklearn.metrics import classification_report\n",
    "print(classification_report(y_test,predd))\n",
    "acc = metrics.accuracy_score(y_test,predd)"
   ]
  },
  {
   "cell_type": "code",
   "execution_count": null,
   "metadata": {},
   "outputs": [],
   "source": [
    "methods = ['Support Vector Machine', 'Logistic Regression', 'K Neighbors Classifier', 'Random Forest', 'Gaussian Naive Bayes',\\\n",
    "          'Linear Discriminant Analysis', 'Decision Tree', 'Gradient Boosting',\\\n",
    "      'soft_VotingClassifier','hard_VotingClassifier']\n",
    "    def classifiers(method):\n",
    "    if method == 'Logistic Regression':\n",
    "        CL = LogisticRegression()\n",
    "    if method == 'K Neighbors Classifier':\n",
    "        CL = KNeighborsClassifier(n_neighbors=10)\n",
    "    if method == 'Random Forest':\n",
    "        CL = RandomForestClassifier(max_depth=35)\n",
    "    if method == 'Gaussian Naive Bayes':\n",
    "        CL = GaussianNB()\n",
    "    if method == 'Linear Discriminant Analysis':\n",
    "        CL = LinearDiscriminantAnalysis()\n",
    "    if method == 'Decision Tree':\n",
    "        CL = DecisionTreeClassifier()\n",
    "    if method == 'Support Vector Machine':\n",
    "        CL = SVC(C=0.1, gamma=0.0001, kernel='poly')\n",
    "        \n",
    "    if method == 'soft_VotingClassifier':\n",
    "        cl1 = LogisticRegression()\n",
    "        cl2 = KNeighborsClassifier(n_neighbors=10)\n",
    "        cl3 = RandomForestClassifier(max_depth=35)\n",
    "        cl4 = GaussianNB()\n",
    "        cl5 = LinearDiscriminantAnalysis()\n",
    "        cl6 = DecisionTreeClassifier()\n",
    "        cl7 = SVC(C=0.1, gamma=0.0001, kernel='poly')\n",
    "        cl8 = GradientBoostingClassifier()\n",
    "        estimator = [(method[0],cl1), (method[1],cl2), (method[2],cl3), (method[3],cl4),\\\n",
    "                     (method[4],cl5), (method[5],cl6), (method[6],cl7), (method[7],cl8)]\n",
    "        eclf = VotingClassifier(estimators=estimator,\n",
    "        voting='soft', weights=[5, 5, 10, 5, 6, 8, 4, 10])\n",
    "        \n",
    "    if method == 'hard_VotingClassifier':\n",
    "        cl1 = LogisticRegression()\n",
    "        cl2 = KNeighborsClassifier(n_neighbors=10)\n",
    "        cl3 = RandomForestClassifier(max_depth=35)\n",
    "        cl4 = GaussianNB()\n",
    "        cl5 = LinearDiscriminantAnalysis()\n",
    "        cl6 = DecisionTreeClassifier()\n",
    "        cl7 = SVC(kernel='linear',gamma='scale')\n",
    "        cl8 = GradientBoostingClassifier()\n",
    "        estimator = [(method[0],cl1), (method[1],cl2), (method[2],cl3), (method[3],cl4),\\\n",
    "                     (method[4],cl5), (method[5],cl6), (method[6],cl7), (method[7],cl8)]\n",
    "        eclf = VotingClassifier(estimators=estimator, voting='hard')        \n",
    "    print(type(CL))\n",
    "    accList = []\n"
   ]
  },
  {
   "cell_type": "code",
   "execution_count": null,
   "metadata": {},
   "outputs": [],
   "source": []
  }
 ],
 "metadata": {
  "kernelspec": {
   "display_name": "Python 3",
   "language": "python",
   "name": "python3"
  },
  "language_info": {
   "codemirror_mode": {
    "name": "ipython",
    "version": 3
   },
   "file_extension": ".py",
   "mimetype": "text/x-python",
   "name": "python",
   "nbconvert_exporter": "python",
   "pygments_lexer": "ipython3",
   "version": "3.7.3"
  }
 },
 "nbformat": 4,
 "nbformat_minor": 2
}
